{
 "cells": [
  {
   "cell_type": "markdown",
   "id": "89f89196",
   "metadata": {
    "papermill": {
     "duration": 0.015687,
     "end_time": "2022-06-02T02:04:34.222325",
     "exception": false,
     "start_time": "2022-06-02T02:04:34.206638",
     "status": "completed"
    },
    "tags": []
   },
   "source": [
    "# モデルチューニング"
   ]
  },
  {
   "cell_type": "markdown",
   "id": "29462af7",
   "metadata": {
    "papermill": {
     "duration": 0.022478,
     "end_time": "2022-06-02T02:05:07.140440",
     "exception": false,
     "start_time": "2022-06-02T02:05:07.117962",
     "status": "completed"
    },
    "tags": []
   },
   "source": [
    "##scikit-learnの各種モデル利用"
   ]
  },
  {
   "cell_type": "code",
   "execution_count": 1,
   "id": "6714225a-2bfa-4443-a12d-824fcfba5ff9",
   "metadata": {
    "scrolled": true
   },
   "outputs": [
    {
     "name": "stdout",
     "output_type": "stream",
     "text": [
      "Requirement already satisfied: japanize-matplotlib in c:\\users\\akiyosi honma\\anaconda3\\lib\\site-packages (1.1.3)\n",
      "Requirement already satisfied: matplotlib in c:\\users\\akiyosi honma\\anaconda3\\lib\\site-packages (from japanize-matplotlib) (3.7.1)\n",
      "Requirement already satisfied: contourpy>=1.0.1 in c:\\users\\akiyosi honma\\anaconda3\\lib\\site-packages (from matplotlib->japanize-matplotlib) (1.2.0)\n",
      "Requirement already satisfied: cycler>=0.10 in c:\\users\\akiyosi honma\\anaconda3\\lib\\site-packages (from matplotlib->japanize-matplotlib) (0.11.0)\n",
      "Requirement already satisfied: fonttools>=4.22.0 in c:\\users\\akiyosi honma\\anaconda3\\lib\\site-packages (from matplotlib->japanize-matplotlib) (4.25.0)\n",
      "Requirement already satisfied: kiwisolver>=1.0.1 in c:\\users\\akiyosi honma\\anaconda3\\lib\\site-packages (from matplotlib->japanize-matplotlib) (1.4.4)\n",
      "Requirement already satisfied: numpy>=1.20 in c:\\users\\akiyosi honma\\anaconda3\\lib\\site-packages (from matplotlib->japanize-matplotlib) (1.26.4)\n",
      "Requirement already satisfied: packaging>=20.0 in c:\\users\\akiyosi honma\\anaconda3\\lib\\site-packages (from matplotlib->japanize-matplotlib) (23.1)\n",
      "Requirement already satisfied: pillow>=6.2.0 in c:\\users\\akiyosi honma\\anaconda3\\lib\\site-packages (from matplotlib->japanize-matplotlib) (10.2.0)\n",
      "Requirement already satisfied: pyparsing>=2.3.1 in c:\\users\\akiyosi honma\\anaconda3\\lib\\site-packages (from matplotlib->japanize-matplotlib) (3.0.9)\n",
      "Requirement already satisfied: python-dateutil>=2.7 in c:\\users\\akiyosi honma\\anaconda3\\lib\\site-packages (from matplotlib->japanize-matplotlib) (2.8.2)\n",
      "Requirement already satisfied: six>=1.5 in c:\\users\\akiyosi honma\\anaconda3\\lib\\site-packages (from python-dateutil>=2.7->matplotlib->japanize-matplotlib) (1.16.0)\n"
     ]
    }
   ],
   "source": [
    "import numpy as np\n",
    "import pandas as pd\n",
    "import os\n",
    "import pickle\n",
    "import gc \n",
    "\n",
    "# 分布確認  anacondaでは、一先ず、コメントにする。\n",
    "#import pandas_profiling as pdp\n",
    "\n",
    "# 可視化\n",
    "import matplotlib.pyplot as plt\n",
    "\n",
    "# 前処理\n",
    "from sklearn.preprocessing import StandardScaler, MinMaxScaler, LabelEncoder, OneHotEncoder\n",
    "\n",
    "# バリデーション\n",
    "from sklearn.model_selection import train_test_split, KFold, StratifiedKFold\n",
    "\n",
    "# 評価指標\n",
    "from sklearn.metrics import accuracy_score, roc_auc_score, confusion_matrix\n",
    "\n",
    "# モデリング: lightgbm\n",
    "import lightgbm as lgb\n",
    "\n",
    "import warnings\n",
    "warnings.filterwarnings(\"ignore\")\n",
    "\n",
    "# matplotilbで日本語表示したい場合はこれをinstallしてインポートする\n",
    "!pip install japanize-matplotlib\n",
    "import japanize_matplotlib\n",
    "%matplotlib inline"
   ]
  },
  {
   "cell_type": "markdown",
   "id": "28b1f2c6",
   "metadata": {
    "papermill": {
     "duration": 0.022258,
     "end_time": "2022-06-02T02:05:07.185322",
     "exception": false,
     "start_time": "2022-06-02T02:05:07.163064",
     "status": "completed"
    },
    "tags": []
   },
   "source": [
    "#### ファイル読み込みとデータセット作成"
   ]
  },
  {
   "cell_type": "code",
   "execution_count": 2,
   "id": "87685c80",
   "metadata": {
    "papermill": {
     "duration": 0.040856,
     "end_time": "2022-06-02T02:05:07.248989",
     "exception": false,
     "start_time": "2022-06-02T02:05:07.208133",
     "status": "completed"
    },
    "tags": []
   },
   "outputs": [],
   "source": [
    "# ファイル読み込み\n",
    "df_train = pd.read_csv(\"Bank Churn/train.csv\")\n",
    "\n",
    "#特徴量エンジニアリング\n",
    "df_train[\"NumOfProducts_/_Age\"] = df_train[\"NumOfProducts\"] / df_train[\"Age\"]\n",
    "\n",
    "# BalanceとNumOfProductsの四則計算の特徴量作成　（数値変数×数値変数）\n",
    "df_train[\"Balance_-_NumOfProducts\"] = df_train[\"Balance\"] - df_train[\"NumOfProducts\"]\n",
    "# HasCrCardとNumOfProductsの平均値生成　(数値変数xカテゴリ変数)\n",
    "df_train[\"mean_NumOfProducts_by_HasCrCard\"] = df_train.groupby(\"NumOfProducts\")[\"HasCrCard\"].transform(\"mean\")\n",
    "\n"
   ]
  },
  {
   "cell_type": "code",
   "execution_count": 3,
   "id": "dbfe9fe0-204c-47e1-9b2c-1451ae1cc38a",
   "metadata": {},
   "outputs": [
    {
     "data": {
      "text/html": [
       "<div>\n",
       "<style scoped>\n",
       "    .dataframe tbody tr th:only-of-type {\n",
       "        vertical-align: middle;\n",
       "    }\n",
       "\n",
       "    .dataframe tbody tr th {\n",
       "        vertical-align: top;\n",
       "    }\n",
       "\n",
       "    .dataframe thead th {\n",
       "        text-align: right;\n",
       "    }\n",
       "</style>\n",
       "<table border=\"1\" class=\"dataframe\">\n",
       "  <thead>\n",
       "    <tr style=\"text-align: right;\">\n",
       "      <th></th>\n",
       "      <th>Gender</th>\n",
       "      <th>Gender_Female</th>\n",
       "      <th>Gender_Male</th>\n",
       "    </tr>\n",
       "  </thead>\n",
       "  <tbody>\n",
       "    <tr>\n",
       "      <th>0</th>\n",
       "      <td>Male</td>\n",
       "      <td>0.0</td>\n",
       "      <td>1.0</td>\n",
       "    </tr>\n",
       "    <tr>\n",
       "      <th>1</th>\n",
       "      <td>Male</td>\n",
       "      <td>0.0</td>\n",
       "      <td>1.0</td>\n",
       "    </tr>\n",
       "    <tr>\n",
       "      <th>2</th>\n",
       "      <td>Male</td>\n",
       "      <td>0.0</td>\n",
       "      <td>1.0</td>\n",
       "    </tr>\n",
       "    <tr>\n",
       "      <th>3</th>\n",
       "      <td>Male</td>\n",
       "      <td>0.0</td>\n",
       "      <td>1.0</td>\n",
       "    </tr>\n",
       "    <tr>\n",
       "      <th>4</th>\n",
       "      <td>Male</td>\n",
       "      <td>0.0</td>\n",
       "      <td>1.0</td>\n",
       "    </tr>\n",
       "    <tr>\n",
       "      <th>...</th>\n",
       "      <td>...</td>\n",
       "      <td>...</td>\n",
       "      <td>...</td>\n",
       "    </tr>\n",
       "    <tr>\n",
       "      <th>165029</th>\n",
       "      <td>Female</td>\n",
       "      <td>1.0</td>\n",
       "      <td>0.0</td>\n",
       "    </tr>\n",
       "    <tr>\n",
       "      <th>165030</th>\n",
       "      <td>Male</td>\n",
       "      <td>0.0</td>\n",
       "      <td>1.0</td>\n",
       "    </tr>\n",
       "    <tr>\n",
       "      <th>165031</th>\n",
       "      <td>Male</td>\n",
       "      <td>0.0</td>\n",
       "      <td>1.0</td>\n",
       "    </tr>\n",
       "    <tr>\n",
       "      <th>165032</th>\n",
       "      <td>Female</td>\n",
       "      <td>1.0</td>\n",
       "      <td>0.0</td>\n",
       "    </tr>\n",
       "    <tr>\n",
       "      <th>165033</th>\n",
       "      <td>Male</td>\n",
       "      <td>0.0</td>\n",
       "      <td>1.0</td>\n",
       "    </tr>\n",
       "  </tbody>\n",
       "</table>\n",
       "<p>165034 rows × 3 columns</p>\n",
       "</div>"
      ],
      "text/plain": [
       "        Gender  Gender_Female  Gender_Male\n",
       "0         Male            0.0          1.0\n",
       "1         Male            0.0          1.0\n",
       "2         Male            0.0          1.0\n",
       "3         Male            0.0          1.0\n",
       "4         Male            0.0          1.0\n",
       "...        ...            ...          ...\n",
       "165029  Female            1.0          0.0\n",
       "165030    Male            0.0          1.0\n",
       "165031    Male            0.0          1.0\n",
       "165032  Female            1.0          0.0\n",
       "165033    Male            0.0          1.0\n",
       "\n",
       "[165034 rows x 3 columns]"
      ]
     },
     "execution_count": 3,
     "metadata": {},
     "output_type": "execute_result"
    }
   ],
   "source": [
    "### OneHotEncoderのインスタンスを作成し、sparse=Falseで密行列を指定\n",
    "ohe_Gender=OneHotEncoder(sparse=False)\n",
    "\n",
    "### OneHotEncoderを訓練データの\"Gendet\"列に適させる\n",
    "ohe_Gender.fit(df_train[[\"Gender\"]])\n",
    "### OneHotエンコーディングされた特徴量を含むDataFrameを作成し、列名を指定\n",
    "tmp_Gender = pd.DataFrame(\n",
    "    ### OneHotエンコーディングを実行し、結果をDataFrameに保存\n",
    "    ohe_Gender.transform(df_train[[\"Gender\"]]), \n",
    "    ### 列名を \"Embarked_0\", \"Embarked_1\" などに設定\n",
    "    columns=[\"Gender_{}\".format(i) for i in ohe_Gender.categories_[0]],\n",
    ")\n",
    "\n",
    "### 元のデータフレームとOneHotエンコーディングされた特徴量を結合\n",
    "df_train = pd.concat([df_train, tmp_Gender], axis=1)\n",
    "\n",
    "### \"Embarked\"列とOne-Hotエンコーディングされた列を抽出して表示\n",
    "df_train[[\"Gender\",\"Gender_Female\",\"Gender_Male\"]]"
   ]
  },
  {
   "cell_type": "code",
   "execution_count": 4,
   "id": "b62d9491-8d2f-467f-ad80-fa047977a303",
   "metadata": {},
   "outputs": [
    {
     "name": "stdout",
     "output_type": "stream",
     "text": [
      "   Gender_Male  IsActiveMember  Gender_Male_+_Active\n",
      "0          1.0             0.0                   1.0\n",
      "1          1.0             1.0                   2.0\n",
      "2          1.0             0.0                   1.0\n",
      "3          1.0             1.0                   2.0\n",
      "4          1.0             1.0                   2.0\n"
     ]
    }
   ],
   "source": [
    "##特徴量追加　　数値×数値\n",
    "# Gender_MaleとIsActiveMemberを組み合わせて新しい特徴量を生成(加)\n",
    "df_train[\"Gender_Male_+_Active\"] = df_train[\"Gender_Male\"] + df_train[\"IsActiveMember\"]\n",
    "\n",
    "# 新しい特徴量の確認\n",
    "print(df_train[[\"Gender_Male\", \"IsActiveMember\", \"Gender_Male_+_Active\"]].head())"
   ]
  },
  {
   "cell_type": "code",
   "execution_count": 5,
   "id": "26713912-1495-4038-b8fd-d0d431d50157",
   "metadata": {},
   "outputs": [],
   "source": [
    "\n",
    "# データセット作成\n",
    "x_train = df_train[[\"IsActiveMember\",\"EstimatedSalary\",\"Age\",\"NumOfProducts\",\"NumOfProducts_/_Age\",\"Balance\",\"Balance_-_NumOfProducts\",\n",
    "                    \"mean_NumOfProducts_by_HasCrCard\",\"Gender_Male_+_Active\"]]\n",
    "y_train = df_train[[\"Exited\"]]\n"
   ]
  },
  {
   "cell_type": "markdown",
   "id": "b5dd46a0",
   "metadata": {
    "papermill": {
     "duration": 0.022514,
     "end_time": "2022-06-02T02:05:07.557814",
     "exception": false,
     "start_time": "2022-06-02T02:05:07.535300",
     "status": "completed"
    },
    "tags": []
   },
   "source": [
    "#### 数値データの正規化"
   ]
  },
  {
   "cell_type": "code",
   "execution_count": 6,
   "id": "14a53e10",
   "metadata": {
    "papermill": {
     "duration": 0.036627,
     "end_time": "2022-06-02T02:05:07.617111",
     "exception": false,
     "start_time": "2022-06-02T02:05:07.580484",
     "status": "completed"
    },
    "tags": []
   },
   "outputs": [],
   "source": [
    "##上の追加した特徴量の正規化から\n",
    "### \"数値データの特徴量列の値を最小値で引き、その結果を\"数値データの特徴量列の最大値と最小値の差で割ることで、最小-最大スケーリングを実行\n",
    "x_train[\"IsActiveMember\"] = (x_train[\"IsActiveMember\"] - x_train[\"IsActiveMember\"].min()) / (x_train[\"IsActiveMember\"].max() - x_train[\"IsActiveMember\"].min()) \n",
    "\n",
    "x_train[\"EstimatedSalary\"] = (x_train[\"EstimatedSalary\"] - x_train[\"EstimatedSalary\"].min()) / (x_train[\"EstimatedSalary\"].max() - x_train[\"EstimatedSalary\"].min())\n",
    "\n",
    "x_train[\"Age\"] = (x_train[\"Age\"] - x_train[\"Age\"].min()) / (x_train[\"Age\"].max() - x_train[\"Age\"].min())\n",
    "\n",
    "x_train[\"NumOfProducts\"] = (x_train[\"NumOfProducts\"] - x_train[\"NumOfProducts\"].min()) / (x_train[\"NumOfProducts\"].max() - x_train[\"NumOfProducts\"].min())\n",
    "\n",
    "x_train[\"NumOfProducts_/_Age\"] = (x_train[\"NumOfProducts_/_Age\"] - x_train[\"NumOfProducts_/_Age\"].min()) / (x_train[\"NumOfProducts_/_Age\"].max() - x_train[\"NumOfProducts_/_Age\"].min())\n",
    "x_train[\"Balance\"] = (x_train[\"Balance\"] - x_train[\"Balance\"].min()) / (x_train[\"Balance\"].max() - x_train[\"Balance\"].min())\n",
    "\n",
    "x_train[\"Balance_-_NumOfProducts\"] = (x_train[\"Balance_-_NumOfProducts\"] - x_train[\"Balance_-_NumOfProducts\"].min()) / (x_train[\"Balance_-_NumOfProducts\"].max() - x_train[\"Balance_-_NumOfProducts\"].min())\n",
    "\n",
    "x_train[\"mean_NumOfProducts_by_HasCrCard\"] = (x_train[\"mean_NumOfProducts_by_HasCrCard\"] - x_train[\"mean_NumOfProducts_by_HasCrCard\"].min()) / (x_train[\"mean_NumOfProducts_by_HasCrCard\"].max() - x_train[\"mean_NumOfProducts_by_HasCrCard\"].min())\n",
    "\n",
    "x_train[\"Gender_Male_+_Active\"] = (x_train[\"Gender_Male_+_Active\"] - x_train[\"Gender_Male_+_Active\"].min()) / (x_train[\"Gender_Male_+_Active\"].max() - x_train[\"Gender_Male_+_Active\"].min())\n",
    "\n"
   ]
  },
  {
   "cell_type": "markdown",
   "id": "4f04fe0d",
   "metadata": {
    "papermill": {
     "duration": 0.024931,
     "end_time": "2022-06-02T02:05:07.669286",
     "exception": false,
     "start_time": "2022-06-02T02:05:07.644355",
     "status": "completed"
    },
    "tags": []
   },
   "source": [
    "#### 学習データと検証データの分割（ホールドアウト検証）"
   ]
  },
  {
   "cell_type": "code",
   "execution_count": 7,
   "id": "d8847e9c",
   "metadata": {
    "papermill": {
     "duration": 0.047177,
     "end_time": "2022-06-02T02:05:07.745504",
     "exception": false,
     "start_time": "2022-06-02T02:05:07.698327",
     "status": "completed"
    },
    "scrolled": true,
    "tags": []
   },
   "outputs": [
    {
     "name": "stdout",
     "output_type": "stream",
     "text": [
      "(132027, 9) (33007, 9) (132027, 1) (33007, 1)\n"
     ]
    }
   ],
   "source": [
    "x_tr, x_va, y_tr, y_va = train_test_split(x_train, y_train, test_size=0.2,stratify=y_train,random_state=123)\n",
    "print(x_tr.shape, x_va.shape, y_tr.shape, y_va.shape)"
   ]
  },
  {
   "cell_type": "markdown",
   "id": "35e0a173-0a05-4a2d-98f4-4e63c7d9992b",
   "metadata": {},
   "source": [
    "# モデル学習　　必要に応じて以下のモデルを使用する。"
   ]
  },
  {
   "cell_type": "markdown",
   "id": "ce955f8c",
   "metadata": {
    "papermill": {
     "duration": 0.021809,
     "end_time": "2022-06-02T02:05:07.789951",
     "exception": false,
     "start_time": "2022-06-02T02:05:07.768142",
     "status": "completed"
    },
    "tags": []
   },
   "source": [
    "#### LogisticRegression(線形回帰)"
   ]
  },
  {
   "cell_type": "code",
   "execution_count": 8,
   "id": "f7bc25cb-0aac-41f2-8e42-4cdf294cda8f",
   "metadata": {
    "papermill": {
     "duration": 0.047339,
     "end_time": "2022-06-02T02:05:07.859750",
     "exception": false,
     "start_time": "2022-06-02T02:05:07.812411",
     "status": "completed"
    },
    "tags": []
   },
   "outputs": [
    {
     "name": "stdout",
     "output_type": "stream",
     "text": [
      "accuracy:0.8563\n",
      "[0.71531069 0.11442243 0.2120805  0.04526581 0.11609275]\n"
     ]
    }
   ],
   "source": [
    "### scikit-learnライブラリからロジスティック回帰モデルをインポート\n",
    "from sklearn.linear_model import LogisticRegression\n",
    "\n",
    "### ロジスティック回帰モデルのインスタンスを作成し、変数model_logisに代入\n",
    "model_logis = LogisticRegression()\n",
    "\n",
    "### 訓練データ x_tr とそのラベル y_tr を使ってロジスティック回帰モデルを学習\n",
    "model_logis.fit(x_tr, y_tr)\n",
    "\n",
    "### 学習済みのロジスティック回帰モデルを使って検証データ x_va の予測を行い、予測結果を y_va_pred に格納\n",
    "y_va_pred = model_logis.predict_proba(x_va)[:,1]\n",
    "\n",
    "### 予測の精度を計算し表示。accuracy_score関数は予測結果と正解ラベルの一致率を計算\n",
    "print(\"accuracy:{:.4f}\".format(roc_auc_score(y_va, y_va_pred)))\n",
    "\n",
    "### 検証データの最初の5つのサンプルに対する予測結果を表示\n",
    "print(y_va_pred[:5])"
   ]
  },
  {
   "cell_type": "code",
   "execution_count": null,
   "id": "793a46a4-7f60-4ebf-8ef0-47bf19514009",
   "metadata": {},
   "outputs": [],
   "source": [
    "#### 確率値の取得"
   ]
  },
  {
   "cell_type": "code",
   "execution_count": 9,
   "id": "2969d7fa-4779-4d8f-b9ea-cddec8508c57",
   "metadata": {},
   "outputs": [
    {
     "name": "stdout",
     "output_type": "stream",
     "text": [
      "[0.71531069 0.11442243 0.2120805  0.04526581 0.11609275]\n"
     ]
    }
   ],
   "source": [
    "### ロジスティック回帰モデルを使って、検証データセット x_va に対する各サンプルのクラスの予測確率を計算\n",
    "y_va_pred_proba = model_logis.predict_proba(x_va)[:, 1]\n",
    "\n",
    "### 最初の5つのサンプルの予測確率を取得し、出力\n",
    "print(y_va_pred_proba[:5])"
   ]
  },
  {
   "cell_type": "markdown",
   "id": "8301203e-fbff-40d6-91b7-2b2c4482fae4",
   "metadata": {},
   "source": [
    "##分類：ランダムフォレスト"
   ]
  },
  {
   "cell_type": "code",
   "execution_count": 10,
   "id": "8fe61c60-9bdc-4050-ae40-517879f0a8bf",
   "metadata": {},
   "outputs": [
    {
     "name": "stdout",
     "output_type": "stream",
     "text": [
      "accuracy:0.8331\n",
      "[0.23 0.32 0.24 0.01 0.  ]\n"
     ]
    }
   ],
   "source": [
    "from sklearn.ensemble import RandomForestClassifier\n",
    "\n",
    "# ランダムフォレストの学習モデルを作る（訓練データで）\n",
    "model_logis = RandomForestClassifier()\n",
    "model_logis.fit(x_tr, y_tr)\n",
    "\n",
    "# 正解率を調べる（テストデータで）\n",
    "y_va_pred = model_logis.predict_proba(x_va)[:,1]\n",
    "\n",
    "\n",
    "### 予測の精度を計算し表示。accuracy_score関数は予測結果と正解ラベルの一致率を計算\n",
    "print(\"accuracy:{:.4f}\".format(roc_auc_score(y_va, y_va_pred)))\n",
    "\n",
    "### 検証データの最初の5つのサンプルに対する予測結果を表示\n",
    "print(y_va_pred[:5])\n",
    "\n"
   ]
  },
  {
   "cell_type": "markdown",
   "id": "3b5d430e-b794-4802-a602-6a4815548cee",
   "metadata": {},
   "source": [
    "##決定木"
   ]
  },
  {
   "cell_type": "code",
   "execution_count": 11,
   "id": "de5652b9-25ea-46ea-83b8-8e7bed11de23",
   "metadata": {},
   "outputs": [
    {
     "name": "stdout",
     "output_type": "stream",
     "text": [
      "accuracy:0.6960\n",
      "[1. 1. 0. 0. 0.]\n"
     ]
    }
   ],
   "source": [
    "from sklearn.tree import DecisionTreeClassifier\n",
    "\n",
    "\n",
    "# 決定木の学習モデルを作る（訓練データで）\n",
    "model_logis = DecisionTreeClassifier(max_depth=None, random_state=0)\n",
    "model_logis.fit(x_tr, y_tr)\n",
    "\n",
    "# 正解率を調べる（テストデータで）\n",
    "y_va_pred = model_logis.predict_proba(x_va)[:,1]\n",
    "\n",
    "### 予測の精度を計算し表示。accuracy_score関数は予測結果と正解ラベルの一致率を計算\n",
    "print(\"accuracy:{:.4f}\".format(roc_auc_score(y_va, y_va_pred)))\n",
    "\n",
    "### 検証データの最初の5つのサンプルに対する予測結果を表示\n",
    "print(y_va_pred[:5])\n",
    "\n"
   ]
  },
  {
   "cell_type": "markdown",
   "id": "14338e55",
   "metadata": {
    "papermill": {
     "duration": 0.021934,
     "end_time": "2022-06-02T02:05:07.904039",
     "exception": false,
     "start_time": "2022-06-02T02:05:07.882105",
     "status": "completed"
    },
    "tags": []
   },
   "source": [
    "#### 確率値の取得"
   ]
  },
  {
   "cell_type": "code",
   "execution_count": 12,
   "id": "fc48082d",
   "metadata": {
    "papermill": {
     "duration": 0.034042,
     "end_time": "2022-06-02T02:05:07.960172",
     "exception": false,
     "start_time": "2022-06-02T02:05:07.926130",
     "status": "completed"
    },
    "tags": []
   },
   "outputs": [
    {
     "name": "stdout",
     "output_type": "stream",
     "text": [
      "[1. 1. 0. 0. 0.]\n"
     ]
    }
   ],
   "source": [
    "### 検証データセット x_va に対する各サンプルのクラスの予測確率を計算\n",
    "y_va_pred_proba = model_logis.predict_proba(x_va)[:, 1]\n",
    "\n",
    "### 最初の5つのサンプルの予測確率を取得し、出力\n",
    "print(y_va_pred_proba[:5])"
   ]
  },
  {
   "cell_type": "markdown",
   "id": "62078c83-d584-48fa-a0f9-31b3feb3dc0f",
   "metadata": {},
   "source": [
    "##推論用ファイル読み込みとデータセットを作成"
   ]
  },
  {
   "cell_type": "code",
   "execution_count": 13,
   "id": "37b5c81e-d701-478b-b3af-0a0200652aa1",
   "metadata": {},
   "outputs": [],
   "source": [
    "# ファイル読み込み\n",
    "df_test = pd.read_csv(\"Bank Churn/test.csv\")\n",
    "\n",
    "#特徴量エンジニアリング\n",
    "df_test[\"NumOfProducts_/_Age\"] = df_test[\"NumOfProducts\"] / df_test[\"Age\"]\n",
    "\n",
    "# BalanceとNumOfProductsの四則計算の特徴量作成　（数値変数×数値変数）\n",
    "df_test[\"Balance_-_NumOfProducts\"] = df_test[\"Balance\"] - df_test[\"NumOfProducts\"]\n",
    "\n",
    "# HasCrCardとNumOfProductsの平均値生成　(数値変数xカテゴリ変数)\n",
    "df_test[\"mean_NumOfProducts_by_HasCrCard\"] = df_test.groupby(\"NumOfProducts\")[\"HasCrCard\"].transform(\"mean\")\n",
    "\n"
   ]
  },
  {
   "cell_type": "code",
   "execution_count": 14,
   "id": "fe015fad-7e55-42f0-8657-400cac1e21c4",
   "metadata": {},
   "outputs": [
    {
     "data": {
      "text/html": [
       "<div>\n",
       "<style scoped>\n",
       "    .dataframe tbody tr th:only-of-type {\n",
       "        vertical-align: middle;\n",
       "    }\n",
       "\n",
       "    .dataframe tbody tr th {\n",
       "        vertical-align: top;\n",
       "    }\n",
       "\n",
       "    .dataframe thead th {\n",
       "        text-align: right;\n",
       "    }\n",
       "</style>\n",
       "<table border=\"1\" class=\"dataframe\">\n",
       "  <thead>\n",
       "    <tr style=\"text-align: right;\">\n",
       "      <th></th>\n",
       "      <th>Gender</th>\n",
       "      <th>Gender_Female</th>\n",
       "      <th>Gender_Male</th>\n",
       "    </tr>\n",
       "  </thead>\n",
       "  <tbody>\n",
       "    <tr>\n",
       "      <th>0</th>\n",
       "      <td>Female</td>\n",
       "      <td>1.0</td>\n",
       "      <td>0.0</td>\n",
       "    </tr>\n",
       "    <tr>\n",
       "      <th>1</th>\n",
       "      <td>Female</td>\n",
       "      <td>1.0</td>\n",
       "      <td>0.0</td>\n",
       "    </tr>\n",
       "    <tr>\n",
       "      <th>2</th>\n",
       "      <td>Female</td>\n",
       "      <td>1.0</td>\n",
       "      <td>0.0</td>\n",
       "    </tr>\n",
       "    <tr>\n",
       "      <th>3</th>\n",
       "      <td>Male</td>\n",
       "      <td>0.0</td>\n",
       "      <td>1.0</td>\n",
       "    </tr>\n",
       "    <tr>\n",
       "      <th>4</th>\n",
       "      <td>Male</td>\n",
       "      <td>0.0</td>\n",
       "      <td>1.0</td>\n",
       "    </tr>\n",
       "    <tr>\n",
       "      <th>...</th>\n",
       "      <td>...</td>\n",
       "      <td>...</td>\n",
       "      <td>...</td>\n",
       "    </tr>\n",
       "    <tr>\n",
       "      <th>110018</th>\n",
       "      <td>Male</td>\n",
       "      <td>0.0</td>\n",
       "      <td>1.0</td>\n",
       "    </tr>\n",
       "    <tr>\n",
       "      <th>110019</th>\n",
       "      <td>Female</td>\n",
       "      <td>1.0</td>\n",
       "      <td>0.0</td>\n",
       "    </tr>\n",
       "    <tr>\n",
       "      <th>110020</th>\n",
       "      <td>Male</td>\n",
       "      <td>0.0</td>\n",
       "      <td>1.0</td>\n",
       "    </tr>\n",
       "    <tr>\n",
       "      <th>110021</th>\n",
       "      <td>Female</td>\n",
       "      <td>1.0</td>\n",
       "      <td>0.0</td>\n",
       "    </tr>\n",
       "    <tr>\n",
       "      <th>110022</th>\n",
       "      <td>Female</td>\n",
       "      <td>1.0</td>\n",
       "      <td>0.0</td>\n",
       "    </tr>\n",
       "  </tbody>\n",
       "</table>\n",
       "<p>110023 rows × 3 columns</p>\n",
       "</div>"
      ],
      "text/plain": [
       "        Gender  Gender_Female  Gender_Male\n",
       "0       Female            1.0          0.0\n",
       "1       Female            1.0          0.0\n",
       "2       Female            1.0          0.0\n",
       "3         Male            0.0          1.0\n",
       "4         Male            0.0          1.0\n",
       "...        ...            ...          ...\n",
       "110018    Male            0.0          1.0\n",
       "110019  Female            1.0          0.0\n",
       "110020    Male            0.0          1.0\n",
       "110021  Female            1.0          0.0\n",
       "110022  Female            1.0          0.0\n",
       "\n",
       "[110023 rows x 3 columns]"
      ]
     },
     "execution_count": 14,
     "metadata": {},
     "output_type": "execute_result"
    }
   ],
   "source": [
    "### OneHotEncoderのインスタンスを作成し、sparse=Falseで密行列を指定\n",
    "ohe_Gender=OneHotEncoder(sparse=False)\n",
    "\n",
    "### OneHotEncoderを訓練データの\"Gendet\"列に適させる\n",
    "ohe_Gender.fit(df_test[[\"Gender\"]])\n",
    "### OneHotエンコーディングされた特徴量を含むDataFrameを作成し、列名を指定\n",
    "tmp_Gender = pd.DataFrame(\n",
    "    ### OneHotエンコーディングを実行し、結果をDataFrameに保存\n",
    "    ohe_Gender.transform(df_test[[\"Gender\"]]), \n",
    "    ### 列名を \"Embarked_0\", \"Embarked_1\" などに設定\n",
    "    columns=[\"Gender_{}\".format(i) for i in ohe_Gender.categories_[0]],\n",
    ")\n",
    "\n",
    "### 元のデータフレームとOneHotエンコーディングされた特徴量を結合\n",
    "df_test = pd.concat([df_test, tmp_Gender], axis=1)\n",
    "\n",
    "### \"Embarked\"列とOne-Hotエンコーディングされた列を抽出して表示\n",
    "df_test[[\"Gender\",\"Gender_Female\",\"Gender_Male\"]]"
   ]
  },
  {
   "cell_type": "code",
   "execution_count": 15,
   "id": "3f0f670c-86bd-4372-a61b-725d7c4c0b68",
   "metadata": {},
   "outputs": [
    {
     "name": "stdout",
     "output_type": "stream",
     "text": [
      "   Gender_Male  IsActiveMember  Gender_Male_+_Active\n",
      "0          0.0             1.0                   1.0\n",
      "1          0.0             0.0                   0.0\n",
      "2          0.0             0.0                   0.0\n",
      "3          1.0             0.0                   1.0\n",
      "4          1.0             0.0                   1.0\n"
     ]
    }
   ],
   "source": [
    "##特徴量追加　　数値×数値\n",
    "# Gender_MaleとIsActiveMemberを組み合わせて新しい特徴量を生成(加)\n",
    "df_test[\"Gender_Male_+_Active\"] = df_test[\"Gender_Male\"] + df_test[\"IsActiveMember\"]\n",
    "\n",
    "# 新しい特徴量の確認\n",
    "print(df_test[[\"Gender_Male\", \"IsActiveMember\", \"Gender_Male_+_Active\"]].head())"
   ]
  },
  {
   "cell_type": "code",
   "execution_count": 16,
   "id": "8265e38f-549f-4af0-ab9d-36151de05207",
   "metadata": {},
   "outputs": [],
   "source": [
    "# データセット作成\n",
    "x_test = df_test[[\"IsActiveMember\",\"EstimatedSalary\",\"Age\",\"NumOfProducts\",\"NumOfProducts_/_Age\",\"Balance\",\n",
    "                  \"Balance_-_NumOfProducts\",\"mean_NumOfProducts_by_HasCrCard\",\"Gender_Male_+_Active\"]]\n",
    "id_test = df_test[[\"id\"]]\n",
    "\n",
    "#\"Balance_-_NumOfProducts\""
   ]
  },
  {
   "cell_type": "markdown",
   "id": "f2b8355c-aafa-47ca-af4e-70a8ae03625a",
   "metadata": {},
   "source": [
    "##推論用　数値データの正規化"
   ]
  },
  {
   "cell_type": "code",
   "execution_count": 17,
   "id": "1fb6e479-43eb-4c3b-80d0-1812eb2aed68",
   "metadata": {},
   "outputs": [],
   "source": [
    "x_test[\"IsActiveMember\"] = (x_test[\"IsActiveMember\"] - x_test[\"IsActiveMember\"].min()) / (x_test[\"IsActiveMember\"].max() - x_test[\"IsActiveMember\"].min()) \n",
    "\n",
    "x_test[\"EstimatedSalary\"] = (x_test[\"EstimatedSalary\"] - x_test[\"EstimatedSalary\"].min()) / (x_test[\"EstimatedSalary\"].max() - x_test[\"EstimatedSalary\"].min())\n",
    "\n",
    "x_test[\"Age\"] = (x_test[\"Age\"] - x_test[\"Age\"].min()) / (x_test[\"Age\"].max() - x_test[\"Age\"].min())\n",
    "\n",
    "x_test[\"NumOfProducts\"] = (x_test[\"NumOfProducts\"] - x_test[\"NumOfProducts\"].min()) / (x_test[\"NumOfProducts\"].max() - x_test[\"NumOfProducts\"].min())\n",
    "\n",
    "x_test[\"NumOfProducts_/_Age\"] = (x_test[\"NumOfProducts_/_Age\"] - x_test[\"NumOfProducts_/_Age\"].min()) / (x_test[\"NumOfProducts_/_Age\"].max() - x_test[\"NumOfProducts_/_Age\"].min())\n",
    "\n",
    "x_test[\"Balance\"] = (x_test[\"Balance\"] - x_test[\"Balance\"].min()) / (x_test[\"Balance\"].max() - x_test[\"Balance\"].min())\n",
    "\n",
    "x_test[\"Balance_-_NumOfProducts\"] = (x_test[\"Balance_-_NumOfProducts\"] - x_test[\"Balance_-_NumOfProducts\"].min()) / (x_test[\"Balance_-_NumOfProducts\"].max() - x_test[\"Balance_-_NumOfProducts\"].min())\n",
    "\n",
    "x_test[\"mean_NumOfProducts_by_HasCrCard\"] = (x_test[\"mean_NumOfProducts_by_HasCrCard\"] - x_test[\"mean_NumOfProducts_by_HasCrCard\"].min()) / (x_test[\"mean_NumOfProducts_by_HasCrCard\"].max() - x_test[\"mean_NumOfProducts_by_HasCrCard\"].min())\n",
    "x_test[\"Gender_Male_+_Active\"] = (x_test[\"Gender_Male_+_Active\"] - x_test[\"Gender_Male_+_Active\"].min()) / (x_test[\"Gender_Male_+_Active\"].max() - x_test[\"Gender_Male_+_Active\"].min())\n",
    "\n"
   ]
  },
  {
   "cell_type": "markdown",
   "id": "8b04da7d-a1a0-4545-a1bf-40f73320e1df",
   "metadata": {},
   "source": [
    "## テストデータの予測（確率値を取得)"
   ]
  },
  {
   "cell_type": "code",
   "execution_count": 18,
   "id": "67234a93-ea09-4d72-b51e-9298385781cd",
   "metadata": {},
   "outputs": [],
   "source": [
    "y_test_pred = model_logis.predict_proba(x_test)"
   ]
  },
  {
   "cell_type": "markdown",
   "id": "841a96f2-bb8c-4433-bc22-8a6149566826",
   "metadata": {},
   "source": [
    "## 提出用ファイルの作成"
   ]
  },
  {
   "cell_type": "code",
   "execution_count": 19,
   "id": "2fdb4cd9-2e57-46a7-b949-e55009f6600a",
   "metadata": {},
   "outputs": [
    {
     "data": {
      "text/html": [
       "<div>\n",
       "<style scoped>\n",
       "    .dataframe tbody tr th:only-of-type {\n",
       "        vertical-align: middle;\n",
       "    }\n",
       "\n",
       "    .dataframe tbody tr th {\n",
       "        vertical-align: top;\n",
       "    }\n",
       "\n",
       "    .dataframe thead th {\n",
       "        text-align: right;\n",
       "    }\n",
       "</style>\n",
       "<table border=\"1\" class=\"dataframe\">\n",
       "  <thead>\n",
       "    <tr style=\"text-align: right;\">\n",
       "      <th></th>\n",
       "      <th>id</th>\n",
       "      <th>Exited</th>\n",
       "    </tr>\n",
       "  </thead>\n",
       "  <tbody>\n",
       "    <tr>\n",
       "      <th>0</th>\n",
       "      <td>165034</td>\n",
       "      <td>0.0</td>\n",
       "    </tr>\n",
       "    <tr>\n",
       "      <th>1</th>\n",
       "      <td>165035</td>\n",
       "      <td>1.0</td>\n",
       "    </tr>\n",
       "    <tr>\n",
       "      <th>2</th>\n",
       "      <td>165036</td>\n",
       "      <td>0.0</td>\n",
       "    </tr>\n",
       "    <tr>\n",
       "      <th>3</th>\n",
       "      <td>165037</td>\n",
       "      <td>1.0</td>\n",
       "    </tr>\n",
       "    <tr>\n",
       "      <th>4</th>\n",
       "      <td>165038</td>\n",
       "      <td>0.0</td>\n",
       "    </tr>\n",
       "  </tbody>\n",
       "</table>\n",
       "</div>"
      ],
      "text/plain": [
       "       id  Exited\n",
       "0  165034     0.0\n",
       "1  165035     1.0\n",
       "2  165036     0.0\n",
       "3  165037     1.0\n",
       "4  165038     0.0"
      ]
     },
     "metadata": {},
     "output_type": "display_data"
    }
   ],
   "source": [
    "df_submit = pd.DataFrame({\"id\": id_test[\"id\"], \"Exited\": y_test_pred[:, 1]})\n",
    "display(df_submit.head(5))\n",
    "df_submit.to_csv(\"submission_scikit_LoRe.csv\", index=None)"
   ]
  },
  {
   "cell_type": "markdown",
   "id": "09888699",
   "metadata": {
    "papermill": {
     "duration": 0.021916,
     "end_time": "2022-06-02T02:05:08.004681",
     "exception": false,
     "start_time": "2022-06-02T02:05:07.982765",
     "status": "completed"
    },
    "tags": []
   },
   "source": [
    "#### SVM (実施保留中)　　"
   ]
  },
  {
   "cell_type": "code",
   "execution_count": null,
   "id": "322a66a0",
   "metadata": {
    "papermill": {
     "duration": 0.149642,
     "end_time": "2022-06-02T02:05:08.176407",
     "exception": false,
     "start_time": "2022-06-02T02:05:08.026765",
     "status": "completed"
    },
    "tags": []
   },
   "outputs": [],
   "source": [
    "### scikit-learnライブラリからSVC（サポートベクトル分類器）クラスをインポートし、SVMモデルのインスタンスを作成\n",
    "from sklearn.svm import SVC\n",
    "\n",
    "model_svm = SVC(C=1.0, random_state=123, probability=True)\n",
    "\n",
    "### 訓練データ x_tr とそのラベル y_tr を使ってSVMモデルを学習\n",
    "model_svm.fit(x_tr, y_tr)\n",
    "\n",
    "### 学習済みのSVMモデルを使って検証データ x_va の予測を行い、予測結果を y_va_pred に格納\n",
    "y_va_pred = model_svm.predict_proba(x_va)[:,1]\n",
    "\n",
    "### 予測の精度を計算し表示。accuracy_score関数は予測結果と正解ラベルの一致率を計算\n",
    "print(\"accuracy:{:.4f}\".format(roc_auc_score(y_va, y_va_pred)))\n",
    "\n",
    "\n",
    "### 学習済みのSVMモデルを使って検証データ x_va の各サンプルに対するクラスの予測確率を計算し表示\n",
    "y_va_pred_proba = model_svm.predict_proba(x_va)[:,1]\n",
    "print(y_va_pred_proba[:5])"
   ]
  }
 ],
 "metadata": {
  "kernelspec": {
   "display_name": "Python 3 (ipykernel)",
   "language": "python",
   "name": "python3"
  },
  "language_info": {
   "codemirror_mode": {
    "name": "ipython",
    "version": 3
   },
   "file_extension": ".py",
   "mimetype": "text/x-python",
   "name": "python",
   "nbconvert_exporter": "python",
   "pygments_lexer": "ipython3",
   "version": "3.11.7"
  },
  "papermill": {
   "default_parameters": {},
   "duration": 76.658962,
   "end_time": "2022-06-02T02:05:41.753101",
   "environment_variables": {},
   "exception": null,
   "input_path": "__notebook__.ipynb",
   "output_path": "__notebook__.ipynb",
   "parameters": {},
   "start_time": "2022-06-02T02:04:25.094139",
   "version": "2.3.4"
  }
 },
 "nbformat": 4,
 "nbformat_minor": 5
}
