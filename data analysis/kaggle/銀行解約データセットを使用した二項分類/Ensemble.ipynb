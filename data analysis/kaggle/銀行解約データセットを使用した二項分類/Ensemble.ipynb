{
 "cells": [
  {
   "cell_type": "markdown",
   "id": "a9ebb3a6-ac2f-4338-b245-755ad3151c76",
   "metadata": {},
   "source": [
    "# アンサンブル　ファイル読み込み"
   ]
  },
  {
   "cell_type": "code",
   "execution_count": 4,
   "id": "c25f729d-44ee-431a-b084-270630f63946",
   "metadata": {},
   "outputs": [],
   "source": [
    "import pandas as pd\n",
    "import numpy as np\n",
    "\n",
    "sub_lgbm=pd.read_csv(\"Ensemble/submission_lightgbm.csv\")\n",
    "sub_optuna=pd.read_csv(\"Ensemble/submission_optuna.csv\")\n",
    "sub_ten1=pd.read_csv(\"Ensemble/submission_tensorflow1.csv\")"
   ]
  },
  {
   "cell_type": "code",
   "execution_count": 5,
   "id": "0ca2754f-f7d5-4c46-9217-7623b7f92b4c",
   "metadata": {},
   "outputs": [
    {
     "data": {
      "text/html": [
       "<div>\n",
       "<style scoped>\n",
       "    .dataframe tbody tr th:only-of-type {\n",
       "        vertical-align: middle;\n",
       "    }\n",
       "\n",
       "    .dataframe tbody tr th {\n",
       "        vertical-align: top;\n",
       "    }\n",
       "\n",
       "    .dataframe thead th {\n",
       "        text-align: right;\n",
       "    }\n",
       "</style>\n",
       "<table border=\"1\" class=\"dataframe\">\n",
       "  <thead>\n",
       "    <tr style=\"text-align: right;\">\n",
       "      <th></th>\n",
       "      <th>sub_lgbm</th>\n",
       "      <th>sub_optuna</th>\n",
       "      <th>sub_ten1</th>\n",
       "    </tr>\n",
       "  </thead>\n",
       "  <tbody>\n",
       "    <tr>\n",
       "      <th>0</th>\n",
       "      <td>0.014628</td>\n",
       "      <td>0.011413</td>\n",
       "      <td>0.027690</td>\n",
       "    </tr>\n",
       "    <tr>\n",
       "      <th>1</th>\n",
       "      <td>0.769914</td>\n",
       "      <td>0.662922</td>\n",
       "      <td>0.637855</td>\n",
       "    </tr>\n",
       "    <tr>\n",
       "      <th>2</th>\n",
       "      <td>0.024066</td>\n",
       "      <td>0.020738</td>\n",
       "      <td>0.035247</td>\n",
       "    </tr>\n",
       "    <tr>\n",
       "      <th>3</th>\n",
       "      <td>0.274536</td>\n",
       "      <td>0.248993</td>\n",
       "      <td>0.240550</td>\n",
       "    </tr>\n",
       "    <tr>\n",
       "      <th>4</th>\n",
       "      <td>0.375244</td>\n",
       "      <td>0.413605</td>\n",
       "      <td>0.211857</td>\n",
       "    </tr>\n",
       "  </tbody>\n",
       "</table>\n",
       "</div>"
      ],
      "text/plain": [
       "   sub_lgbm  sub_optuna  sub_ten1\n",
       "0  0.014628    0.011413  0.027690\n",
       "1  0.769914    0.662922  0.637855\n",
       "2  0.024066    0.020738  0.035247\n",
       "3  0.274536    0.248993  0.240550\n",
       "4  0.375244    0.413605  0.211857"
      ]
     },
     "execution_count": 5,
     "metadata": {},
     "output_type": "execute_result"
    }
   ],
   "source": [
    "#目的関数の予測値を表示\n",
    "df=pd.DataFrame({\"sub_lgbm\":sub_lgbm[\"Exited\"].values,\n",
    "              \"sub_optuna\":sub_optuna[\"Exited\"].values,\n",
    "              \"sub_ten1\":sub_ten1[\"Exited\"].values})\n",
    "df.head()"
   ]
  },
  {
   "cell_type": "code",
   "execution_count": 6,
   "id": "5f7977da-a890-4f3c-9881-dc6fea186bf7",
   "metadata": {
    "scrolled": true
   },
   "outputs": [
    {
     "data": {
      "text/html": [
       "<div>\n",
       "<style scoped>\n",
       "    .dataframe tbody tr th:only-of-type {\n",
       "        vertical-align: middle;\n",
       "    }\n",
       "\n",
       "    .dataframe tbody tr th {\n",
       "        vertical-align: top;\n",
       "    }\n",
       "\n",
       "    .dataframe thead th {\n",
       "        text-align: right;\n",
       "    }\n",
       "</style>\n",
       "<table border=\"1\" class=\"dataframe\">\n",
       "  <thead>\n",
       "    <tr style=\"text-align: right;\">\n",
       "      <th></th>\n",
       "      <th>sub_lgbm</th>\n",
       "      <th>sub_optuna</th>\n",
       "      <th>sub_ten1</th>\n",
       "    </tr>\n",
       "  </thead>\n",
       "  <tbody>\n",
       "    <tr>\n",
       "      <th>sub_lgbm</th>\n",
       "      <td>1.000000</td>\n",
       "      <td>0.992561</td>\n",
       "      <td>0.915365</td>\n",
       "    </tr>\n",
       "    <tr>\n",
       "      <th>sub_optuna</th>\n",
       "      <td>0.992561</td>\n",
       "      <td>1.000000</td>\n",
       "      <td>0.906998</td>\n",
       "    </tr>\n",
       "    <tr>\n",
       "      <th>sub_ten1</th>\n",
       "      <td>0.915365</td>\n",
       "      <td>0.906998</td>\n",
       "      <td>1.000000</td>\n",
       "    </tr>\n",
       "  </tbody>\n",
       "</table>\n",
       "</div>"
      ],
      "text/plain": [
       "            sub_lgbm  sub_optuna  sub_ten1\n",
       "sub_lgbm    1.000000    0.992561  0.915365\n",
       "sub_optuna  0.992561    1.000000  0.906998\n",
       "sub_ten1    0.915365    0.906998  1.000000"
      ]
     },
     "execution_count": 6,
     "metadata": {},
     "output_type": "execute_result"
    }
   ],
   "source": [
    "#列同士の相関係数調べ\n",
    "df.corr()"
   ]
  },
  {
   "cell_type": "markdown",
   "id": "03955883-3cd1-4c6b-a627-67852863115a",
   "metadata": {},
   "source": [
    "# 予測値の単純平均"
   ]
  },
  {
   "cell_type": "code",
   "execution_count": 8,
   "id": "7516f777-1ea6-4795-be69-3dddf9fdb692",
   "metadata": {},
   "outputs": [
    {
     "data": {
      "text/html": [
       "<div>\n",
       "<style scoped>\n",
       "    .dataframe tbody tr th:only-of-type {\n",
       "        vertical-align: middle;\n",
       "    }\n",
       "\n",
       "    .dataframe tbody tr th {\n",
       "        vertical-align: top;\n",
       "    }\n",
       "\n",
       "    .dataframe thead th {\n",
       "        text-align: right;\n",
       "    }\n",
       "</style>\n",
       "<table border=\"1\" class=\"dataframe\">\n",
       "  <thead>\n",
       "    <tr style=\"text-align: right;\">\n",
       "      <th></th>\n",
       "      <th>id</th>\n",
       "      <th>Exited</th>\n",
       "    </tr>\n",
       "  </thead>\n",
       "  <tbody>\n",
       "    <tr>\n",
       "      <th>0</th>\n",
       "      <td>165034</td>\n",
       "      <td>0.017911</td>\n",
       "    </tr>\n",
       "    <tr>\n",
       "      <th>1</th>\n",
       "      <td>165035</td>\n",
       "      <td>0.690230</td>\n",
       "    </tr>\n",
       "    <tr>\n",
       "      <th>2</th>\n",
       "      <td>165036</td>\n",
       "      <td>0.026684</td>\n",
       "    </tr>\n",
       "    <tr>\n",
       "      <th>3</th>\n",
       "      <td>165037</td>\n",
       "      <td>0.254693</td>\n",
       "    </tr>\n",
       "    <tr>\n",
       "      <th>4</th>\n",
       "      <td>165038</td>\n",
       "      <td>0.333569</td>\n",
       "    </tr>\n",
       "  </tbody>\n",
       "</table>\n",
       "</div>"
      ],
      "text/plain": [
       "       id    Exited\n",
       "0  165034  0.017911\n",
       "1  165035  0.690230\n",
       "2  165036  0.026684\n",
       "3  165037  0.254693\n",
       "4  165038  0.333569"
      ]
     },
     "execution_count": 8,
     "metadata": {},
     "output_type": "execute_result"
    }
   ],
   "source": [
    "sub=pd.read_csv(\"Bank Churn/sample_submission.csv\")\n",
    "sub[\"Exited\"]= (sub_lgbm[\"Exited\"] + sub_optuna[\"Exited\"] + sub_ten1[\"Exited\"]) / 3\n",
    "sub.head()\n",
    "\n",
    "# CSV ファイルとして保存（index=False を指定してインデックスを含まないようにする）\n",
    "sub.to_csv(\"submission_ensemble_ave.csv\", index=False)\n",
    "sub.head()"
   ]
  },
  {
   "cell_type": "markdown",
   "id": "cc5dd500-d582-4f5f-b92a-b9ae8459102c",
   "metadata": {},
   "source": [
    "## 重み付き平均"
   ]
  },
  {
   "cell_type": "code",
   "execution_count": 10,
   "id": "85a22a19-396b-415d-b862-c790c4db6021",
   "metadata": {},
   "outputs": [
    {
     "name": "stdout",
     "output_type": "stream",
     "text": [
      "[0.3 0.4 0.3]\n"
     ]
    },
    {
     "data": {
      "text/html": [
       "<div>\n",
       "<style scoped>\n",
       "    .dataframe tbody tr th:only-of-type {\n",
       "        vertical-align: middle;\n",
       "    }\n",
       "\n",
       "    .dataframe tbody tr th {\n",
       "        vertical-align: top;\n",
       "    }\n",
       "\n",
       "    .dataframe thead th {\n",
       "        text-align: right;\n",
       "    }\n",
       "</style>\n",
       "<table border=\"1\" class=\"dataframe\">\n",
       "  <thead>\n",
       "    <tr style=\"text-align: right;\">\n",
       "      <th></th>\n",
       "      <th>id</th>\n",
       "      <th>Exited</th>\n",
       "    </tr>\n",
       "  </thead>\n",
       "  <tbody>\n",
       "    <tr>\n",
       "      <th>0</th>\n",
       "      <td>165034</td>\n",
       "      <td>0.017261</td>\n",
       "    </tr>\n",
       "    <tr>\n",
       "      <th>1</th>\n",
       "      <td>165035</td>\n",
       "      <td>0.687499</td>\n",
       "    </tr>\n",
       "    <tr>\n",
       "      <th>2</th>\n",
       "      <td>165036</td>\n",
       "      <td>0.026089</td>\n",
       "    </tr>\n",
       "    <tr>\n",
       "      <th>3</th>\n",
       "      <td>165037</td>\n",
       "      <td>0.254123</td>\n",
       "    </tr>\n",
       "    <tr>\n",
       "      <th>4</th>\n",
       "      <td>165038</td>\n",
       "      <td>0.341572</td>\n",
       "    </tr>\n",
       "  </tbody>\n",
       "</table>\n",
       "</div>"
      ],
      "text/plain": [
       "       id    Exited\n",
       "0  165034  0.017261\n",
       "1  165035  0.687499\n",
       "2  165036  0.026089\n",
       "3  165037  0.254123\n",
       "4  165038  0.341572"
      ]
     },
     "execution_count": 10,
     "metadata": {},
     "output_type": "execute_result"
    }
   ],
   "source": [
    "sub=pd.read_csv(\"Bank Churn/sample_submission.csv\")\n",
    "\n",
    "# 重みのリストを定義します\n",
    "weight = [0.3, 0.4, 0.3]\n",
    "\n",
    "# 重みを合計で割ることで、正規化された重みを計算します\n",
    "weight = weight / np.sum(weight)\n",
    "\n",
    "# 正規化された重みを表示します\n",
    "print(weight)\n",
    "sub[\"Exited\"] = sub_lgbm[\"Exited\"] * weight[0] + \\\n",
    "                            sub_optuna[\"Exited\"] * weight[1] + \\\n",
    "                            sub_ten1[\"Exited\"] * weight[2]\n",
    "\n",
    "sub.head()\n",
    "\n",
    "# CSV ファイルとして保存（index=False を指定してインデックスを含まないようにする）\n",
    "sub.to_csv(\"submission_ensemble_wave.csv\", index=False)\n",
    "sub.head()"
   ]
  }
 ],
 "metadata": {
  "kernelspec": {
   "display_name": "Python 3 (ipykernel)",
   "language": "python",
   "name": "python3"
  },
  "language_info": {
   "codemirror_mode": {
    "name": "ipython",
    "version": 3
   },
   "file_extension": ".py",
   "mimetype": "text/x-python",
   "name": "python",
   "nbconvert_exporter": "python",
   "pygments_lexer": "ipython3",
   "version": "3.11.7"
  }
 },
 "nbformat": 4,
 "nbformat_minor": 5
}
