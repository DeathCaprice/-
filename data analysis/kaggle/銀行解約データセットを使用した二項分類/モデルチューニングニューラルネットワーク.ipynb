{
 "cells": [
  {
   "cell_type": "markdown",
   "id": "89f89196",
   "metadata": {
    "id": "89f89196"
   },
   "source": [
    "# モデルチューニング"
   ]
  },
  {
   "cell_type": "code",
   "execution_count": 1,
   "id": "5OAnWFGXl--c",
   "metadata": {
    "colab": {
     "base_uri": "https://localhost:8080/"
    },
    "executionInfo": {
     "elapsed": 48079,
     "status": "ok",
     "timestamp": 1715747188094,
     "user": {
      "displayName": "本間昭芳",
      "userId": "03750894339822144260"
     },
     "user_tz": -540
    },
    "id": "5OAnWFGXl--c",
    "outputId": "61612afa-fab3-4d5c-8d79-bbf3e9894ee4"
   },
   "outputs": [
    {
     "name": "stdout",
     "output_type": "stream",
     "text": [
      "Mounted at /content/drive\n"
     ]
    }
   ],
   "source": [
    "# Google Driveと接続を行います。これを行うことで、Driveにあるデータにアクセスできるようになります。\n",
    "# 下記セルを実行すると、Googleアカウントのログインを求められますのでログインしてください。\n",
    "from google.colab import drive\n",
    "drive.mount('/content/drive')"
   ]
  },
  {
   "cell_type": "code",
   "execution_count": 37,
   "id": "6714225a-2bfa-4443-a12d-824fcfba5ff9",
   "metadata": {
    "colab": {
     "base_uri": "https://localhost:8080/"
    },
    "executionInfo": {
     "elapsed": 7221,
     "status": "ok",
     "timestamp": 1715751591147,
     "user": {
      "displayName": "本間昭芳",
      "userId": "03750894339822144260"
     },
     "user_tz": -540
    },
    "id": "6714225a-2bfa-4443-a12d-824fcfba5ff9",
    "outputId": "661436db-75f0-4d7d-97f9-07d707d9f3a2"
   },
   "outputs": [
    {
     "name": "stdout",
     "output_type": "stream",
     "text": [
      "Requirement already satisfied: japanize-matplotlib in /usr/local/lib/python3.10/dist-packages (1.1.3)\n",
      "Requirement already satisfied: matplotlib in /usr/local/lib/python3.10/dist-packages (from japanize-matplotlib) (3.7.1)\n",
      "Requirement already satisfied: contourpy>=1.0.1 in /usr/local/lib/python3.10/dist-packages (from matplotlib->japanize-matplotlib) (1.2.1)\n",
      "Requirement already satisfied: cycler>=0.10 in /usr/local/lib/python3.10/dist-packages (from matplotlib->japanize-matplotlib) (0.12.1)\n",
      "Requirement already satisfied: fonttools>=4.22.0 in /usr/local/lib/python3.10/dist-packages (from matplotlib->japanize-matplotlib) (4.51.0)\n",
      "Requirement already satisfied: kiwisolver>=1.0.1 in /usr/local/lib/python3.10/dist-packages (from matplotlib->japanize-matplotlib) (1.4.5)\n",
      "Requirement already satisfied: numpy>=1.20 in /usr/local/lib/python3.10/dist-packages (from matplotlib->japanize-matplotlib) (1.25.2)\n",
      "Requirement already satisfied: packaging>=20.0 in /usr/local/lib/python3.10/dist-packages (from matplotlib->japanize-matplotlib) (24.0)\n",
      "Requirement already satisfied: pillow>=6.2.0 in /usr/local/lib/python3.10/dist-packages (from matplotlib->japanize-matplotlib) (9.4.0)\n",
      "Requirement already satisfied: pyparsing>=2.3.1 in /usr/local/lib/python3.10/dist-packages (from matplotlib->japanize-matplotlib) (3.1.2)\n",
      "Requirement already satisfied: python-dateutil>=2.7 in /usr/local/lib/python3.10/dist-packages (from matplotlib->japanize-matplotlib) (2.8.2)\n",
      "Requirement already satisfied: six>=1.5 in /usr/local/lib/python3.10/dist-packages (from python-dateutil>=2.7->matplotlib->japanize-matplotlib) (1.16.0)\n"
     ]
    }
   ],
   "source": [
    "import numpy as np\n",
    "import pandas as pd\n",
    "import os\n",
    "import pickle\n",
    "import gc\n",
    "\n",
    "# 分布確認  anacondaでは、一先ず、コメントにする。\n",
    "#import pandas_profiling as pdp\n",
    "\n",
    "# 可視化\n",
    "import matplotlib.pyplot as plt\n",
    "\n",
    "# 前処理\n",
    "from sklearn.preprocessing import StandardScaler, MinMaxScaler, LabelEncoder, OneHotEncoder\n",
    "\n",
    "# バリデーション\n",
    "from sklearn.model_selection import train_test_split, KFold, StratifiedKFold\n",
    "\n",
    "# 評価指標\n",
    "from sklearn.metrics import accuracy_score, roc_auc_score, confusion_matrix\n",
    "\n",
    "# モデリング: lightgbm\n",
    "import lightgbm as lgb\n",
    "\n",
    "import warnings\n",
    "warnings.filterwarnings(\"ignore\")\n",
    "\n",
    "# matplotilbで日本語表示したい場合はこれをinstallしてインポートする\n",
    "!pip install japanize-matplotlib\n",
    "import japanize_matplotlib\n",
    "%matplotlib inline"
   ]
  },
  {
   "cell_type": "markdown",
   "id": "28216ada",
   "metadata": {
    "id": "28216ada"
   },
   "source": [
    "\n",
    "### ニューラルネットワークの適用：①全結合層のみのネットワークモデル\n",
    "#### ライブラリのインポート"
   ]
  },
  {
   "cell_type": "code",
   "execution_count": 38,
   "id": "14e6cafd-6f2d-49f3-99b7-8cd98e4d0e92",
   "metadata": {
    "colab": {
     "base_uri": "https://localhost:8080/"
    },
    "executionInfo": {
     "elapsed": 18933,
     "status": "ok",
     "timestamp": 1715751615418,
     "user": {
      "displayName": "本間昭芳",
      "userId": "03750894339822144260"
     },
     "user_tz": -540
    },
    "id": "14e6cafd-6f2d-49f3-99b7-8cd98e4d0e92",
    "outputId": "c83a2bde-2817-4007-8ae5-cee03b4c8975"
   },
   "outputs": [
    {
     "name": "stdout",
     "output_type": "stream",
     "text": [
      "Requirement already satisfied: tensorflow in /usr/local/lib/python3.10/dist-packages (2.15.0)\n",
      "Requirement already satisfied: absl-py>=1.0.0 in /usr/local/lib/python3.10/dist-packages (from tensorflow) (1.4.0)\n",
      "Requirement already satisfied: astunparse>=1.6.0 in /usr/local/lib/python3.10/dist-packages (from tensorflow) (1.6.3)\n",
      "Requirement already satisfied: flatbuffers>=23.5.26 in /usr/local/lib/python3.10/dist-packages (from tensorflow) (24.3.25)\n",
      "Requirement already satisfied: gast!=0.5.0,!=0.5.1,!=0.5.2,>=0.2.1 in /usr/local/lib/python3.10/dist-packages (from tensorflow) (0.5.4)\n",
      "Requirement already satisfied: google-pasta>=0.1.1 in /usr/local/lib/python3.10/dist-packages (from tensorflow) (0.2.0)\n",
      "Requirement already satisfied: h5py>=2.9.0 in /usr/local/lib/python3.10/dist-packages (from tensorflow) (3.9.0)\n",
      "Requirement already satisfied: libclang>=13.0.0 in /usr/local/lib/python3.10/dist-packages (from tensorflow) (18.1.1)\n",
      "Requirement already satisfied: ml-dtypes~=0.2.0 in /usr/local/lib/python3.10/dist-packages (from tensorflow) (0.2.0)\n",
      "Requirement already satisfied: numpy<2.0.0,>=1.23.5 in /usr/local/lib/python3.10/dist-packages (from tensorflow) (1.25.2)\n",
      "Requirement already satisfied: opt-einsum>=2.3.2 in /usr/local/lib/python3.10/dist-packages (from tensorflow) (3.3.0)\n",
      "Requirement already satisfied: packaging in /usr/local/lib/python3.10/dist-packages (from tensorflow) (24.0)\n",
      "Requirement already satisfied: protobuf!=4.21.0,!=4.21.1,!=4.21.2,!=4.21.3,!=4.21.4,!=4.21.5,<5.0.0dev,>=3.20.3 in /usr/local/lib/python3.10/dist-packages (from tensorflow) (3.20.3)\n",
      "Requirement already satisfied: setuptools in /usr/local/lib/python3.10/dist-packages (from tensorflow) (67.7.2)\n",
      "Requirement already satisfied: six>=1.12.0 in /usr/local/lib/python3.10/dist-packages (from tensorflow) (1.16.0)\n",
      "Requirement already satisfied: termcolor>=1.1.0 in /usr/local/lib/python3.10/dist-packages (from tensorflow) (2.4.0)\n",
      "Requirement already satisfied: typing-extensions>=3.6.6 in /usr/local/lib/python3.10/dist-packages (from tensorflow) (4.11.0)\n",
      "Requirement already satisfied: wrapt<1.15,>=1.11.0 in /usr/local/lib/python3.10/dist-packages (from tensorflow) (1.14.1)\n",
      "Requirement already satisfied: tensorflow-io-gcs-filesystem>=0.23.1 in /usr/local/lib/python3.10/dist-packages (from tensorflow) (0.37.0)\n",
      "Requirement already satisfied: grpcio<2.0,>=1.24.3 in /usr/local/lib/python3.10/dist-packages (from tensorflow) (1.63.0)\n",
      "Requirement already satisfied: tensorboard<2.16,>=2.15 in /usr/local/lib/python3.10/dist-packages (from tensorflow) (2.15.2)\n",
      "Requirement already satisfied: tensorflow-estimator<2.16,>=2.15.0 in /usr/local/lib/python3.10/dist-packages (from tensorflow) (2.15.0)\n",
      "Requirement already satisfied: keras<2.16,>=2.15.0 in /usr/local/lib/python3.10/dist-packages (from tensorflow) (2.15.0)\n",
      "Requirement already satisfied: wheel<1.0,>=0.23.0 in /usr/local/lib/python3.10/dist-packages (from astunparse>=1.6.0->tensorflow) (0.43.0)\n",
      "Requirement already satisfied: google-auth<3,>=1.6.3 in /usr/local/lib/python3.10/dist-packages (from tensorboard<2.16,>=2.15->tensorflow) (2.27.0)\n",
      "Requirement already satisfied: google-auth-oauthlib<2,>=0.5 in /usr/local/lib/python3.10/dist-packages (from tensorboard<2.16,>=2.15->tensorflow) (1.2.0)\n",
      "Requirement already satisfied: markdown>=2.6.8 in /usr/local/lib/python3.10/dist-packages (from tensorboard<2.16,>=2.15->tensorflow) (3.6)\n",
      "Requirement already satisfied: requests<3,>=2.21.0 in /usr/local/lib/python3.10/dist-packages (from tensorboard<2.16,>=2.15->tensorflow) (2.31.0)\n",
      "Requirement already satisfied: tensorboard-data-server<0.8.0,>=0.7.0 in /usr/local/lib/python3.10/dist-packages (from tensorboard<2.16,>=2.15->tensorflow) (0.7.2)\n",
      "Requirement already satisfied: werkzeug>=1.0.1 in /usr/local/lib/python3.10/dist-packages (from tensorboard<2.16,>=2.15->tensorflow) (3.0.3)\n",
      "Requirement already satisfied: cachetools<6.0,>=2.0.0 in /usr/local/lib/python3.10/dist-packages (from google-auth<3,>=1.6.3->tensorboard<2.16,>=2.15->tensorflow) (5.3.3)\n",
      "Requirement already satisfied: pyasn1-modules>=0.2.1 in /usr/local/lib/python3.10/dist-packages (from google-auth<3,>=1.6.3->tensorboard<2.16,>=2.15->tensorflow) (0.4.0)\n",
      "Requirement already satisfied: rsa<5,>=3.1.4 in /usr/local/lib/python3.10/dist-packages (from google-auth<3,>=1.6.3->tensorboard<2.16,>=2.15->tensorflow) (4.9)\n",
      "Requirement already satisfied: requests-oauthlib>=0.7.0 in /usr/local/lib/python3.10/dist-packages (from google-auth-oauthlib<2,>=0.5->tensorboard<2.16,>=2.15->tensorflow) (1.3.1)\n",
      "Requirement already satisfied: charset-normalizer<4,>=2 in /usr/local/lib/python3.10/dist-packages (from requests<3,>=2.21.0->tensorboard<2.16,>=2.15->tensorflow) (3.3.2)\n",
      "Requirement already satisfied: idna<4,>=2.5 in /usr/local/lib/python3.10/dist-packages (from requests<3,>=2.21.0->tensorboard<2.16,>=2.15->tensorflow) (3.7)\n",
      "Requirement already satisfied: urllib3<3,>=1.21.1 in /usr/local/lib/python3.10/dist-packages (from requests<3,>=2.21.0->tensorboard<2.16,>=2.15->tensorflow) (2.0.7)\n",
      "Requirement already satisfied: certifi>=2017.4.17 in /usr/local/lib/python3.10/dist-packages (from requests<3,>=2.21.0->tensorboard<2.16,>=2.15->tensorflow) (2024.2.2)\n",
      "Requirement already satisfied: MarkupSafe>=2.1.1 in /usr/local/lib/python3.10/dist-packages (from werkzeug>=1.0.1->tensorboard<2.16,>=2.15->tensorflow) (2.1.5)\n",
      "Requirement already satisfied: pyasn1<0.7.0,>=0.4.6 in /usr/local/lib/python3.10/dist-packages (from pyasn1-modules>=0.2.1->google-auth<3,>=1.6.3->tensorboard<2.16,>=2.15->tensorflow) (0.6.0)\n",
      "Requirement already satisfied: oauthlib>=3.0.0 in /usr/local/lib/python3.10/dist-packages (from requests-oauthlib>=0.7.0->google-auth-oauthlib<2,>=0.5->tensorboard<2.16,>=2.15->tensorflow) (3.2.2)\n"
     ]
    }
   ],
   "source": [
    "pip install tensorflow"
   ]
  },
  {
   "cell_type": "code",
   "execution_count": 39,
   "id": "c1716656-1f44-4cc2-ac7c-d26152a63d76",
   "metadata": {
    "executionInfo": {
     "elapsed": 280,
     "status": "ok",
     "timestamp": 1715751622049,
     "user": {
      "displayName": "本間昭芳",
      "userId": "03750894339822144260"
     },
     "user_tz": -540
    },
    "id": "c1716656-1f44-4cc2-ac7c-d26152a63d76"
   },
   "outputs": [],
   "source": [
    "import tensorflow as tf  ### TensorFlowライブラリをインポート\n",
    "\n",
    "from tensorflow.keras.models import Sequential, Model  ### KerasのSequentialモデルとModelクラスをインポート\n",
    "from tensorflow.keras.layers import Input, Dense, Dropout, BatchNormalization  ### KerasのInput、Dense、Dropout、BatchNormalizationレイヤーをインポート\n",
    "from tensorflow.keras.layers import Embedding, Flatten, Concatenate  ### KerasのEmbedding、Flatten、Concatenateレイヤーをインポート\n",
    "from tensorflow.keras.callbacks import EarlyStopping, ModelCheckpoint, ReduceLROnPlateau, LearningRateScheduler  ### KerasのEarlyStopping、ModelCheckpoint、ReduceLROnPlateau、LearningRateSchedulerをインポート\n",
    "from tensorflow.keras.optimizers import Adam, SGD  ### KerasのAdam、SGDオプティマイザをインポート\n",
    "from tensorflow.keras.callbacks import ModelCheckpoint, EarlyStopping, ReduceLROnPlateau  ###anacondaで追加処理"
   ]
  },
  {
   "cell_type": "markdown",
   "id": "84959226",
   "metadata": {
    "id": "84959226"
   },
   "source": [
    "#### tensorflowの再現性のためのシード指定"
   ]
  },
  {
   "cell_type": "code",
   "execution_count": 40,
   "id": "958862b7-80c8-42f9-b2f9-a824188a4646",
   "metadata": {
    "executionInfo": {
     "elapsed": 297,
     "status": "ok",
     "timestamp": 1715751633550,
     "user": {
      "displayName": "本間昭芳",
      "userId": "03750894339822144260"
     },
     "user_tz": -540
    },
    "id": "958862b7-80c8-42f9-b2f9-a824188a4646"
   },
   "outputs": [],
   "source": [
    "import os   ###anacondaで追加処理\n",
    "import numpy as np ###anacondaで追加処理\n",
    "\n",
    "\n",
    "def seed_everything(seed):\n",
    "    #import random 　anacondaでは不使用\n",
    "    #random.seed(seed)　anacondaでは不使用\n",
    "    os.environ['PYTHONHASHSEED'] = str(seed)\n",
    "    np.random.seed(seed)\n",
    "    tf.random.set_seed(seed)\n",
    "\n",
    "    session_conf = tf.compat.v1.ConfigProto(\n",
    "        intra_op_parallelism_threads=1,\n",
    "        inter_op_parallelism_threads=1\n",
    "    )\n",
    "\n",
    "    sess = tf.compat.v1.Session(graph=tf.compat.v1.get_default_graph(), config=session_conf)\n",
    "    #以下に変更　tf.compat.v1.keras.backend.set_session(sess)\n",
    "    tf.keras.backend # tf.keras.backendに変更\n",
    "\n",
    "seed_everything(seed=123)    # 関数を呼び出し、シード値123を使用して乱数生成器の設定を行う\n",
    "\n",
    "\n"
   ]
  },
  {
   "cell_type": "markdown",
   "id": "8e5342ca",
   "metadata": {
    "id": "8e5342ca"
   },
   "source": [
    "#### ファイルの読み込みとデータセット作成"
   ]
  },
  {
   "cell_type": "code",
   "execution_count": 63,
   "id": "91ddd490",
   "metadata": {
    "executionInfo": {
     "elapsed": 682,
     "status": "ok",
     "timestamp": 1715755805630,
     "user": {
      "displayName": "本間昭芳",
      "userId": "03750894339822144260"
     },
     "user_tz": -540
    },
    "id": "91ddd490"
   },
   "outputs": [],
   "source": [
    "## ファイル読み込み\n",
    "df_train = pd.read_csv(\"Bank Churn/train.csv\")\n",
    "\n",
    "#特徴量エンジニアリング\n",
    "df_train[\"NumOfProducts_/_Age\"] = df_train[\"NumOfProducts\"] / df_train[\"Age\"]\n",
    "\n",
    "# BalanceとNumOfProductsの四則計算の特徴量作成　（数値変数×数値変数）\n",
    "df_train[\"Balance_-_NumOfProducts\"] = df_train[\"Balance\"] - df_train[\"NumOfProducts\"]\n",
    "\n",
    "df_train[\"mean_NumOfProducts_by_HasCrCard\"] = df_train.groupby(\"NumOfProducts\")[\"HasCrCard\"].transform(\"mean\")\n",
    "\n",
    "# データセット作成\n",
    "x_train = df_train[[\"IsActiveMember\",\"EstimatedSalary\",\"Age\",\"NumOfProducts\",\"NumOfProducts_/_Age\",\"Balance_-_NumOfProducts\",\"mean_NumOfProducts_by_HasCrCard\"]]\n",
    "y_train = df_train[[\"Exited\"]]\n"
   ]
  },
  {
   "cell_type": "markdown",
   "id": "a5d7887e",
   "metadata": {
    "id": "a5d7887e"
   },
   "source": [
    "#### 数値データの正規化"
   ]
  },
  {
   "cell_type": "code",
   "execution_count": 64,
   "id": "3648b99d",
   "metadata": {
    "executionInfo": {
     "elapsed": 402,
     "status": "ok",
     "timestamp": 1715755813366,
     "user": {
      "displayName": "本間昭芳",
      "userId": "03750894339822144260"
     },
     "user_tz": -540
    },
    "id": "3648b99d"
   },
   "outputs": [],
   "source": [
    "### \"下の各特徴量の列の値を最小値で引き、その結果を\"下の特徴量の列の最大値と最小値の差で割ることで、最小-最大スケーリングを実行\n",
    "x_train[\"IsActiveMember\"] = (x_train[\"IsActiveMember\"] - x_train[\"IsActiveMember\"].min()) / (x_train[\"IsActiveMember\"].max() - x_train[\"IsActiveMember\"].min())\n",
    "\n",
    "x_train[\"EstimatedSalary\"] = (x_train[\"EstimatedSalary\"] - x_train[\"EstimatedSalary\"].min()) / (x_train[\"EstimatedSalary\"].max() - x_train[\"EstimatedSalary\"].min())\n",
    "\n",
    "x_train[\"Age\"] = (x_train[\"Age\"] - x_train[\"Age\"].min()) / (x_train[\"Age\"].max() - x_train[\"Age\"].min())\n",
    "\n",
    "x_train[\"NumOfProducts\"] = (x_train[\"NumOfProducts\"] - x_train[\"NumOfProducts\"].min()) / (x_train[\"NumOfProducts\"].max() - x_train[\"NumOfProducts\"].min())\n",
    "\n",
    "x_train[\"NumOfProducts_/_Age\"] = (x_train[\"NumOfProducts_/_Age\"] - x_train[\"NumOfProducts_/_Age\"].min()) / (x_train[\"NumOfProducts_/_Age\"].max() - x_train[\"NumOfProducts_/_Age\"].min())\n",
    "\n",
    "x_train[\"Balance_-_NumOfProducts\"] = (x_train[\"Balance_-_NumOfProducts\"] - x_train[\"Balance_-_NumOfProducts\"].min()) / (x_train[\"Balance_-_NumOfProducts\"].max() - x_train[\"Balance_-_NumOfProducts\"].min())\n",
    "\n",
    "x_train[\"mean_NumOfProducts_by_HasCrCard\"] = (x_train[\"mean_NumOfProducts_by_HasCrCard\"] - x_train[\"mean_NumOfProducts_by_HasCrCard\"].min()) / (x_train[\"mean_NumOfProducts_by_HasCrCard\"].max() - x_train[\"mean_NumOfProducts_by_HasCrCard\"].min())\n",
    "\n",
    "\n"
   ]
  },
  {
   "cell_type": "markdown",
   "id": "24375dd4",
   "metadata": {
    "id": "24375dd4"
   },
   "source": [
    "####  学習データと検証データの分割"
   ]
  },
  {
   "cell_type": "code",
   "execution_count": 65,
   "id": "29ec6bb4",
   "metadata": {
    "colab": {
     "base_uri": "https://localhost:8080/"
    },
    "executionInfo": {
     "elapsed": 1627,
     "status": "ok",
     "timestamp": 1715755820548,
     "user": {
      "displayName": "本間昭芳",
      "userId": "03750894339822144260"
     },
     "user_tz": -540
    },
    "id": "29ec6bb4",
    "outputId": "b72057d9-f3c9-4b6b-885e-0728ad04cd81"
   },
   "outputs": [
    {
     "name": "stdout",
     "output_type": "stream",
     "text": [
      "(132027, 7) (33007, 7) (132027, 1) (33007, 1)\n"
     ]
    }
   ],
   "source": [
    "x_tr, x_va, y_tr, y_va = train_test_split(x_train, y_train, test_size=0.2, stratify=y_train, random_state=123)\n",
    "print(x_tr.shape, x_va.shape, y_tr.shape, y_va.shape)"
   ]
  },
  {
   "cell_type": "markdown",
   "id": "b4905ba7",
   "metadata": {
    "id": "b4905ba7"
   },
   "source": [
    "#### モデル定義"
   ]
  },
  {
   "cell_type": "code",
   "execution_count": 62,
   "id": "9da15e66",
   "metadata": {
    "colab": {
     "base_uri": "https://localhost:8080/"
    },
    "executionInfo": {
     "elapsed": 786,
     "status": "ok",
     "timestamp": 1715755761386,
     "user": {
      "displayName": "本間昭芳",
      "userId": "03750894339822144260"
     },
     "user_tz": -540
    },
    "id": "9da15e66",
    "outputId": "4c5ba8ec-c04b-4764-a5c4-9fe7d4a9fd13"
   },
   "outputs": [
    {
     "name": "stdout",
     "output_type": "stream",
     "text": [
      "Model: \"model_7\"\n",
      "_________________________________________________________________\n",
      " Layer (type)                Output Shape              Param #   \n",
      "=================================================================\n",
      " input_8 (InputLayer)        [(None, 8)]               0         \n",
      "                                                                 \n",
      " dense_28 (Dense)            (None, 10)                90        \n",
      "                                                                 \n",
      " batch_normalization_21 (Ba  (None, 10)                40        \n",
      " tchNormalization)                                               \n",
      "                                                                 \n",
      " dropout_21 (Dropout)        (None, 10)                0         \n",
      "                                                                 \n",
      " dense_29 (Dense)            (None, 10)                110       \n",
      "                                                                 \n",
      " batch_normalization_22 (Ba  (None, 10)                40        \n",
      " tchNormalization)                                               \n",
      "                                                                 \n",
      " dropout_22 (Dropout)        (None, 10)                0         \n",
      "                                                                 \n",
      " dense_30 (Dense)            (None, 5)                 55        \n",
      "                                                                 \n",
      " batch_normalization_23 (Ba  (None, 5)                 20        \n",
      " tchNormalization)                                               \n",
      "                                                                 \n",
      " dropout_23 (Dropout)        (None, 5)                 0         \n",
      "                                                                 \n",
      " dense_31 (Dense)            (None, 1)                 6         \n",
      "                                                                 \n",
      "=================================================================\n",
      "Total params: 361 (1.41 KB)\n",
      "Trainable params: 311 (1.21 KB)\n",
      "Non-trainable params: 50 (200.00 Byte)\n",
      "_________________________________________________________________\n"
     ]
    }
   ],
   "source": [
    "def create_model():  ### モデルを作成する関数の定義を開始\n",
    "\n",
    "    input_num = Input(shape=(8,))  ### 入力層を定義し、入力データの形状を指定\n",
    "\n",
    "    x_num = Dense(10, activation=\"relu\")(input_num)  ### 10個のニューロンを持つ全結合層を追加し、ReLU活性化関数を適用\n",
    "\n",
    "    x_num = BatchNormalization()(x_num)  ### バッチ正規化を適用\n",
    "\n",
    "    x_num = Dropout(0.3)(x_num)  ### ドロップアウトを適用\n",
    "\n",
    "    x_num = Dense(10, activation=\"relu\")(x_num)  ### 10個のニューロンを持つ全結合層を追加し、ReLU活性化関数を適用\n",
    "\n",
    "    x_num = BatchNormalization()(x_num)  ### バッチ正規化を適用\n",
    "\n",
    "    x_num = Dropout(0.2)(x_num)  ### ドロップアウトを適用\n",
    "\n",
    "    x_num = Dense(5, activation=\"relu\")(x_num)  ### 5個のニューロンを持つ全結合層を追加し、ReLU活性化関数を適用\n",
    "\n",
    "    x_num = BatchNormalization()(x_num)  ### バッチ正規化を適用\n",
    "\n",
    "    x_num = Dropout(0.1)(x_num)  ### ドロップアウトを適用\n",
    "\n",
    "    out = Dense(1, activation=\"sigmoid\")(x_num)  ### 出力層を定義し、シグモイド活性化関数を適用\n",
    "\n",
    "    model = Model(inputs=input_num,  ### モデルを作成し、入力と出力を指定\n",
    "                  outputs=out,\n",
    "                 )\n",
    "\n",
    "    model.compile(  ### モデルをコンパイルし、損失関数、最適化アルゴリズム、評価メトリクスを指定\n",
    "        optimizer=\"Adam\",\n",
    "        loss=\"binary_crossentropy\",\n",
    "        metrics=[\"binary_crossentropy\"],\n",
    "    )\n",
    "\n",
    "    return model  ### 作成されたモデルを返す\n",
    "\n",
    "model = create_model()  ### create_model()関数を呼び出してモデルを作成\n",
    "\n",
    "model.summary()  ### 作成されたモデルの構造を要約"
   ]
  },
  {
   "cell_type": "markdown",
   "id": "8ae1e5a0",
   "metadata": {
    "id": "8ae1e5a0"
   },
   "source": [
    "#### モデル学習"
   ]
  },
  {
   "cell_type": "code",
   "execution_count": 48,
   "id": "c7f062a4-4b67-4ba8-a8b7-cc715639c311",
   "metadata": {
    "colab": {
     "base_uri": "https://localhost:8080/"
    },
    "executionInfo": {
     "elapsed": 2207233,
     "status": "ok",
     "timestamp": 1715754029607,
     "user": {
      "displayName": "本間昭芳",
      "userId": "03750894339822144260"
     },
     "user_tz": -540
    },
    "id": "c7f062a4-4b67-4ba8-a8b7-cc715639c311",
    "outputId": "9076d0f7-e18a-437f-b13b-791a8be9a167"
   },
   "outputs": [
    {
     "name": "stdout",
     "output_type": "stream",
     "text": [
      "Epoch 1/10000\n",
      "16497/16504 [============================>.] - ETA: 0s - loss: 0.4277 - binary_crossentropy: 0.4277\n",
      "Epoch 1: val_loss improved from inf to 0.36192, saving model to model_keras.weights.h5\n",
      "16504/16504 [==============================] - 74s 4ms/step - loss: 0.4277 - binary_crossentropy: 0.4277 - val_loss: 0.3619 - val_binary_crossentropy: 0.3619 - lr: 0.0010\n",
      "Epoch 2/10000\n",
      "16490/16504 [============================>.] - ETA: 0s - loss: 0.3921 - binary_crossentropy: 0.3921\n",
      "Epoch 2: val_loss improved from 0.36192 to 0.35242, saving model to model_keras.weights.h5\n",
      "16504/16504 [==============================] - 73s 4ms/step - loss: 0.3921 - binary_crossentropy: 0.3921 - val_loss: 0.3524 - val_binary_crossentropy: 0.3524 - lr: 0.0010\n",
      "Epoch 3/10000\n",
      "16491/16504 [============================>.] - ETA: 0s - loss: 0.3866 - binary_crossentropy: 0.3866\n",
      "Epoch 3: val_loss improved from 0.35242 to 0.35199, saving model to model_keras.weights.h5\n",
      "16504/16504 [==============================] - 65s 4ms/step - loss: 0.3866 - binary_crossentropy: 0.3866 - val_loss: 0.3520 - val_binary_crossentropy: 0.3520 - lr: 0.0010\n",
      "Epoch 4/10000\n",
      "16495/16504 [============================>.] - ETA: 0s - loss: 0.3839 - binary_crossentropy: 0.3839\n",
      "Epoch 4: val_loss improved from 0.35199 to 0.35166, saving model to model_keras.weights.h5\n",
      "16504/16504 [==============================] - 72s 4ms/step - loss: 0.3839 - binary_crossentropy: 0.3839 - val_loss: 0.3517 - val_binary_crossentropy: 0.3517 - lr: 0.0010\n",
      "Epoch 5/10000\n",
      "16491/16504 [============================>.] - ETA: 0s - loss: 0.3838 - binary_crossentropy: 0.3838\n",
      "Epoch 5: val_loss did not improve from 0.35166\n",
      "16504/16504 [==============================] - 72s 4ms/step - loss: 0.3838 - binary_crossentropy: 0.3838 - val_loss: 0.3565 - val_binary_crossentropy: 0.3565 - lr: 0.0010\n",
      "Epoch 6/10000\n",
      "16500/16504 [============================>.] - ETA: 0s - loss: 0.3833 - binary_crossentropy: 0.3833\n",
      "Epoch 6: val_loss improved from 0.35166 to 0.35022, saving model to model_keras.weights.h5\n",
      "16504/16504 [==============================] - 70s 4ms/step - loss: 0.3833 - binary_crossentropy: 0.3833 - val_loss: 0.3502 - val_binary_crossentropy: 0.3502 - lr: 0.0010\n",
      "Epoch 7/10000\n",
      "16493/16504 [============================>.] - ETA: 0s - loss: 0.3824 - binary_crossentropy: 0.3824\n",
      "Epoch 7: val_loss did not improve from 0.35022\n",
      "16504/16504 [==============================] - 71s 4ms/step - loss: 0.3823 - binary_crossentropy: 0.3823 - val_loss: 0.3585 - val_binary_crossentropy: 0.3585 - lr: 0.0010\n",
      "Epoch 8/10000\n",
      "16493/16504 [============================>.] - ETA: 0s - loss: 0.3830 - binary_crossentropy: 0.3830\n",
      "Epoch 8: val_loss did not improve from 0.35022\n",
      "16504/16504 [==============================] - 71s 4ms/step - loss: 0.3830 - binary_crossentropy: 0.3830 - val_loss: 0.3555 - val_binary_crossentropy: 0.3555 - lr: 0.0010\n",
      "Epoch 9/10000\n",
      "16493/16504 [============================>.] - ETA: 0s - loss: 0.3805 - binary_crossentropy: 0.3805\n",
      "Epoch 9: val_loss did not improve from 0.35022\n",
      "16504/16504 [==============================] - 69s 4ms/step - loss: 0.3805 - binary_crossentropy: 0.3805 - val_loss: 0.3541 - val_binary_crossentropy: 0.3541 - lr: 0.0010\n",
      "Epoch 10/10000\n",
      "16501/16504 [============================>.] - ETA: 0s - loss: 0.3825 - binary_crossentropy: 0.3825\n",
      "Epoch 10: val_loss did not improve from 0.35022\n",
      "16504/16504 [==============================] - 71s 4ms/step - loss: 0.3825 - binary_crossentropy: 0.3825 - val_loss: 0.3520 - val_binary_crossentropy: 0.3520 - lr: 0.0010\n",
      "Epoch 11/10000\n",
      "16496/16504 [============================>.] - ETA: 0s - loss: 0.3798 - binary_crossentropy: 0.3798\n",
      "Epoch 11: val_loss did not improve from 0.35022\n",
      "\n",
      "Epoch 11: ReduceLROnPlateau reducing learning rate to 0.00010000000474974513.\n",
      "16504/16504 [==============================] - 70s 4ms/step - loss: 0.3798 - binary_crossentropy: 0.3798 - val_loss: 0.3517 - val_binary_crossentropy: 0.3517 - lr: 0.0010\n",
      "Epoch 12/10000\n",
      "16496/16504 [============================>.] - ETA: 0s - loss: 0.3791 - binary_crossentropy: 0.3791\n",
      "Epoch 12: val_loss did not improve from 0.35022\n",
      "16504/16504 [==============================] - 69s 4ms/step - loss: 0.3791 - binary_crossentropy: 0.3791 - val_loss: 0.3523 - val_binary_crossentropy: 0.3523 - lr: 1.0000e-04\n",
      "Epoch 13/10000\n",
      "16496/16504 [============================>.] - ETA: 0s - loss: 0.3790 - binary_crossentropy: 0.3790\n",
      "Epoch 13: val_loss improved from 0.35022 to 0.34969, saving model to model_keras.weights.h5\n",
      "16504/16504 [==============================] - 70s 4ms/step - loss: 0.3791 - binary_crossentropy: 0.3791 - val_loss: 0.3497 - val_binary_crossentropy: 0.3497 - lr: 1.0000e-04\n",
      "Epoch 14/10000\n",
      "16492/16504 [============================>.] - ETA: 0s - loss: 0.3788 - binary_crossentropy: 0.3788\n",
      "Epoch 14: val_loss did not improve from 0.34969\n",
      "16504/16504 [==============================] - 70s 4ms/step - loss: 0.3787 - binary_crossentropy: 0.3787 - val_loss: 0.3498 - val_binary_crossentropy: 0.3498 - lr: 1.0000e-04\n",
      "Epoch 15/10000\n",
      "16496/16504 [============================>.] - ETA: 0s - loss: 0.3767 - binary_crossentropy: 0.3767\n",
      "Epoch 15: val_loss did not improve from 0.34969\n",
      "16504/16504 [==============================] - 77s 5ms/step - loss: 0.3767 - binary_crossentropy: 0.3767 - val_loss: 0.3518 - val_binary_crossentropy: 0.3518 - lr: 1.0000e-04\n",
      "Epoch 16/10000\n",
      "16500/16504 [============================>.] - ETA: 0s - loss: 0.3762 - binary_crossentropy: 0.3762\n",
      "Epoch 16: val_loss improved from 0.34969 to 0.34950, saving model to model_keras.weights.h5\n",
      "16504/16504 [==============================] - 69s 4ms/step - loss: 0.3762 - binary_crossentropy: 0.3762 - val_loss: 0.3495 - val_binary_crossentropy: 0.3495 - lr: 1.0000e-04\n",
      "Epoch 17/10000\n",
      "16499/16504 [============================>.] - ETA: 0s - loss: 0.3770 - binary_crossentropy: 0.3770\n",
      "Epoch 17: val_loss did not improve from 0.34950\n",
      "16504/16504 [==============================] - 70s 4ms/step - loss: 0.3771 - binary_crossentropy: 0.3771 - val_loss: 0.3497 - val_binary_crossentropy: 0.3497 - lr: 1.0000e-04\n",
      "Epoch 18/10000\n",
      "16499/16504 [============================>.] - ETA: 0s - loss: 0.3776 - binary_crossentropy: 0.3776\n",
      "Epoch 18: val_loss did not improve from 0.34950\n",
      "16504/16504 [==============================] - 71s 4ms/step - loss: 0.3776 - binary_crossentropy: 0.3776 - val_loss: 0.3506 - val_binary_crossentropy: 0.3506 - lr: 1.0000e-04\n",
      "Epoch 19/10000\n",
      "16499/16504 [============================>.] - ETA: 0s - loss: 0.3781 - binary_crossentropy: 0.3781\n",
      "Epoch 19: val_loss did not improve from 0.34950\n",
      "16504/16504 [==============================] - 74s 4ms/step - loss: 0.3780 - binary_crossentropy: 0.3780 - val_loss: 0.3505 - val_binary_crossentropy: 0.3505 - lr: 1.0000e-04\n",
      "Epoch 20/10000\n",
      "16502/16504 [============================>.] - ETA: 0s - loss: 0.3764 - binary_crossentropy: 0.3764\n",
      "Epoch 20: val_loss did not improve from 0.34950\n",
      "16504/16504 [==============================] - 70s 4ms/step - loss: 0.3764 - binary_crossentropy: 0.3764 - val_loss: 0.3510 - val_binary_crossentropy: 0.3510 - lr: 1.0000e-04\n",
      "Epoch 21/10000\n",
      "16494/16504 [============================>.] - ETA: 0s - loss: 0.3765 - binary_crossentropy: 0.3765\n",
      "Epoch 21: val_loss improved from 0.34950 to 0.34925, saving model to model_keras.weights.h5\n",
      "16504/16504 [==============================] - 66s 4ms/step - loss: 0.3767 - binary_crossentropy: 0.3767 - val_loss: 0.3492 - val_binary_crossentropy: 0.3492 - lr: 1.0000e-04\n",
      "Epoch 22/10000\n",
      "16497/16504 [============================>.] - ETA: 0s - loss: 0.3758 - binary_crossentropy: 0.3758\n",
      "Epoch 22: val_loss did not improve from 0.34925\n",
      "16504/16504 [==============================] - 74s 4ms/step - loss: 0.3758 - binary_crossentropy: 0.3758 - val_loss: 0.3505 - val_binary_crossentropy: 0.3505 - lr: 1.0000e-04\n",
      "Epoch 23/10000\n",
      "16499/16504 [============================>.] - ETA: 0s - loss: 0.3761 - binary_crossentropy: 0.3761\n",
      "Epoch 23: val_loss did not improve from 0.34925\n",
      "16504/16504 [==============================] - 86s 5ms/step - loss: 0.3761 - binary_crossentropy: 0.3761 - val_loss: 0.3501 - val_binary_crossentropy: 0.3501 - lr: 1.0000e-04\n",
      "Epoch 24/10000\n",
      "16496/16504 [============================>.] - ETA: 0s - loss: 0.3762 - binary_crossentropy: 0.3762\n",
      "Epoch 24: val_loss did not improve from 0.34925\n",
      "16504/16504 [==============================] - 73s 4ms/step - loss: 0.3763 - binary_crossentropy: 0.3763 - val_loss: 0.3505 - val_binary_crossentropy: 0.3505 - lr: 1.0000e-04\n",
      "Epoch 25/10000\n",
      "16500/16504 [============================>.] - ETA: 0s - loss: 0.3779 - binary_crossentropy: 0.3779\n",
      "Epoch 25: val_loss did not improve from 0.34925\n",
      "16504/16504 [==============================] - 75s 5ms/step - loss: 0.3779 - binary_crossentropy: 0.3779 - val_loss: 0.3509 - val_binary_crossentropy: 0.3509 - lr: 1.0000e-04\n",
      "Epoch 26/10000\n",
      "16502/16504 [============================>.] - ETA: 0s - loss: 0.3774 - binary_crossentropy: 0.3774\n",
      "Epoch 26: val_loss did not improve from 0.34925\n",
      "\n",
      "Epoch 26: ReduceLROnPlateau reducing learning rate to 1.0000000474974514e-05.\n",
      "16504/16504 [==============================] - 73s 4ms/step - loss: 0.3774 - binary_crossentropy: 0.3774 - val_loss: 0.3508 - val_binary_crossentropy: 0.3508 - lr: 1.0000e-04\n",
      "Epoch 27/10000\n",
      "16492/16504 [============================>.] - ETA: 0s - loss: 0.3757 - binary_crossentropy: 0.3757\n",
      "Epoch 27: val_loss did not improve from 0.34925\n",
      "16504/16504 [==============================] - 72s 4ms/step - loss: 0.3757 - binary_crossentropy: 0.3757 - val_loss: 0.3504 - val_binary_crossentropy: 0.3504 - lr: 1.0000e-05\n",
      "Epoch 28/10000\n",
      "16499/16504 [============================>.] - ETA: 0s - loss: 0.3766 - binary_crossentropy: 0.3766\n",
      "Epoch 28: val_loss did not improve from 0.34925\n",
      "16504/16504 [==============================] - 67s 4ms/step - loss: 0.3766 - binary_crossentropy: 0.3766 - val_loss: 0.3498 - val_binary_crossentropy: 0.3498 - lr: 1.0000e-05\n",
      "Epoch 29/10000\n",
      "16490/16504 [============================>.] - ETA: 0s - loss: 0.3762 - binary_crossentropy: 0.3762\n",
      "Epoch 29: val_loss did not improve from 0.34925\n",
      "16504/16504 [==============================] - 69s 4ms/step - loss: 0.3762 - binary_crossentropy: 0.3762 - val_loss: 0.3503 - val_binary_crossentropy: 0.3503 - lr: 1.0000e-05\n",
      "Epoch 30/10000\n",
      "16489/16504 [============================>.] - ETA: 0s - loss: 0.3783 - binary_crossentropy: 0.3783\n",
      "Epoch 30: val_loss did not improve from 0.34925\n",
      "16504/16504 [==============================] - 70s 4ms/step - loss: 0.3783 - binary_crossentropy: 0.3783 - val_loss: 0.3501 - val_binary_crossentropy: 0.3501 - lr: 1.0000e-05\n",
      "Epoch 31/10000\n",
      "16495/16504 [============================>.] - ETA: 0s - loss: 0.3757 - binary_crossentropy: 0.3757\n",
      "Epoch 31: val_loss did not improve from 0.34925\n",
      "Restoring model weights from the end of the best epoch: 21.\n",
      "\n",
      "Epoch 31: ReduceLROnPlateau reducing learning rate to 1.0000000656873453e-06.\n",
      "16504/16504 [==============================] - 64s 4ms/step - loss: 0.3758 - binary_crossentropy: 0.3758 - val_loss: 0.3501 - val_binary_crossentropy: 0.3501 - lr: 1.0000e-05\n",
      "Epoch 31: early stopping\n"
     ]
    },
    {
     "data": {
      "text/plain": [
       "<keras.src.callbacks.History at 0x7f276c33ba60>"
      ]
     },
     "execution_count": 48,
     "metadata": {},
     "output_type": "execute_result"
    }
   ],
   "source": [
    "seed_everything(seed=123)  # 乱数ジェネレータのシードを固定するための関数呼び出し\n",
    "\n",
    "model = create_model()  # ニューラルネットワークモデルを作成する関数を呼び出してモデルを作成\n",
    "\n",
    "model.fit(  # モデルを訓練するメソッドの呼び出し\n",
    "    x=x_tr,  # 訓練データの入力\n",
    "    y=y_tr,  # 訓練データの出力\n",
    "    validation_data=(x_va, y_va),  # 検証データの入力と出力\n",
    "    batch_size=8,  # バッチサイズを8に設定\n",
    "    epochs=10000,  # エポック数を10000に設定\n",
    "    callbacks=[  # コールバック関数のリスト\n",
    "        ModelCheckpoint(  # ベストなモデルの重みを保存するコールバック\n",
    "            filepath=\"model_keras.weights.h5\",  # ファイルパス\n",
    "            monitor=\"val_loss\",  # 監視する指標は検証データの損失\n",
    "            mode=\"min\",  # 目標は最小化\n",
    "            verbose=1,  # ログを表示\n",
    "            save_best_only=True,  # 最も良いモデルのみ保存\n",
    "            save_weights_only=True,  # 重みのみ保存\n",
    "        ),\n",
    "        EarlyStopping(  # 訓練を早期に停止するコールバック\n",
    "            monitor=\"val_loss\",  # 監視する指標は検証データの損失\n",
    "            mode=\"min\",  # 目標は最小化\n",
    "            min_delta=0,  # 損失の改善がこの値より小さくなった場合に停止しない\n",
    "            patience=10,  # 損失が改善されないエポック数の許容範囲\n",
    "            verbose=1,  # ログを表示\n",
    "            restore_best_weights=True,  # 最も良いモデルの重みを復元\n",
    "        ),\n",
    "        ReduceLROnPlateau(  # 学習率を減少させるコールバック\n",
    "            monitor=\"val_loss\",  # 監視する指標は検証データの損失\n",
    "            mode=\"min\",  # 目標は最小化\n",
    "            factor=0.1,  # 学習率を減少させる因子\n",
    "            patience=5,  # 損失が改善されないエポック数の許容範囲\n",
    "            verbose=1,  # ログを表示\n",
    "        ),\n",
    "    ],\n",
    "    verbose=1,  # ログを表示\n",
    ")"
   ]
  },
  {
   "cell_type": "markdown",
   "id": "817d48e2",
   "metadata": {
    "id": "817d48e2"
   },
   "source": [
    "#### モデルの評価"
   ]
  },
  {
   "cell_type": "code",
   "execution_count": null,
   "id": "725f0524",
   "metadata": {
    "colab": {
     "base_uri": "https://localhost:8080/"
    },
    "executionInfo": {
     "elapsed": 10616,
     "status": "ok",
     "timestamp": 1715335177937,
     "user": {
      "displayName": "本間昭芳",
      "userId": "03750894339822144260"
     },
     "user_tz": -540
    },
    "id": "725f0524",
    "outputId": "a2232ea3-94cb-4c4c-d700-0e41cb7cedbe"
   },
   "outputs": [
    {
     "name": "stdout",
     "output_type": "stream",
     "text": [
      "4126/4126 [==============================] - 7s 2ms/step\n",
      "accuracy: 0.8492\n"
     ]
    }
   ],
   "source": [
    "y_va_pred = model.predict(x_va, batch_size=8, verbose=1)  # 検証データセット (x_va) 上での予測を行う。バッチサイズは8、予測の進行状況を表示する。\n",
    "\n",
    "print(\"accuracy: {:.4f}\".format(  # 精度を表示するための文字列を準備し、\n",
    "    accuracy_score(  # 精度を計算する\n",
    "        y_va,  # 実際のラベル\n",
    "        np.where(y_va_pred>=0.5, 1,0)  # 予測された確率が0.5以上の場合は1に、それ以外の場合は0に変換した予測値\n",
    "    )\n",
    "))  # 計算された精度を表示する"
   ]
  },
  {
   "cell_type": "markdown",
   "id": "mdvq-Iavy8H2",
   "metadata": {
    "id": "mdvq-Iavy8H2"
   },
   "source": [
    "推論用データセットを作成"
   ]
  },
  {
   "cell_type": "code",
   "execution_count": 58,
   "id": "puczDUTsyfyT",
   "metadata": {
    "executionInfo": {
     "elapsed": 725,
     "status": "ok",
     "timestamp": 1715755670088,
     "user": {
      "displayName": "本間昭芳",
      "userId": "03750894339822144260"
     },
     "user_tz": -540
    },
    "id": "puczDUTsyfyT"
   },
   "outputs": [],
   "source": [
    "# ファイル読み込み\n",
    "df_test = pd.read_csv(\"/content/drive/MyDrive/kaggle実践/銀行解約データセットを使用した二項分類/Bank Churn/test.csv\")\n",
    "\n",
    "#特徴量エンジニアリング\n",
    "df_test[\"NumOfProducts_/_Age\"] = df_test[\"NumOfProducts\"] / df_test[\"Age\"]\n",
    "df_test[\"Balance_-_NumOfProducts\"] = df_test[\"Balance\"] - df_test[\"NumOfProducts\"]\n",
    "df_test[\"mean_NumOfProducts_by_HasCrCard\"] = df_test.groupby(\"NumOfProducts\")[\"HasCrCard\"].transform(\"mean\")\n",
    "\n",
    "# データセット作成\n",
    "x_test = df_test[[\"IsActiveMember\",\"EstimatedSalary\",\"Age\",\"NumOfProducts\",\"NumOfProducts_/_Age\",\"Balance_-_NumOfProducts\",\"mean_NumOfProducts_by_HasCrCard\"]]\n",
    "id_test = df_test[[\"id\"]]"
   ]
  },
  {
   "cell_type": "markdown",
   "id": "RYmjmWVSzKPn",
   "metadata": {
    "id": "RYmjmWVSzKPn"
   },
   "source": [
    "数値データの正規化"
   ]
  },
  {
   "cell_type": "code",
   "execution_count": 57,
   "id": "G9RUrX8Czci6",
   "metadata": {
    "executionInfo": {
     "elapsed": 291,
     "status": "ok",
     "timestamp": 1715755627617,
     "user": {
      "displayName": "本間昭芳",
      "userId": "03750894339822144260"
     },
     "user_tz": -540
    },
    "id": "G9RUrX8Czci6"
   },
   "outputs": [],
   "source": [
    "### \"下の各特徴量の列の値を最小値で引き、その結果を\"下の特徴量の列の最大値と最小値の差で割ることで、最小-最大スケーリングを実行\n",
    "x_test[\"IsActiveMember\"] = (x_test[\"IsActiveMember\"] - x_test[\"IsActiveMember\"].min()) / (x_test[\"IsActiveMember\"].max() - x_test[\"IsActiveMember\"].min())\n",
    "\n",
    "x_test[\"EstimatedSalary\"] = (x_test[\"EstimatedSalary\"] - x_test[\"EstimatedSalary\"].min()) / (x_test[\"EstimatedSalary\"].max() - x_test[\"EstimatedSalary\"].min())\n",
    "\n",
    "x_test[\"Age\"] = (x_test[\"Age\"] - x_test[\"Age\"].min()) / (x_test[\"Age\"].max() - x_test[\"Age\"].min())\n",
    "\n",
    "x_test[\"NumOfProducts\"] = (x_test[\"NumOfProducts\"] - x_test[\"NumOfProducts\"].min()) / (x_test[\"NumOfProducts\"].max() - x_test[\"NumOfProducts\"].min())\n",
    "x_test[\"NumOfProducts_/_Age\"] = (x_test[\"NumOfProducts_/_Age\"] - x_test[\"NumOfProducts_/_Age\"].min()) / (x_test[\"NumOfProducts_/_Age\"].max() - x_test[\"NumOfProducts_/_Age\"].min())\n",
    "x_test[\"Balance_-_NumOfProducts\"] = (x_test[\"Balance_-_NumOfProducts\"] - x_test[\"Balance_-_NumOfProducts\"].min()) / (x_test[\"Balance_-_NumOfProducts\"].max() - x_test[\"Balance_-_NumOfProducts\"].min())\n",
    "x_test[\"mean_NumOfProducts_by_HasCrCard\"] = (x_test[\"mean_NumOfProducts_by_HasCrCard\"] - x_test[\"mean_NumOfProducts_by_HasCrCard\"].min()) / (x_test[\"mean_NumOfProducts_by_HasCrCard\"].max() - x_test[\"mean_NumOfProducts_by_HasCrCard\"].min())\n",
    "\n"
   ]
  },
  {
   "cell_type": "markdown",
   "id": "g-QDJEdWzgvU",
   "metadata": {
    "id": "g-QDJEdWzgvU"
   },
   "source": [
    "テストデータ予測"
   ]
  },
  {
   "cell_type": "code",
   "execution_count": 55,
   "id": "fT_YPfs-z3YI",
   "metadata": {
    "colab": {
     "base_uri": "https://localhost:8080/"
    },
    "executionInfo": {
     "elapsed": 27130,
     "status": "ok",
     "timestamp": 1715755277894,
     "user": {
      "displayName": "本間昭芳",
      "userId": "03750894339822144260"
     },
     "user_tz": -540
    },
    "id": "fT_YPfs-z3YI",
    "outputId": "41440fa5-8be4-4daa-97fd-d0a56c58eb35"
   },
   "outputs": [
    {
     "name": "stdout",
     "output_type": "stream",
     "text": [
      "3439/3439 [==============================] - 7s 2ms/step\n"
     ]
    }
   ],
   "source": [
    "y_test_pred = model.predict(x_test)\n"
   ]
  },
  {
   "cell_type": "markdown",
   "id": "WQ3TvA5P0C4l",
   "metadata": {
    "id": "WQ3TvA5P0C4l"
   },
   "source": [
    "提出ファイルの作成"
   ]
  },
  {
   "cell_type": "code",
   "execution_count": 56,
   "id": "fZ263Spk6YB5",
   "metadata": {
    "colab": {
     "base_uri": "https://localhost:8080/",
     "height": 206
    },
    "executionInfo": {
     "elapsed": 671,
     "status": "ok",
     "timestamp": 1715755283576,
     "user": {
      "displayName": "本間昭芳",
      "userId": "03750894339822144260"
     },
     "user_tz": -540
    },
    "id": "fZ263Spk6YB5",
    "outputId": "cf40344f-5e94-470c-9b12-df7b1a091ab5"
   },
   "outputs": [
    {
     "data": {
      "application/vnd.google.colaboratory.intrinsic+json": {
       "summary": "{\n  \"name\": \"df_submit\",\n  \"rows\": 5,\n  \"fields\": [\n    {\n      \"column\": \"id\",\n      \"properties\": {\n        \"dtype\": \"number\",\n        \"std\": 1,\n        \"min\": 165034,\n        \"max\": 165038,\n        \"num_unique_values\": 5,\n        \"samples\": [\n          165035,\n          165038,\n          165036\n        ],\n        \"semantic_type\": \"\",\n        \"description\": \"\"\n      }\n    },\n    {\n      \"column\": \"Exited\",\n      \"properties\": {\n        \"dtype\": \"float32\",\n        \"num_unique_values\": 5,\n        \"samples\": [\n          0.7445663809776306,\n          0.2110898643732071,\n          0.06349719315767288\n        ],\n        \"semantic_type\": \"\",\n        \"description\": \"\"\n      }\n    }\n  ]\n}",
       "type": "dataframe"
      },
      "text/html": [
       "\n",
       "  <div id=\"df-16c69633-153a-4a24-8d6b-1ba94f04060f\" class=\"colab-df-container\">\n",
       "    <div>\n",
       "<style scoped>\n",
       "    .dataframe tbody tr th:only-of-type {\n",
       "        vertical-align: middle;\n",
       "    }\n",
       "\n",
       "    .dataframe tbody tr th {\n",
       "        vertical-align: top;\n",
       "    }\n",
       "\n",
       "    .dataframe thead th {\n",
       "        text-align: right;\n",
       "    }\n",
       "</style>\n",
       "<table border=\"1\" class=\"dataframe\">\n",
       "  <thead>\n",
       "    <tr style=\"text-align: right;\">\n",
       "      <th></th>\n",
       "      <th>id</th>\n",
       "      <th>Exited</th>\n",
       "    </tr>\n",
       "  </thead>\n",
       "  <tbody>\n",
       "    <tr>\n",
       "      <th>0</th>\n",
       "      <td>165034</td>\n",
       "      <td>0.017303</td>\n",
       "    </tr>\n",
       "    <tr>\n",
       "      <th>1</th>\n",
       "      <td>165035</td>\n",
       "      <td>0.744566</td>\n",
       "    </tr>\n",
       "    <tr>\n",
       "      <th>2</th>\n",
       "      <td>165036</td>\n",
       "      <td>0.063497</td>\n",
       "    </tr>\n",
       "    <tr>\n",
       "      <th>3</th>\n",
       "      <td>165037</td>\n",
       "      <td>0.233344</td>\n",
       "    </tr>\n",
       "    <tr>\n",
       "      <th>4</th>\n",
       "      <td>165038</td>\n",
       "      <td>0.211090</td>\n",
       "    </tr>\n",
       "  </tbody>\n",
       "</table>\n",
       "</div>\n",
       "    <div class=\"colab-df-buttons\">\n",
       "\n",
       "  <div class=\"colab-df-container\">\n",
       "    <button class=\"colab-df-convert\" onclick=\"convertToInteractive('df-16c69633-153a-4a24-8d6b-1ba94f04060f')\"\n",
       "            title=\"Convert this dataframe to an interactive table.\"\n",
       "            style=\"display:none;\">\n",
       "\n",
       "  <svg xmlns=\"http://www.w3.org/2000/svg\" height=\"24px\" viewBox=\"0 -960 960 960\">\n",
       "    <path d=\"M120-120v-720h720v720H120Zm60-500h600v-160H180v160Zm220 220h160v-160H400v160Zm0 220h160v-160H400v160ZM180-400h160v-160H180v160Zm440 0h160v-160H620v160ZM180-180h160v-160H180v160Zm440 0h160v-160H620v160Z\"/>\n",
       "  </svg>\n",
       "    </button>\n",
       "\n",
       "  <style>\n",
       "    .colab-df-container {\n",
       "      display:flex;\n",
       "      gap: 12px;\n",
       "    }\n",
       "\n",
       "    .colab-df-convert {\n",
       "      background-color: #E8F0FE;\n",
       "      border: none;\n",
       "      border-radius: 50%;\n",
       "      cursor: pointer;\n",
       "      display: none;\n",
       "      fill: #1967D2;\n",
       "      height: 32px;\n",
       "      padding: 0 0 0 0;\n",
       "      width: 32px;\n",
       "    }\n",
       "\n",
       "    .colab-df-convert:hover {\n",
       "      background-color: #E2EBFA;\n",
       "      box-shadow: 0px 1px 2px rgba(60, 64, 67, 0.3), 0px 1px 3px 1px rgba(60, 64, 67, 0.15);\n",
       "      fill: #174EA6;\n",
       "    }\n",
       "\n",
       "    .colab-df-buttons div {\n",
       "      margin-bottom: 4px;\n",
       "    }\n",
       "\n",
       "    [theme=dark] .colab-df-convert {\n",
       "      background-color: #3B4455;\n",
       "      fill: #D2E3FC;\n",
       "    }\n",
       "\n",
       "    [theme=dark] .colab-df-convert:hover {\n",
       "      background-color: #434B5C;\n",
       "      box-shadow: 0px 1px 3px 1px rgba(0, 0, 0, 0.15);\n",
       "      filter: drop-shadow(0px 1px 2px rgba(0, 0, 0, 0.3));\n",
       "      fill: #FFFFFF;\n",
       "    }\n",
       "  </style>\n",
       "\n",
       "    <script>\n",
       "      const buttonEl =\n",
       "        document.querySelector('#df-16c69633-153a-4a24-8d6b-1ba94f04060f button.colab-df-convert');\n",
       "      buttonEl.style.display =\n",
       "        google.colab.kernel.accessAllowed ? 'block' : 'none';\n",
       "\n",
       "      async function convertToInteractive(key) {\n",
       "        const element = document.querySelector('#df-16c69633-153a-4a24-8d6b-1ba94f04060f');\n",
       "        const dataTable =\n",
       "          await google.colab.kernel.invokeFunction('convertToInteractive',\n",
       "                                                    [key], {});\n",
       "        if (!dataTable) return;\n",
       "\n",
       "        const docLinkHtml = 'Like what you see? Visit the ' +\n",
       "          '<a target=\"_blank\" href=https://colab.research.google.com/notebooks/data_table.ipynb>data table notebook</a>'\n",
       "          + ' to learn more about interactive tables.';\n",
       "        element.innerHTML = '';\n",
       "        dataTable['output_type'] = 'display_data';\n",
       "        await google.colab.output.renderOutput(dataTable, element);\n",
       "        const docLink = document.createElement('div');\n",
       "        docLink.innerHTML = docLinkHtml;\n",
       "        element.appendChild(docLink);\n",
       "      }\n",
       "    </script>\n",
       "  </div>\n",
       "\n",
       "\n",
       "<div id=\"df-820329cc-4874-43cb-bc28-53b07dc51ecd\">\n",
       "  <button class=\"colab-df-quickchart\" onclick=\"quickchart('df-820329cc-4874-43cb-bc28-53b07dc51ecd')\"\n",
       "            title=\"Suggest charts\"\n",
       "            style=\"display:none;\">\n",
       "\n",
       "<svg xmlns=\"http://www.w3.org/2000/svg\" height=\"24px\"viewBox=\"0 0 24 24\"\n",
       "     width=\"24px\">\n",
       "    <g>\n",
       "        <path d=\"M19 3H5c-1.1 0-2 .9-2 2v14c0 1.1.9 2 2 2h14c1.1 0 2-.9 2-2V5c0-1.1-.9-2-2-2zM9 17H7v-7h2v7zm4 0h-2V7h2v10zm4 0h-2v-4h2v4z\"/>\n",
       "    </g>\n",
       "</svg>\n",
       "  </button>\n",
       "\n",
       "<style>\n",
       "  .colab-df-quickchart {\n",
       "      --bg-color: #E8F0FE;\n",
       "      --fill-color: #1967D2;\n",
       "      --hover-bg-color: #E2EBFA;\n",
       "      --hover-fill-color: #174EA6;\n",
       "      --disabled-fill-color: #AAA;\n",
       "      --disabled-bg-color: #DDD;\n",
       "  }\n",
       "\n",
       "  [theme=dark] .colab-df-quickchart {\n",
       "      --bg-color: #3B4455;\n",
       "      --fill-color: #D2E3FC;\n",
       "      --hover-bg-color: #434B5C;\n",
       "      --hover-fill-color: #FFFFFF;\n",
       "      --disabled-bg-color: #3B4455;\n",
       "      --disabled-fill-color: #666;\n",
       "  }\n",
       "\n",
       "  .colab-df-quickchart {\n",
       "    background-color: var(--bg-color);\n",
       "    border: none;\n",
       "    border-radius: 50%;\n",
       "    cursor: pointer;\n",
       "    display: none;\n",
       "    fill: var(--fill-color);\n",
       "    height: 32px;\n",
       "    padding: 0;\n",
       "    width: 32px;\n",
       "  }\n",
       "\n",
       "  .colab-df-quickchart:hover {\n",
       "    background-color: var(--hover-bg-color);\n",
       "    box-shadow: 0 1px 2px rgba(60, 64, 67, 0.3), 0 1px 3px 1px rgba(60, 64, 67, 0.15);\n",
       "    fill: var(--button-hover-fill-color);\n",
       "  }\n",
       "\n",
       "  .colab-df-quickchart-complete:disabled,\n",
       "  .colab-df-quickchart-complete:disabled:hover {\n",
       "    background-color: var(--disabled-bg-color);\n",
       "    fill: var(--disabled-fill-color);\n",
       "    box-shadow: none;\n",
       "  }\n",
       "\n",
       "  .colab-df-spinner {\n",
       "    border: 2px solid var(--fill-color);\n",
       "    border-color: transparent;\n",
       "    border-bottom-color: var(--fill-color);\n",
       "    animation:\n",
       "      spin 1s steps(1) infinite;\n",
       "  }\n",
       "\n",
       "  @keyframes spin {\n",
       "    0% {\n",
       "      border-color: transparent;\n",
       "      border-bottom-color: var(--fill-color);\n",
       "      border-left-color: var(--fill-color);\n",
       "    }\n",
       "    20% {\n",
       "      border-color: transparent;\n",
       "      border-left-color: var(--fill-color);\n",
       "      border-top-color: var(--fill-color);\n",
       "    }\n",
       "    30% {\n",
       "      border-color: transparent;\n",
       "      border-left-color: var(--fill-color);\n",
       "      border-top-color: var(--fill-color);\n",
       "      border-right-color: var(--fill-color);\n",
       "    }\n",
       "    40% {\n",
       "      border-color: transparent;\n",
       "      border-right-color: var(--fill-color);\n",
       "      border-top-color: var(--fill-color);\n",
       "    }\n",
       "    60% {\n",
       "      border-color: transparent;\n",
       "      border-right-color: var(--fill-color);\n",
       "    }\n",
       "    80% {\n",
       "      border-color: transparent;\n",
       "      border-right-color: var(--fill-color);\n",
       "      border-bottom-color: var(--fill-color);\n",
       "    }\n",
       "    90% {\n",
       "      border-color: transparent;\n",
       "      border-bottom-color: var(--fill-color);\n",
       "    }\n",
       "  }\n",
       "</style>\n",
       "\n",
       "  <script>\n",
       "    async function quickchart(key) {\n",
       "      const quickchartButtonEl =\n",
       "        document.querySelector('#' + key + ' button');\n",
       "      quickchartButtonEl.disabled = true;  // To prevent multiple clicks.\n",
       "      quickchartButtonEl.classList.add('colab-df-spinner');\n",
       "      try {\n",
       "        const charts = await google.colab.kernel.invokeFunction(\n",
       "            'suggestCharts', [key], {});\n",
       "      } catch (error) {\n",
       "        console.error('Error during call to suggestCharts:', error);\n",
       "      }\n",
       "      quickchartButtonEl.classList.remove('colab-df-spinner');\n",
       "      quickchartButtonEl.classList.add('colab-df-quickchart-complete');\n",
       "    }\n",
       "    (() => {\n",
       "      let quickchartButtonEl =\n",
       "        document.querySelector('#df-820329cc-4874-43cb-bc28-53b07dc51ecd button');\n",
       "      quickchartButtonEl.style.display =\n",
       "        google.colab.kernel.accessAllowed ? 'block' : 'none';\n",
       "    })();\n",
       "  </script>\n",
       "</div>\n",
       "\n",
       "    </div>\n",
       "  </div>\n"
      ],
      "text/plain": [
       "       id    Exited\n",
       "0  165034  0.017303\n",
       "1  165035  0.744566\n",
       "2  165036  0.063497\n",
       "3  165037  0.233344\n",
       "4  165038  0.211090"
      ]
     },
     "metadata": {},
     "output_type": "display_data"
    }
   ],
   "source": [
    "df_submit = pd.DataFrame({\"id\": id_test[\"id\"], \"Exited\": y_test_pred[:, 0]})\n",
    "display(df_submit.head(5))\n",
    "df_submit.to_csv(\"/content/drive/MyDrive/kaggle実践/銀行解約データセットを使用した二項分類/submission_tensorflow1.csv\", index=None)"
   ]
  },
  {
   "cell_type": "markdown",
   "id": "5459fa48",
   "metadata": {
    "id": "5459fa48"
   },
   "source": [
    "### ニューラルネットワークの適用例：②埋め込み層ありのネットワークモデル\n",
    "#### ファイルの読み込みとデータセット作成"
   ]
  },
  {
   "cell_type": "code",
   "execution_count": null,
   "id": "9b118157",
   "metadata": {
    "id": "9b118157"
   },
   "outputs": [],
   "source": [
    "## ファイル読み込み\n",
    "df_train = pd.read_csv(\"/content/drive/MyDrive/kaggle実践/銀行解約データセットを使用した二項分類/Bank Churn/train.csv\")\n",
    "\n",
    "\n",
    "# データセット作成\n",
    "x_train = df_train[[\"IsActiveMember\",\"EstimatedSalary\",\"Age\",\"NumOfProducts\",\"Gender\"]]\n",
    "y_train = df_train[[\"Exited\"]]\n"
   ]
  },
  {
   "cell_type": "markdown",
   "id": "71e39576",
   "metadata": {
    "id": "71e39576"
   },
   "source": [
    "#### 数値データの前処理"
   ]
  },
  {
   "cell_type": "code",
   "execution_count": null,
   "id": "64755265",
   "metadata": {
    "id": "64755265"
   },
   "outputs": [],
   "source": [
    "# 正規化\n",
    "for col in [\"IsActiveMember\", \"EstimatedSalary\",\"Age\",\"NumOfProducts\"]:\n",
    "    value_min = x_train[col].min()\n",
    "    value_max = x_train[col].max()\n",
    "    x_train[col] = (x_train[col] - value_min) / (value_max - value_min)"
   ]
  },
  {
   "cell_type": "markdown",
   "id": "e058ac58",
   "metadata": {
    "id": "e058ac58"
   },
   "source": [
    "#### カテゴリ変数の前処理"
   ]
  },
  {
   "cell_type": "code",
   "execution_count": null,
   "id": "83fcc9f1",
   "metadata": {
    "colab": {
     "base_uri": "https://localhost:8080/"
    },
    "executionInfo": {
     "elapsed": 471,
     "status": "ok",
     "timestamp": 1715343915987,
     "user": {
      "displayName": "本間昭芳",
      "userId": "03750894339822144260"
     },
     "user_tz": -540
    },
    "id": "83fcc9f1",
    "outputId": "8bff5629-5eb8-414b-a1e6-cfc01284510f"
   },
   "outputs": [
    {
     "name": "stdout",
     "output_type": "stream",
     "text": [
      "['Female' 'Male']\n",
      "count: 2\n"
     ]
    }
   ],
   "source": [
    "# 欠損値補間は欠損値なしのため未実施\n",
    "\n",
    "\n",
    "# label-encoding：ラベルエンコーディングを行うための処理\n",
    "le = LabelEncoder()  # ラベルエンコーダーのインスタンスを生成\n",
    "le.fit(x_train[[\"Gender\"]])  # \"Surname\" 列の値を用いてラベルエンコーダーを適合させる\n",
    "x_train[\"Gender\"] = le.transform(x_train[\"Gender\"])  # \"Surname\" 列の各値をラベルエンコーダーを使用して数値に変換する\n",
    "\n",
    "print(le.classes_)  # ラベルエンコーダーが学習したクラス（カテゴリ）のリストを表示する\n",
    "print(\"count:\", len(le.classes_))  # 学習したクラス（カテゴリ）の数を表示する"
   ]
  },
  {
   "cell_type": "markdown",
   "id": "1e70f6cb",
   "metadata": {
    "id": "1e70f6cb"
   },
   "source": [
    "#### 学習データと検証データの分離"
   ]
  },
  {
   "cell_type": "code",
   "execution_count": null,
   "id": "e32026b7",
   "metadata": {
    "colab": {
     "base_uri": "https://localhost:8080/"
    },
    "executionInfo": {
     "elapsed": 685,
     "status": "ok",
     "timestamp": 1715343921538,
     "user": {
      "displayName": "本間昭芳",
      "userId": "03750894339822144260"
     },
     "user_tz": -540
    },
    "id": "e32026b7",
    "outputId": "067caa93-1319-4c94-c522-ae230d68f1a9"
   },
   "outputs": [
    {
     "name": "stdout",
     "output_type": "stream",
     "text": [
      "(132027, 4) (33007, 4) (132027, 1) (33007, 1) (132027, 1) (33007, 1)\n"
     ]
    }
   ],
   "source": [
    "x_train_num, x_train_cat = x_train[[\"IsActiveMember\", \"EstimatedSalary\",\"Age\",\"NumOfProducts\"]], x_train[[\"Gender\"]]\n",
    "\n",
    "x_num_tr, x_num_va, x_cat_tr, x_cat_va, y_tr, y_va = \\\n",
    "   train_test_split(x_train_num, x_train_cat, y_train, test_size=0.2, stratify=y_train, random_state=123)\n",
    "print(x_num_tr.shape, x_num_va.shape, x_cat_tr.shape, x_cat_va.shape, y_tr.shape, y_va.shape)"
   ]
  },
  {
   "cell_type": "markdown",
   "id": "7867b38a",
   "metadata": {
    "id": "7867b38a"
   },
   "source": [
    "#### モデル定義"
   ]
  },
  {
   "cell_type": "code",
   "execution_count": null,
   "id": "ed851e79",
   "metadata": {
    "colab": {
     "base_uri": "https://localhost:8080/"
    },
    "executionInfo": {
     "elapsed": 1174,
     "status": "ok",
     "timestamp": 1715343931431,
     "user": {
      "displayName": "本間昭芳",
      "userId": "03750894339822144260"
     },
     "user_tz": -540
    },
    "id": "ed851e79",
    "outputId": "237e7b75-b481-4e0c-f2bd-756c775c7f2a"
   },
   "outputs": [
    {
     "name": "stdout",
     "output_type": "stream",
     "text": [
      "Model: \"model\"\n",
      "__________________________________________________________________________________________________\n",
      " Layer (type)                Output Shape                 Param #   Connected to                  \n",
      "==================================================================================================\n",
      " input_1 (InputLayer)        [(None, 4)]                  0         []                            \n",
      "                                                                                                  \n",
      " input_2 (InputLayer)        [(None, 1)]                  0         []                            \n",
      "                                                                                                  \n",
      " dense (Dense)               (None, 10)                   50        ['input_1[0][0]']             \n",
      "                                                                                                  \n",
      " tf.__operators__.getitem (  (None,)                      0         ['input_2[0][0]']             \n",
      " SlicingOpLambda)                                                                                 \n",
      "                                                                                                  \n",
      " batch_normalization (Batch  (None, 10)                   40        ['dense[0][0]']               \n",
      " Normalization)                                                                                   \n",
      "                                                                                                  \n",
      " embedding (Embedding)       (None, 74)                   10952     ['tf.__operators__.getitem[0][\n",
      "                                                                    0]']                          \n",
      "                                                                                                  \n",
      " dropout (Dropout)           (None, 10)                   0         ['batch_normalization[0][0]'] \n",
      "                                                                                                  \n",
      " dropout_1 (Dropout)         (None, 74)                   0         ['embedding[0][0]']           \n",
      "                                                                                                  \n",
      " dense_1 (Dense)             (None, 10)                   110       ['dropout[0][0]']             \n",
      "                                                                                                  \n",
      " flatten (Flatten)           (None, 74)                   0         ['dropout_1[0][0]']           \n",
      "                                                                                                  \n",
      " concatenate (Concatenate)   (None, 84)                   0         ['dense_1[0][0]',             \n",
      "                                                                     'flatten[0][0]']             \n",
      "                                                                                                  \n",
      " dense_2 (Dense)             (None, 50)                   4250      ['concatenate[0][0]']         \n",
      "                                                                                                  \n",
      " batch_normalization_1 (Bat  (None, 50)                   200       ['dense_2[0][0]']             \n",
      " chNormalization)                                                                                 \n",
      "                                                                                                  \n",
      " dropout_2 (Dropout)         (None, 50)                   0         ['batch_normalization_1[0][0]'\n",
      "                                                                    ]                             \n",
      "                                                                                                  \n",
      " dense_3 (Dense)             (None, 20)                   1020      ['dropout_2[0][0]']           \n",
      "                                                                                                  \n",
      " batch_normalization_2 (Bat  (None, 20)                   80        ['dense_3[0][0]']             \n",
      " chNormalization)                                                                                 \n",
      "                                                                                                  \n",
      " dropout_3 (Dropout)         (None, 20)                   0         ['batch_normalization_2[0][0]'\n",
      "                                                                    ]                             \n",
      "                                                                                                  \n",
      " dense_4 (Dense)             (None, 1)                    21        ['dropout_3[0][0]']           \n",
      "                                                                                                  \n",
      "==================================================================================================\n",
      "Total params: 16723 (65.32 KB)\n",
      "Trainable params: 16563 (64.70 KB)\n",
      "Non-trainable params: 160 (640.00 Byte)\n",
      "__________________________________________________________________________________________________\n"
     ]
    }
   ],
   "source": [
    "def create_model_embedding():  # 埋め込みを使用したモデルを作成する関数の定義\n",
    "\n",
    "    ################# num\n",
    "    input_num = Input(shape=(4,))  # 数値データ用の入力層を定義し、形状を指定する\n",
    "\n",
    "    layer_num = Dense(10, activation=\"relu\")(input_num)  # 全結合層を定義し、活性化関数をReLUとして適用する\n",
    "    layer_num = BatchNormalization()(layer_num)  # バッチ正規化を適用する\n",
    "    layer_num = Dropout(0.2)(layer_num)  # ドロップアウトを適用する\n",
    "    layer_num = Dense(10, activation=\"relu\")(layer_num)  # もう一つの全結合層を定義し、活性化関数をReLUとして適用する\n",
    "\n",
    "    ################# cat\n",
    "    input_cat = Input(shape=(1,))  # カテゴリカルデータ用の入力層を定義し、形状を指定する\n",
    "\n",
    "    layer_cat = input_cat[:, 0]  # カテゴリカルデータの最初の要素を取得する\n",
    "    layer_cat = Embedding(input_dim=148, output_dim=74)(layer_cat)  # 埋め込み層を定義し、カテゴリ数と埋め込み次元を指定する\n",
    "    layer_cat = Dropout(0.2)(layer_cat)  # ドロップアウトを適用する\n",
    "    layer_cat = Flatten()(layer_cat)  # フラット化する\n",
    "\n",
    "    ################# concat\n",
    "    hidden_layer = Concatenate()([layer_num, layer_cat])  # 数値データとカテゴリカルデータを結合する\n",
    "    hidden_layer = Dense(50, activation=\"relu\")(hidden_layer)  # 全結合層を定義し、活性化関数をReLUとして適用する\n",
    "    hidden_layer = BatchNormalization()(hidden_layer)  # バッチ正規化を適用する\n",
    "    hidden_layer = Dropout(0.1)(hidden_layer)  # ドロップアウトを適用する\n",
    "    hidden_layer = Dense(20, activation=\"relu\")(hidden_layer)  # もう一つの全結合層を定義し、活性化関数をReLUとして適用する\n",
    "    hidden_layer = BatchNormalization()(hidden_layer)  # バッチ正規化を適用する\n",
    "    hidden_layer = Dropout(0.1)(hidden_layer)  # ドロップアウトを適用する\n",
    "\n",
    "    output_layer = Dense(1, activation=\"sigmoid\")(hidden_layer)  # 出力層を定義し、活性化関数をシグモイドとして適用する\n",
    "\n",
    "    model = Model(inputs=[input_num, input_cat],  # 入力層を指定し、\n",
    "                  outputs=output_layer,  # 出力層を指定する\n",
    "                 )\n",
    "\n",
    "    model.compile(  # モデルをコンパイルする\n",
    "        optimizer=\"Adam\",  # 最適化アルゴリズムを指定する\n",
    "        loss=\"binary_crossentropy\",  # 損失関数を指定する\n",
    "        metrics=[\"binary_crossentropy\"],  # 評価指標を指定する\n",
    "    )\n",
    "\n",
    "    return model  # 定義したモデルを返す\n",
    "\n",
    "model = create_model_embedding()  # 上記の関数を使用してモデルを作成する\n",
    "model.summary()  # モデルの概要を表示する"
   ]
  },
  {
   "cell_type": "markdown",
   "id": "e26fde78",
   "metadata": {
    "id": "e26fde78"
   },
   "source": [
    "#### モデルの学習"
   ]
  },
  {
   "cell_type": "code",
   "execution_count": null,
   "id": "f61cf668-f445-4f81-842f-3cf2b063f2f7",
   "metadata": {
    "colab": {
     "base_uri": "https://localhost:8080/"
    },
    "id": "f61cf668-f445-4f81-842f-3cf2b063f2f7",
    "outputId": "7aff349c-f59b-4a26-8be5-ab83c05863b8"
   },
   "outputs": [
    {
     "name": "stdout",
     "output_type": "stream",
     "text": [
      "Epoch 1/10000\n",
      "16491/16504 [============================>.] - ETA: 0s - loss: 0.4145 - binary_crossentropy: 0.4145\n",
      "Epoch 1: val_loss improved from inf to 0.36932, saving model to model_keras_embedding.weights.h5\n",
      "16504/16504 [==============================] - 77s 4ms/step - loss: 0.4144 - binary_crossentropy: 0.4144 - val_loss: 0.3693 - val_binary_crossentropy: 0.3693 - lr: 0.0010\n",
      "Epoch 2/10000\n",
      "16498/16504 [============================>.] - ETA: 0s - loss: 0.3889 - binary_crossentropy: 0.3889\n",
      "Epoch 2: val_loss did not improve from 0.36932\n",
      "16504/16504 [==============================] - 64s 4ms/step - loss: 0.3889 - binary_crossentropy: 0.3889 - val_loss: 0.3835 - val_binary_crossentropy: 0.3835 - lr: 0.0010\n",
      "Epoch 3/10000\n",
      "16496/16504 [============================>.] - ETA: 0s - loss: 0.3833 - binary_crossentropy: 0.3833\n",
      "Epoch 3: val_loss did not improve from 0.36932\n",
      "16504/16504 [==============================] - 86s 5ms/step - loss: 0.3833 - binary_crossentropy: 0.3833 - val_loss: 0.3805 - val_binary_crossentropy: 0.3805 - lr: 0.0010\n",
      "Epoch 4/10000\n",
      "16494/16504 [============================>.] - ETA: 0s - loss: 0.3828 - binary_crossentropy: 0.3828\n",
      "Epoch 4: val_loss did not improve from 0.36932\n",
      "16504/16504 [==============================] - 70s 4ms/step - loss: 0.3828 - binary_crossentropy: 0.3828 - val_loss: 0.3725 - val_binary_crossentropy: 0.3725 - lr: 0.0010\n",
      "Epoch 5/10000\n",
      "16498/16504 [============================>.] - ETA: 0s - loss: 0.3817 - binary_crossentropy: 0.3817\n",
      "Epoch 5: val_loss did not improve from 0.36932\n",
      "16504/16504 [==============================] - 73s 4ms/step - loss: 0.3816 - binary_crossentropy: 0.3816 - val_loss: 0.3694 - val_binary_crossentropy: 0.3694 - lr: 0.0010\n",
      "Epoch 6/10000\n",
      "16488/16504 [============================>.] - ETA: 0s - loss: 0.3809 - binary_crossentropy: 0.3809\n",
      "Epoch 6: val_loss improved from 0.36932 to 0.36713, saving model to model_keras_embedding.weights.h5\n",
      "16504/16504 [==============================] - 74s 5ms/step - loss: 0.3809 - binary_crossentropy: 0.3809 - val_loss: 0.3671 - val_binary_crossentropy: 0.3671 - lr: 0.0010\n",
      "Epoch 7/10000\n",
      "16498/16504 [============================>.] - ETA: 0s - loss: 0.3798 - binary_crossentropy: 0.3798\n",
      "Epoch 7: val_loss did not improve from 0.36713\n",
      "16504/16504 [==============================] - 75s 5ms/step - loss: 0.3798 - binary_crossentropy: 0.3798 - val_loss: 0.3796 - val_binary_crossentropy: 0.3796 - lr: 0.0010\n",
      "Epoch 8/10000\n",
      "16498/16504 [============================>.] - ETA: 0s - loss: 0.3796 - binary_crossentropy: 0.3796\n",
      "Epoch 8: val_loss did not improve from 0.36713\n",
      "16504/16504 [==============================] - 70s 4ms/step - loss: 0.3797 - binary_crossentropy: 0.3797 - val_loss: 0.3680 - val_binary_crossentropy: 0.3680 - lr: 0.0010\n",
      "Epoch 9/10000\n",
      "16491/16504 [============================>.] - ETA: 0s - loss: 0.3778 - binary_crossentropy: 0.3778\n",
      "Epoch 9: val_loss improved from 0.36713 to 0.35916, saving model to model_keras_embedding.weights.h5\n",
      "16504/16504 [==============================] - 76s 5ms/step - loss: 0.3779 - binary_crossentropy: 0.3779 - val_loss: 0.3592 - val_binary_crossentropy: 0.3592 - lr: 0.0010\n",
      "Epoch 10/10000\n",
      "16496/16504 [============================>.] - ETA: 0s - loss: 0.3788 - binary_crossentropy: 0.3788\n",
      "Epoch 10: val_loss did not improve from 0.35916\n",
      "16504/16504 [==============================] - 68s 4ms/step - loss: 0.3789 - binary_crossentropy: 0.3789 - val_loss: 0.3648 - val_binary_crossentropy: 0.3648 - lr: 0.0010\n",
      "Epoch 11/10000\n",
      "16502/16504 [============================>.] - ETA: 0s - loss: 0.3767 - binary_crossentropy: 0.3767\n",
      "Epoch 11: val_loss did not improve from 0.35916\n",
      "16504/16504 [==============================] - 73s 4ms/step - loss: 0.3767 - binary_crossentropy: 0.3767 - val_loss: 0.3614 - val_binary_crossentropy: 0.3614 - lr: 0.0010\n",
      "Epoch 12/10000\n",
      "16497/16504 [============================>.] - ETA: 0s - loss: 0.3775 - binary_crossentropy: 0.3775\n",
      "Epoch 12: val_loss did not improve from 0.35916\n",
      "16504/16504 [==============================] - 71s 4ms/step - loss: 0.3776 - binary_crossentropy: 0.3776 - val_loss: 0.3592 - val_binary_crossentropy: 0.3592 - lr: 0.0010\n",
      "Epoch 13/10000\n",
      "13502/16504 [=======================>......] - ETA: 11s - loss: 0.3779 - binary_crossentropy: 0.3779"
     ]
    }
   ],
   "source": [
    "model = create_model_embedding()  # 埋め込みを含むモデルを作成する関数を呼び出す\n",
    "model.fit(x=[x_num_tr, x_cat_tr],  # 数値特徴とカテゴリカル特徴のトレーニングデータを指定\n",
    "          y=y_tr,  # トレーニングデータの目標値を指定\n",
    "          validation_data=([x_num_va, x_cat_va], y_va),  # 検証データを指定\n",
    "          batch_size=8,  # ミニバッチのサイズを指定\n",
    "          epochs=10000,  # エポック数を指定\n",
    "          callbacks=[  # コールバック関数のリストを指定\n",
    "              ModelCheckpoint(filepath=\"model_keras_embedding.weights.h5\",  # ベストのモデルの重みを保存するファイルパスを指定\n",
    "                              monitor=\"val_loss\",  # 監視する指標を指定\n",
    "                              mode=\"min\",  # 監視する指標の最小化を指定\n",
    "                              verbose=1,  # 進捗情報を表示するかどうかを指定\n",
    "                              save_best_only=True,  # 最良のモデルのみ保存するかどうかを指定\n",
    "                              save_weights_only=True),  # 重みのみを保存するかどうかを指定\n",
    "              EarlyStopping(monitor=\"val_loss\",  # 監視する指標を指定\n",
    "                            mode=\"min\",  # 監視する指標の最小化を指定\n",
    "                            min_delta=0,  # 早期停止の閾値を指定\n",
    "                            patience=10,  # 指標が改善されないエポック数の許容範囲を指定\n",
    "                            verbose=1,  # 進捗情報を表示するかどうかを指定\n",
    "                            restore_best_weights=True),  # 最良の重みを復元するかどうかを指定\n",
    "              ReduceLROnPlateau(monitor=\"val_loss\",  # 監視する指標を指定\n",
    "                                mode=\"min\",  # 監視する指標の最小化を指定\n",
    "                                factor=0.1,  # 学習率を減少させる因子を指定\n",
    "                                patience=5,  # 指標が改善されないエポック数の許容範囲を指定\n",
    "                                verbose=1),  # 進捗情報を表示するかどうかを指定\n",
    "          ],\n",
    "          verbose=1,  # トレーニングの進行状況を表示する方法を指定\n",
    "         )"
   ]
  },
  {
   "cell_type": "markdown",
   "id": "1a4b275a",
   "metadata": {
    "id": "1a4b275a"
   },
   "source": [
    "#### モデル評価"
   ]
  },
  {
   "cell_type": "code",
   "execution_count": null,
   "id": "e0ed8fe3",
   "metadata": {
    "colab": {
     "base_uri": "https://localhost:8080/"
    },
    "executionInfo": {
     "elapsed": 25529,
     "status": "ok",
     "timestamp": 1715345372036,
     "user": {
      "displayName": "本間昭芳",
      "userId": "03750894339822144260"
     },
     "user_tz": -540
    },
    "id": "e0ed8fe3",
    "outputId": "bceae908-cd5d-4d93-9415-bcf21b38da43"
   },
   "outputs": [
    {
     "name": "stdout",
     "output_type": "stream",
     "text": [
      "4126/4126 [==============================] - 9s 2ms/step\n",
      "accuracy: 0.8494\n"
     ]
    }
   ],
   "source": [
    "y_va_pred = model.predict([x_num_va, x_cat_va], batch_size=8, verbose=1)  # 検証データに対する予測を行う\n",
    "\n",
    "print(\"accuracy: {:.4f}\".format(accuracy_score(y_va, np.where(y_va_pred>=0.5,1,0))))  # 予測結果の精度を評価して出力する"
   ]
  },
  {
   "cell_type": "markdown",
   "id": "kCpMBLmukM-v",
   "metadata": {
    "id": "kCpMBLmukM-v"
   },
   "source": [
    "推論用データセット作成"
   ]
  },
  {
   "cell_type": "code",
   "execution_count": null,
   "id": "TjcWQ_IhkLEi",
   "metadata": {
    "id": "TjcWQ_IhkLEi"
   },
   "outputs": [],
   "source": [
    "## ファイル読み込み\n",
    "df_test = pd.read_csv(\"/content/drive/MyDrive/kaggle実践/銀行解約データセットを使用した二項分類/Bank Churn/test.csv\")\n",
    "\n",
    "\n",
    "# データセット作成\n",
    "x_num_test = x_test[[\"IsActiveMember\", \"EstimatedSalary\", \"Age\", \"NumOfProducts\"]]\n",
    "x_cat_test = x_test[[\"Gender\"]]\n",
    "\n",
    "id_test = df_test[[\"id\"]]\n",
    "\n"
   ]
  },
  {
   "cell_type": "markdown",
   "id": "uOiYFG0Eksnu",
   "metadata": {
    "id": "uOiYFG0Eksnu"
   },
   "source": [
    "数値データの前処理"
   ]
  },
  {
   "cell_type": "code",
   "execution_count": null,
   "id": "AlHACI54kvNm",
   "metadata": {
    "id": "AlHACI54kvNm"
   },
   "outputs": [],
   "source": [
    "# 正規化\n",
    "for col in [\"IsActiveMember\", \"EstimatedSalary\",\"Age\",\"NumOfProducts\"]:\n",
    "    value_min = x_test[col].min()\n",
    "    value_max = x_test[col].max()\n",
    "    x_test[col] = (x_test[col] - value_min) / (value_max - value_min)"
   ]
  },
  {
   "cell_type": "markdown",
   "id": "ttG6wqQMjjWw",
   "metadata": {
    "id": "ttG6wqQMjjWw"
   },
   "source": [
    "カテゴリ変数の前処理"
   ]
  },
  {
   "cell_type": "code",
   "execution_count": null,
   "id": "h5BAyHeWkJoZ",
   "metadata": {
    "colab": {
     "base_uri": "https://localhost:8080/"
    },
    "executionInfo": {
     "elapsed": 825,
     "status": "ok",
     "timestamp": 1715347781247,
     "user": {
      "displayName": "本間昭芳",
      "userId": "03750894339822144260"
     },
     "user_tz": -540
    },
    "id": "h5BAyHeWkJoZ",
    "outputId": "57bd1bf8-dc0d-4fb0-f802-09044e558e09"
   },
   "outputs": [
    {
     "name": "stdout",
     "output_type": "stream",
     "text": [
      "[0 1]\n",
      "count: 2\n"
     ]
    }
   ],
   "source": [
    "\n",
    "# label-encoding：ラベルエンコーディングを行うための処理\n",
    "le = LabelEncoder()  # ラベルエンコーダーのインスタンスを生成\n",
    "le.fit(x_test[[\"Gender\"]])  # \"Surname\" 列の値を用いてラベルエンコーダーを適合させる\n",
    "x_test[\"Gender\"] = le.transform(x_test[\"Gender\"])  # \"Surname\" 列の各値をラベルエンコーダーを使用して数値に変換する\n",
    "\n",
    "print(le.classes_)  # ラベルエンコーダーが学習したクラス（カテゴリ）のリストを表示する\n",
    "print(\"count:\", len(le.classes_))  # 学習したクラス（カテゴリ）の数を表示する"
   ]
  },
  {
   "cell_type": "markdown",
   "id": "3NsGnI-lmSFH",
   "metadata": {
    "id": "3NsGnI-lmSFH"
   },
   "source": [
    "データ予測"
   ]
  },
  {
   "cell_type": "code",
   "execution_count": null,
   "id": "h7b2VNv4mRTV",
   "metadata": {
    "colab": {
     "base_uri": "https://localhost:8080/"
    },
    "executionInfo": {
     "elapsed": 10262,
     "status": "ok",
     "timestamp": 1715347813704,
     "user": {
      "displayName": "本間昭芳",
      "userId": "03750894339822144260"
     },
     "user_tz": -540
    },
    "id": "h7b2VNv4mRTV",
    "outputId": "eccb538b-97b7-4ffe-d7cc-873637cd9328"
   },
   "outputs": [
    {
     "name": "stdout",
     "output_type": "stream",
     "text": [
      "3439/3439 [==============================] - 9s 3ms/step\n"
     ]
    }
   ],
   "source": [
    "y_test_pred = model.predict([x_num_test, x_cat_test])"
   ]
  },
  {
   "cell_type": "markdown",
   "id": "2DukH2R9thK0",
   "metadata": {
    "id": "2DukH2R9thK0"
   },
   "source": [
    "提出ファイル作成"
   ]
  },
  {
   "cell_type": "code",
   "execution_count": null,
   "id": "9e3e9b2b-8fed-4cc5-8513-db4a3d72998d",
   "metadata": {
    "colab": {
     "base_uri": "https://localhost:8080/",
     "height": 206
    },
    "executionInfo": {
     "elapsed": 747,
     "status": "ok",
     "timestamp": 1715348088194,
     "user": {
      "displayName": "本間昭芳",
      "userId": "03750894339822144260"
     },
     "user_tz": -540
    },
    "id": "9e3e9b2b-8fed-4cc5-8513-db4a3d72998d",
    "outputId": "e69144da-1bb9-46f0-821d-b0169a170208"
   },
   "outputs": [
    {
     "data": {
      "application/vnd.google.colaboratory.intrinsic+json": {
       "summary": "{\n  \"name\": \"df_submit\",\n  \"rows\": 5,\n  \"fields\": [\n    {\n      \"column\": \"id\",\n      \"properties\": {\n        \"dtype\": \"number\",\n        \"std\": 1,\n        \"min\": 165034,\n        \"max\": 165038,\n        \"num_unique_values\": 5,\n        \"samples\": [\n          165035,\n          165038,\n          165036\n        ],\n        \"semantic_type\": \"\",\n        \"description\": \"\"\n      }\n    },\n    {\n      \"column\": \"Exited\",\n      \"properties\": {\n        \"dtype\": \"float32\",\n        \"num_unique_values\": 5,\n        \"samples\": [\n          0.7809596657752991,\n          0.2591187655925751,\n          0.07387293875217438\n        ],\n        \"semantic_type\": \"\",\n        \"description\": \"\"\n      }\n    }\n  ]\n}",
       "type": "dataframe"
      },
      "text/html": [
       "\n",
       "  <div id=\"df-f4ee2ec9-acfb-4268-97e2-a3dd3edacfac\" class=\"colab-df-container\">\n",
       "    <div>\n",
       "<style scoped>\n",
       "    .dataframe tbody tr th:only-of-type {\n",
       "        vertical-align: middle;\n",
       "    }\n",
       "\n",
       "    .dataframe tbody tr th {\n",
       "        vertical-align: top;\n",
       "    }\n",
       "\n",
       "    .dataframe thead th {\n",
       "        text-align: right;\n",
       "    }\n",
       "</style>\n",
       "<table border=\"1\" class=\"dataframe\">\n",
       "  <thead>\n",
       "    <tr style=\"text-align: right;\">\n",
       "      <th></th>\n",
       "      <th>id</th>\n",
       "      <th>Exited</th>\n",
       "    </tr>\n",
       "  </thead>\n",
       "  <tbody>\n",
       "    <tr>\n",
       "      <th>0</th>\n",
       "      <td>165034</td>\n",
       "      <td>0.015464</td>\n",
       "    </tr>\n",
       "    <tr>\n",
       "      <th>1</th>\n",
       "      <td>165035</td>\n",
       "      <td>0.780960</td>\n",
       "    </tr>\n",
       "    <tr>\n",
       "      <th>2</th>\n",
       "      <td>165036</td>\n",
       "      <td>0.073873</td>\n",
       "    </tr>\n",
       "    <tr>\n",
       "      <th>3</th>\n",
       "      <td>165037</td>\n",
       "      <td>0.226839</td>\n",
       "    </tr>\n",
       "    <tr>\n",
       "      <th>4</th>\n",
       "      <td>165038</td>\n",
       "      <td>0.259119</td>\n",
       "    </tr>\n",
       "  </tbody>\n",
       "</table>\n",
       "</div>\n",
       "    <div class=\"colab-df-buttons\">\n",
       "\n",
       "  <div class=\"colab-df-container\">\n",
       "    <button class=\"colab-df-convert\" onclick=\"convertToInteractive('df-f4ee2ec9-acfb-4268-97e2-a3dd3edacfac')\"\n",
       "            title=\"Convert this dataframe to an interactive table.\"\n",
       "            style=\"display:none;\">\n",
       "\n",
       "  <svg xmlns=\"http://www.w3.org/2000/svg\" height=\"24px\" viewBox=\"0 -960 960 960\">\n",
       "    <path d=\"M120-120v-720h720v720H120Zm60-500h600v-160H180v160Zm220 220h160v-160H400v160Zm0 220h160v-160H400v160ZM180-400h160v-160H180v160Zm440 0h160v-160H620v160ZM180-180h160v-160H180v160Zm440 0h160v-160H620v160Z\"/>\n",
       "  </svg>\n",
       "    </button>\n",
       "\n",
       "  <style>\n",
       "    .colab-df-container {\n",
       "      display:flex;\n",
       "      gap: 12px;\n",
       "    }\n",
       "\n",
       "    .colab-df-convert {\n",
       "      background-color: #E8F0FE;\n",
       "      border: none;\n",
       "      border-radius: 50%;\n",
       "      cursor: pointer;\n",
       "      display: none;\n",
       "      fill: #1967D2;\n",
       "      height: 32px;\n",
       "      padding: 0 0 0 0;\n",
       "      width: 32px;\n",
       "    }\n",
       "\n",
       "    .colab-df-convert:hover {\n",
       "      background-color: #E2EBFA;\n",
       "      box-shadow: 0px 1px 2px rgba(60, 64, 67, 0.3), 0px 1px 3px 1px rgba(60, 64, 67, 0.15);\n",
       "      fill: #174EA6;\n",
       "    }\n",
       "\n",
       "    .colab-df-buttons div {\n",
       "      margin-bottom: 4px;\n",
       "    }\n",
       "\n",
       "    [theme=dark] .colab-df-convert {\n",
       "      background-color: #3B4455;\n",
       "      fill: #D2E3FC;\n",
       "    }\n",
       "\n",
       "    [theme=dark] .colab-df-convert:hover {\n",
       "      background-color: #434B5C;\n",
       "      box-shadow: 0px 1px 3px 1px rgba(0, 0, 0, 0.15);\n",
       "      filter: drop-shadow(0px 1px 2px rgba(0, 0, 0, 0.3));\n",
       "      fill: #FFFFFF;\n",
       "    }\n",
       "  </style>\n",
       "\n",
       "    <script>\n",
       "      const buttonEl =\n",
       "        document.querySelector('#df-f4ee2ec9-acfb-4268-97e2-a3dd3edacfac button.colab-df-convert');\n",
       "      buttonEl.style.display =\n",
       "        google.colab.kernel.accessAllowed ? 'block' : 'none';\n",
       "\n",
       "      async function convertToInteractive(key) {\n",
       "        const element = document.querySelector('#df-f4ee2ec9-acfb-4268-97e2-a3dd3edacfac');\n",
       "        const dataTable =\n",
       "          await google.colab.kernel.invokeFunction('convertToInteractive',\n",
       "                                                    [key], {});\n",
       "        if (!dataTable) return;\n",
       "\n",
       "        const docLinkHtml = 'Like what you see? Visit the ' +\n",
       "          '<a target=\"_blank\" href=https://colab.research.google.com/notebooks/data_table.ipynb>data table notebook</a>'\n",
       "          + ' to learn more about interactive tables.';\n",
       "        element.innerHTML = '';\n",
       "        dataTable['output_type'] = 'display_data';\n",
       "        await google.colab.output.renderOutput(dataTable, element);\n",
       "        const docLink = document.createElement('div');\n",
       "        docLink.innerHTML = docLinkHtml;\n",
       "        element.appendChild(docLink);\n",
       "      }\n",
       "    </script>\n",
       "  </div>\n",
       "\n",
       "\n",
       "<div id=\"df-12afd32d-01a6-4257-b500-c95b18adf3c6\">\n",
       "  <button class=\"colab-df-quickchart\" onclick=\"quickchart('df-12afd32d-01a6-4257-b500-c95b18adf3c6')\"\n",
       "            title=\"Suggest charts\"\n",
       "            style=\"display:none;\">\n",
       "\n",
       "<svg xmlns=\"http://www.w3.org/2000/svg\" height=\"24px\"viewBox=\"0 0 24 24\"\n",
       "     width=\"24px\">\n",
       "    <g>\n",
       "        <path d=\"M19 3H5c-1.1 0-2 .9-2 2v14c0 1.1.9 2 2 2h14c1.1 0 2-.9 2-2V5c0-1.1-.9-2-2-2zM9 17H7v-7h2v7zm4 0h-2V7h2v10zm4 0h-2v-4h2v4z\"/>\n",
       "    </g>\n",
       "</svg>\n",
       "  </button>\n",
       "\n",
       "<style>\n",
       "  .colab-df-quickchart {\n",
       "      --bg-color: #E8F0FE;\n",
       "      --fill-color: #1967D2;\n",
       "      --hover-bg-color: #E2EBFA;\n",
       "      --hover-fill-color: #174EA6;\n",
       "      --disabled-fill-color: #AAA;\n",
       "      --disabled-bg-color: #DDD;\n",
       "  }\n",
       "\n",
       "  [theme=dark] .colab-df-quickchart {\n",
       "      --bg-color: #3B4455;\n",
       "      --fill-color: #D2E3FC;\n",
       "      --hover-bg-color: #434B5C;\n",
       "      --hover-fill-color: #FFFFFF;\n",
       "      --disabled-bg-color: #3B4455;\n",
       "      --disabled-fill-color: #666;\n",
       "  }\n",
       "\n",
       "  .colab-df-quickchart {\n",
       "    background-color: var(--bg-color);\n",
       "    border: none;\n",
       "    border-radius: 50%;\n",
       "    cursor: pointer;\n",
       "    display: none;\n",
       "    fill: var(--fill-color);\n",
       "    height: 32px;\n",
       "    padding: 0;\n",
       "    width: 32px;\n",
       "  }\n",
       "\n",
       "  .colab-df-quickchart:hover {\n",
       "    background-color: var(--hover-bg-color);\n",
       "    box-shadow: 0 1px 2px rgba(60, 64, 67, 0.3), 0 1px 3px 1px rgba(60, 64, 67, 0.15);\n",
       "    fill: var(--button-hover-fill-color);\n",
       "  }\n",
       "\n",
       "  .colab-df-quickchart-complete:disabled,\n",
       "  .colab-df-quickchart-complete:disabled:hover {\n",
       "    background-color: var(--disabled-bg-color);\n",
       "    fill: var(--disabled-fill-color);\n",
       "    box-shadow: none;\n",
       "  }\n",
       "\n",
       "  .colab-df-spinner {\n",
       "    border: 2px solid var(--fill-color);\n",
       "    border-color: transparent;\n",
       "    border-bottom-color: var(--fill-color);\n",
       "    animation:\n",
       "      spin 1s steps(1) infinite;\n",
       "  }\n",
       "\n",
       "  @keyframes spin {\n",
       "    0% {\n",
       "      border-color: transparent;\n",
       "      border-bottom-color: var(--fill-color);\n",
       "      border-left-color: var(--fill-color);\n",
       "    }\n",
       "    20% {\n",
       "      border-color: transparent;\n",
       "      border-left-color: var(--fill-color);\n",
       "      border-top-color: var(--fill-color);\n",
       "    }\n",
       "    30% {\n",
       "      border-color: transparent;\n",
       "      border-left-color: var(--fill-color);\n",
       "      border-top-color: var(--fill-color);\n",
       "      border-right-color: var(--fill-color);\n",
       "    }\n",
       "    40% {\n",
       "      border-color: transparent;\n",
       "      border-right-color: var(--fill-color);\n",
       "      border-top-color: var(--fill-color);\n",
       "    }\n",
       "    60% {\n",
       "      border-color: transparent;\n",
       "      border-right-color: var(--fill-color);\n",
       "    }\n",
       "    80% {\n",
       "      border-color: transparent;\n",
       "      border-right-color: var(--fill-color);\n",
       "      border-bottom-color: var(--fill-color);\n",
       "    }\n",
       "    90% {\n",
       "      border-color: transparent;\n",
       "      border-bottom-color: var(--fill-color);\n",
       "    }\n",
       "  }\n",
       "</style>\n",
       "\n",
       "  <script>\n",
       "    async function quickchart(key) {\n",
       "      const quickchartButtonEl =\n",
       "        document.querySelector('#' + key + ' button');\n",
       "      quickchartButtonEl.disabled = true;  // To prevent multiple clicks.\n",
       "      quickchartButtonEl.classList.add('colab-df-spinner');\n",
       "      try {\n",
       "        const charts = await google.colab.kernel.invokeFunction(\n",
       "            'suggestCharts', [key], {});\n",
       "      } catch (error) {\n",
       "        console.error('Error during call to suggestCharts:', error);\n",
       "      }\n",
       "      quickchartButtonEl.classList.remove('colab-df-spinner');\n",
       "      quickchartButtonEl.classList.add('colab-df-quickchart-complete');\n",
       "    }\n",
       "    (() => {\n",
       "      let quickchartButtonEl =\n",
       "        document.querySelector('#df-12afd32d-01a6-4257-b500-c95b18adf3c6 button');\n",
       "      quickchartButtonEl.style.display =\n",
       "        google.colab.kernel.accessAllowed ? 'block' : 'none';\n",
       "    })();\n",
       "  </script>\n",
       "</div>\n",
       "\n",
       "    </div>\n",
       "  </div>\n"
      ],
      "text/plain": [
       "       id    Exited\n",
       "0  165034  0.015464\n",
       "1  165035  0.780960\n",
       "2  165036  0.073873\n",
       "3  165037  0.226839\n",
       "4  165038  0.259119"
      ]
     },
     "metadata": {},
     "output_type": "display_data"
    }
   ],
   "source": [
    "df_submit = pd.DataFrame({\"id\": id_test[\"id\"], \"Exited\": y_test_pred[:, 0]})\n",
    "display(df_submit.head(5))\n",
    "df_submit.to_csv(\"/content/drive/MyDrive/kaggle実践/銀行解約データセットを使用した二項分類/submission_tensorflow2.csv\", index=None)"
   ]
  }
 ],
 "metadata": {
  "colab": {
   "provenance": []
  },
  "kernelspec": {
   "display_name": "Python 3 (ipykernel)",
   "language": "python",
   "name": "python3"
  },
  "language_info": {
   "codemirror_mode": {
    "name": "ipython",
    "version": 3
   },
   "file_extension": ".py",
   "mimetype": "text/x-python",
   "name": "python",
   "nbconvert_exporter": "python",
   "pygments_lexer": "ipython3",
   "version": "3.11.7"
  },
  "papermill": {
   "default_parameters": {},
   "duration": 76.658962,
   "end_time": "2022-06-02T02:05:41.753101",
   "environment_variables": {},
   "exception": null,
   "input_path": "__notebook__.ipynb",
   "output_path": "__notebook__.ipynb",
   "parameters": {},
   "start_time": "2022-06-02T02:04:25.094139",
   "version": "2.3.4"
  }
 },
 "nbformat": 4,
 "nbformat_minor": 5
}
