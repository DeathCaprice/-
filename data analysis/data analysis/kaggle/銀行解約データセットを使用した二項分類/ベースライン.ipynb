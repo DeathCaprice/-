{
 "cells": [
  {
   "cell_type": "markdown",
   "id": "50dad089-d883-4140-8e3e-cb94c0f36c2c",
   "metadata": {
    "papermill": {
     "duration": 0.014081,
     "end_time": "2022-06-02T02:04:27.576857",
     "exception": false,
     "start_time": "2022-06-02T02:04:27.562776",
     "status": "completed"
    },
    "tags": []
   },
   "source": [
    "# 銀行解約データセットを使用した二項分類\n",
    "# ベースライン作成"
   ]
  },
  {
   "cell_type": "raw",
   "id": "04688eeb-6148-42b6-b9f9-5941f6732e9f",
   "metadata": {
    "papermill": {
     "duration": 0.012511,
     "end_time": "2022-06-02T02:04:27.602398",
     "exception": false,
     "start_time": "2022-06-02T02:04:27.589887",
     "status": "completed"
    },
    "tags": []
   },
   "source": [
    "#ファイルの読み込み\n",
    "#### ライブラリの読み込み"
   ]
  },
  {
   "cell_type": "code",
   "execution_count": 1,
   "id": "cf494c8d",
   "metadata": {
    "_cell_guid": "b1076dfc-b9ad-4769-8c92-a6c4dae69d19",
    "_uuid": "8f2839f25d086af736a60e9eeb907d3b93b6e0e5",
    "papermill": {
     "duration": 18.020474,
     "end_time": "2022-06-02T02:05:00.455199",
     "exception": false,
     "start_time": "2022-06-02T02:04:42.434725",
     "status": "completed"
    },
    "tags": []
   },
   "outputs": [
    {
     "name": "stdout",
     "output_type": "stream",
     "text": [
      "Requirement already satisfied: japanize-matplotlib in c:\\users\\akiyosi honma\\anaconda3\\lib\\site-packages (1.1.3)\n",
      "Requirement already satisfied: matplotlib in c:\\users\\akiyosi honma\\anaconda3\\lib\\site-packages (from japanize-matplotlib) (3.7.1)\n",
      "Requirement already satisfied: contourpy>=1.0.1 in c:\\users\\akiyosi honma\\anaconda3\\lib\\site-packages (from matplotlib->japanize-matplotlib) (1.2.0)\n",
      "Requirement already satisfied: cycler>=0.10 in c:\\users\\akiyosi honma\\anaconda3\\lib\\site-packages (from matplotlib->japanize-matplotlib) (0.11.0)\n",
      "Requirement already satisfied: fonttools>=4.22.0 in c:\\users\\akiyosi honma\\anaconda3\\lib\\site-packages (from matplotlib->japanize-matplotlib) (4.25.0)\n",
      "Requirement already satisfied: kiwisolver>=1.0.1 in c:\\users\\akiyosi honma\\anaconda3\\lib\\site-packages (from matplotlib->japanize-matplotlib) (1.4.4)\n",
      "Requirement already satisfied: numpy>=1.20 in c:\\users\\akiyosi honma\\anaconda3\\lib\\site-packages (from matplotlib->japanize-matplotlib) (1.26.4)\n",
      "Requirement already satisfied: packaging>=20.0 in c:\\users\\akiyosi honma\\anaconda3\\lib\\site-packages (from matplotlib->japanize-matplotlib) (23.1)\n",
      "Requirement already satisfied: pillow>=6.2.0 in c:\\users\\akiyosi honma\\anaconda3\\lib\\site-packages (from matplotlib->japanize-matplotlib) (10.2.0)\n",
      "Requirement already satisfied: pyparsing>=2.3.1 in c:\\users\\akiyosi honma\\anaconda3\\lib\\site-packages (from matplotlib->japanize-matplotlib) (3.0.9)\n",
      "Requirement already satisfied: python-dateutil>=2.7 in c:\\users\\akiyosi honma\\anaconda3\\lib\\site-packages (from matplotlib->japanize-matplotlib) (2.8.2)\n",
      "Requirement already satisfied: six>=1.5 in c:\\users\\akiyosi honma\\anaconda3\\lib\\site-packages (from python-dateutil>=2.7->matplotlib->japanize-matplotlib) (1.16.0)\n"
     ]
    }
   ],
   "source": [
    "import numpy as np\n",
    "import pandas as pd\n",
    "import os\n",
    "import pickle\n",
    "import gc \n",
    "\n",
    "# 分布確認  anacondaでは、一先ず、コメントにする。\n",
    "#import pandas_profiling as pdp\n",
    "\n",
    "# 可視化\n",
    "import matplotlib.pyplot as plt\n",
    "\n",
    "# 前処理\n",
    "from sklearn.preprocessing import StandardScaler, MinMaxScaler, LabelEncoder, OneHotEncoder\n",
    "\n",
    "# バリデーション\n",
    "from sklearn.model_selection import train_test_split, KFold, StratifiedKFold\n",
    "\n",
    "# 評価指標\n",
    "from sklearn.metrics import accuracy_score, roc_auc_score, confusion_matrix\n",
    "\n",
    "# モデリング: lightgbm\n",
    "import lightgbm as lgb\n",
    "\n",
    "import warnings\n",
    "warnings.filterwarnings(\"ignore\")\n",
    "\n",
    "# matplotilbで日本語表示したい場合はこれをinstallしてインポートする\n",
    "!pip install japanize-matplotlib\n",
    "import japanize_matplotlib\n",
    "%matplotlib inline\n"
   ]
  },
  {
   "cell_type": "code",
   "execution_count": 2,
   "id": "73e4203a",
   "metadata": {},
   "outputs": [
    {
     "name": "stdout",
     "output_type": "stream",
     "text": [
      "Requirement already satisfied: pandas-profiling in c:\\users\\akiyosi honma\\anaconda3\\lib\\site-packages (3.2.0)\n",
      "Requirement already satisfied: joblib~=1.1.0 in c:\\users\\akiyosi honma\\anaconda3\\lib\\site-packages (from pandas-profiling) (1.1.1)\n",
      "Requirement already satisfied: scipy>=1.4.1 in c:\\users\\akiyosi honma\\anaconda3\\lib\\site-packages (from pandas-profiling) (1.11.4)\n",
      "Requirement already satisfied: pandas!=1.0.0,!=1.0.1,!=1.0.2,!=1.1.0,>=0.25.3 in c:\\users\\akiyosi honma\\anaconda3\\lib\\site-packages (from pandas-profiling) (1.5.3)\n",
      "Requirement already satisfied: matplotlib>=3.2.0 in c:\\users\\akiyosi honma\\anaconda3\\lib\\site-packages (from pandas-profiling) (3.7.1)\n",
      "Requirement already satisfied: pydantic>=1.8.1 in c:\\users\\akiyosi honma\\anaconda3\\lib\\site-packages (from pandas-profiling) (1.8.2)\n",
      "Requirement already satisfied: PyYAML>=5.0.0 in c:\\users\\akiyosi honma\\anaconda3\\lib\\site-packages (from pandas-profiling) (6.0.1)\n",
      "Requirement already satisfied: jinja2>=2.11.1 in c:\\users\\akiyosi honma\\anaconda3\\lib\\site-packages (from pandas-profiling) (3.1.3)\n",
      "Requirement already satisfied: markupsafe~=2.1.1 in c:\\users\\akiyosi honma\\anaconda3\\lib\\site-packages (from pandas-profiling) (2.1.3)\n",
      "Requirement already satisfied: visions==0.7.4 in c:\\users\\akiyosi honma\\anaconda3\\lib\\site-packages (from visions[type_image_path]==0.7.4->pandas-profiling) (0.7.4)\n",
      "Requirement already satisfied: numpy>=1.16.0 in c:\\users\\akiyosi honma\\anaconda3\\lib\\site-packages (from pandas-profiling) (1.26.4)\n",
      "Requirement already satisfied: htmlmin>=0.1.12 in c:\\users\\akiyosi honma\\anaconda3\\lib\\site-packages (from pandas-profiling) (0.1.12)\n",
      "Requirement already satisfied: missingno>=0.4.2 in c:\\users\\akiyosi honma\\anaconda3\\lib\\site-packages (from pandas-profiling) (0.5.2)\n",
      "Requirement already satisfied: phik>=0.11.1 in c:\\users\\akiyosi honma\\anaconda3\\lib\\site-packages (from pandas-profiling) (0.12.4)\n",
      "Requirement already satisfied: tangled-up-in-unicode==0.2.0 in c:\\users\\akiyosi honma\\anaconda3\\lib\\site-packages (from pandas-profiling) (0.2.0)\n",
      "Requirement already satisfied: requests>=2.24.0 in c:\\users\\akiyosi honma\\anaconda3\\lib\\site-packages (from pandas-profiling) (2.31.0)\n",
      "Requirement already satisfied: tqdm>=4.48.2 in c:\\users\\akiyosi honma\\anaconda3\\lib\\site-packages (from pandas-profiling) (4.65.0)\n",
      "Requirement already satisfied: seaborn>=0.10.1 in c:\\users\\akiyosi honma\\anaconda3\\lib\\site-packages (from pandas-profiling) (0.12.2)\n",
      "Requirement already satisfied: multimethod>=1.4 in c:\\users\\akiyosi honma\\anaconda3\\lib\\site-packages (from pandas-profiling) (1.11.2)\n",
      "Requirement already satisfied: attrs>=19.3.0 in c:\\users\\akiyosi honma\\anaconda3\\lib\\site-packages (from visions==0.7.4->visions[type_image_path]==0.7.4->pandas-profiling) (23.1.0)\n",
      "Requirement already satisfied: networkx>=2.4 in c:\\users\\akiyosi honma\\anaconda3\\lib\\site-packages (from visions==0.7.4->visions[type_image_path]==0.7.4->pandas-profiling) (3.1)\n",
      "Requirement already satisfied: imagehash in c:\\users\\akiyosi honma\\anaconda3\\lib\\site-packages (from visions[type_image_path]==0.7.4->pandas-profiling) (4.3.1)\n",
      "Requirement already satisfied: Pillow in c:\\users\\akiyosi honma\\anaconda3\\lib\\site-packages (from visions[type_image_path]==0.7.4->pandas-profiling) (10.2.0)\n",
      "Requirement already satisfied: contourpy>=1.0.1 in c:\\users\\akiyosi honma\\anaconda3\\lib\\site-packages (from matplotlib>=3.2.0->pandas-profiling) (1.2.0)\n",
      "Requirement already satisfied: cycler>=0.10 in c:\\users\\akiyosi honma\\anaconda3\\lib\\site-packages (from matplotlib>=3.2.0->pandas-profiling) (0.11.0)\n",
      "Requirement already satisfied: fonttools>=4.22.0 in c:\\users\\akiyosi honma\\anaconda3\\lib\\site-packages (from matplotlib>=3.2.0->pandas-profiling) (4.25.0)\n",
      "Requirement already satisfied: kiwisolver>=1.0.1 in c:\\users\\akiyosi honma\\anaconda3\\lib\\site-packages (from matplotlib>=3.2.0->pandas-profiling) (1.4.4)\n",
      "Requirement already satisfied: packaging>=20.0 in c:\\users\\akiyosi honma\\anaconda3\\lib\\site-packages (from matplotlib>=3.2.0->pandas-profiling) (23.1)\n",
      "Requirement already satisfied: pyparsing>=2.3.1 in c:\\users\\akiyosi honma\\anaconda3\\lib\\site-packages (from matplotlib>=3.2.0->pandas-profiling) (3.0.9)\n",
      "Requirement already satisfied: python-dateutil>=2.7 in c:\\users\\akiyosi honma\\anaconda3\\lib\\site-packages (from matplotlib>=3.2.0->pandas-profiling) (2.8.2)\n",
      "Requirement already satisfied: pytz>=2020.1 in c:\\users\\akiyosi honma\\anaconda3\\lib\\site-packages (from pandas!=1.0.0,!=1.0.1,!=1.0.2,!=1.1.0,>=0.25.3->pandas-profiling) (2023.3.post1)\n",
      "Requirement already satisfied: typing-extensions>=3.7.4.3 in c:\\users\\akiyosi honma\\anaconda3\\lib\\site-packages (from pydantic>=1.8.1->pandas-profiling) (4.9.0)\n",
      "Requirement already satisfied: charset-normalizer<4,>=2 in c:\\users\\akiyosi honma\\anaconda3\\lib\\site-packages (from requests>=2.24.0->pandas-profiling) (2.0.4)\n",
      "Requirement already satisfied: idna<4,>=2.5 in c:\\users\\akiyosi honma\\anaconda3\\lib\\site-packages (from requests>=2.24.0->pandas-profiling) (3.4)\n",
      "Requirement already satisfied: urllib3<3,>=1.21.1 in c:\\users\\akiyosi honma\\anaconda3\\lib\\site-packages (from requests>=2.24.0->pandas-profiling) (2.0.7)\n",
      "Requirement already satisfied: certifi>=2017.4.17 in c:\\users\\akiyosi honma\\anaconda3\\lib\\site-packages (from requests>=2.24.0->pandas-profiling) (2024.2.2)\n",
      "Requirement already satisfied: colorama in c:\\users\\akiyosi honma\\anaconda3\\lib\\site-packages (from tqdm>=4.48.2->pandas-profiling) (0.4.6)\n",
      "Requirement already satisfied: six>=1.5 in c:\\users\\akiyosi honma\\anaconda3\\lib\\site-packages (from python-dateutil>=2.7->matplotlib>=3.2.0->pandas-profiling) (1.16.0)\n",
      "Requirement already satisfied: PyWavelets in c:\\users\\akiyosi honma\\anaconda3\\lib\\site-packages (from imagehash->visions[type_image_path]==0.7.4->pandas-profiling) (1.5.0)\n",
      "Note: you may need to restart the kernel to use updated packages.\n"
     ]
    }
   ],
   "source": [
    "pip install pandas-profiling"
   ]
  },
  {
   "cell_type": "code",
   "execution_count": 3,
   "id": "eb8a1d08",
   "metadata": {},
   "outputs": [
    {
     "name": "stdout",
     "output_type": "stream",
     "text": [
      "Name: lightgbm\n",
      "Version: 3.3.5\n",
      "Summary: LightGBM Python Package\n",
      "Home-page: https://github.com/microsoft/LightGBM\n",
      "Author: \n",
      "Author-email: \n",
      "License: The MIT License (Microsoft)\n",
      "Location: C:\\Users\\akiyosi honma\\anaconda3\\Lib\\site-packages\n",
      "Requires: numpy, scikit-learn, scipy, wheel\n",
      "Required-by: \n",
      "Note: you may need to restart the kernel to use updated packages.\n"
     ]
    }
   ],
   "source": [
    "pip show lightgbm"
   ]
  },
  {
   "cell_type": "code",
   "execution_count": 4,
   "id": "d19f0517",
   "metadata": {},
   "outputs": [
    {
     "name": "stdout",
     "output_type": "stream",
     "text": [
      "Requirement already satisfied: lightgbm in c:\\users\\akiyosi honma\\anaconda3\\lib\\site-packages (3.3.5)\n",
      "Requirement already satisfied: wheel in c:\\users\\akiyosi honma\\anaconda3\\lib\\site-packages (from lightgbm) (0.41.2)\n",
      "Requirement already satisfied: numpy in c:\\users\\akiyosi honma\\anaconda3\\lib\\site-packages (from lightgbm) (1.26.4)\n",
      "Requirement already satisfied: scipy in c:\\users\\akiyosi honma\\anaconda3\\lib\\site-packages (from lightgbm) (1.11.4)\n",
      "Requirement already satisfied: scikit-learn!=0.22.0 in c:\\users\\akiyosi honma\\anaconda3\\lib\\site-packages (from lightgbm) (1.2.2)\n",
      "Requirement already satisfied: joblib>=1.1.1 in c:\\users\\akiyosi honma\\anaconda3\\lib\\site-packages (from scikit-learn!=0.22.0->lightgbm) (1.1.1)\n",
      "Requirement already satisfied: threadpoolctl>=2.0.0 in c:\\users\\akiyosi honma\\anaconda3\\lib\\site-packages (from scikit-learn!=0.22.0->lightgbm) (2.2.0)\n",
      "Note: you may need to restart the kernel to use updated packages.\n"
     ]
    }
   ],
   "source": [
    "pip install lightgbm"
   ]
  },
  {
   "cell_type": "code",
   "execution_count": 5,
   "id": "ba4f1094",
   "metadata": {},
   "outputs": [
    {
     "name": "stdout",
     "output_type": "stream",
     "text": [
      "Name: pandas-profiling\n",
      "Version: 3.2.0\n",
      "Summary: Generate profile report for pandas DataFrame\n",
      "Home-page: https://github.com/pandas-profiling/pandas-profiling\n",
      "Author: Simon Brugman\n",
      "Author-email: pandasprofiling@gmail.com\n",
      "License: MIT\n",
      "Location: C:\\Users\\akiyosi honma\\anaconda3\\Lib\\site-packages\n",
      "Requires: htmlmin, jinja2, joblib, markupsafe, matplotlib, missingno, multimethod, numpy, pandas, phik, pydantic, PyYAML, requests, scipy, seaborn, tangled-up-in-unicode, tqdm, visions\n",
      "Required-by: \n",
      "Note: you may need to restart the kernel to use updated packages.\n"
     ]
    }
   ],
   "source": [
    "pip show pandas_profiling"
   ]
  },
  {
   "cell_type": "markdown",
   "id": "9f94fce1",
   "metadata": {
    "papermill": {
     "duration": 0.016788,
     "end_time": "2022-06-02T02:05:00.488568",
     "exception": false,
     "start_time": "2022-06-02T02:05:00.471780",
     "status": "completed"
    },
    "tags": []
   },
   "source": [
    "####　ファイルの読み込み"
   ]
  },
  {
   "cell_type": "code",
   "execution_count": 6,
   "id": "b74c70ab",
   "metadata": {},
   "outputs": [
    {
     "data": {
      "text/html": [
       "<div>\n",
       "<style scoped>\n",
       "    .dataframe tbody tr th:only-of-type {\n",
       "        vertical-align: middle;\n",
       "    }\n",
       "\n",
       "    .dataframe tbody tr th {\n",
       "        vertical-align: top;\n",
       "    }\n",
       "\n",
       "    .dataframe thead th {\n",
       "        text-align: right;\n",
       "    }\n",
       "</style>\n",
       "<table border=\"1\" class=\"dataframe\">\n",
       "  <thead>\n",
       "    <tr style=\"text-align: right;\">\n",
       "      <th></th>\n",
       "      <th>id</th>\n",
       "      <th>CustomerId</th>\n",
       "      <th>Surname</th>\n",
       "      <th>CreditScore</th>\n",
       "      <th>Geography</th>\n",
       "      <th>Gender</th>\n",
       "      <th>Age</th>\n",
       "      <th>Tenure</th>\n",
       "      <th>Balance</th>\n",
       "      <th>NumOfProducts</th>\n",
       "      <th>HasCrCard</th>\n",
       "      <th>IsActiveMember</th>\n",
       "      <th>EstimatedSalary</th>\n",
       "      <th>Exited</th>\n",
       "    </tr>\n",
       "  </thead>\n",
       "  <tbody>\n",
       "    <tr>\n",
       "      <th>0</th>\n",
       "      <td>0</td>\n",
       "      <td>15674932</td>\n",
       "      <td>Okwudilichukwu</td>\n",
       "      <td>668</td>\n",
       "      <td>France</td>\n",
       "      <td>Male</td>\n",
       "      <td>33.0</td>\n",
       "      <td>3</td>\n",
       "      <td>0.00</td>\n",
       "      <td>2</td>\n",
       "      <td>1.0</td>\n",
       "      <td>0.0</td>\n",
       "      <td>181449.97</td>\n",
       "      <td>0</td>\n",
       "    </tr>\n",
       "    <tr>\n",
       "      <th>1</th>\n",
       "      <td>1</td>\n",
       "      <td>15749177</td>\n",
       "      <td>Okwudiliolisa</td>\n",
       "      <td>627</td>\n",
       "      <td>France</td>\n",
       "      <td>Male</td>\n",
       "      <td>33.0</td>\n",
       "      <td>1</td>\n",
       "      <td>0.00</td>\n",
       "      <td>2</td>\n",
       "      <td>1.0</td>\n",
       "      <td>1.0</td>\n",
       "      <td>49503.50</td>\n",
       "      <td>0</td>\n",
       "    </tr>\n",
       "    <tr>\n",
       "      <th>2</th>\n",
       "      <td>2</td>\n",
       "      <td>15694510</td>\n",
       "      <td>Hsueh</td>\n",
       "      <td>678</td>\n",
       "      <td>France</td>\n",
       "      <td>Male</td>\n",
       "      <td>40.0</td>\n",
       "      <td>10</td>\n",
       "      <td>0.00</td>\n",
       "      <td>2</td>\n",
       "      <td>1.0</td>\n",
       "      <td>0.0</td>\n",
       "      <td>184866.69</td>\n",
       "      <td>0</td>\n",
       "    </tr>\n",
       "    <tr>\n",
       "      <th>3</th>\n",
       "      <td>3</td>\n",
       "      <td>15741417</td>\n",
       "      <td>Kao</td>\n",
       "      <td>581</td>\n",
       "      <td>France</td>\n",
       "      <td>Male</td>\n",
       "      <td>34.0</td>\n",
       "      <td>2</td>\n",
       "      <td>148882.54</td>\n",
       "      <td>1</td>\n",
       "      <td>1.0</td>\n",
       "      <td>1.0</td>\n",
       "      <td>84560.88</td>\n",
       "      <td>0</td>\n",
       "    </tr>\n",
       "    <tr>\n",
       "      <th>4</th>\n",
       "      <td>4</td>\n",
       "      <td>15766172</td>\n",
       "      <td>Chiemenam</td>\n",
       "      <td>716</td>\n",
       "      <td>Spain</td>\n",
       "      <td>Male</td>\n",
       "      <td>33.0</td>\n",
       "      <td>5</td>\n",
       "      <td>0.00</td>\n",
       "      <td>2</td>\n",
       "      <td>1.0</td>\n",
       "      <td>1.0</td>\n",
       "      <td>15068.83</td>\n",
       "      <td>0</td>\n",
       "    </tr>\n",
       "    <tr>\n",
       "      <th>5</th>\n",
       "      <td>5</td>\n",
       "      <td>15771669</td>\n",
       "      <td>Genovese</td>\n",
       "      <td>588</td>\n",
       "      <td>Germany</td>\n",
       "      <td>Male</td>\n",
       "      <td>36.0</td>\n",
       "      <td>4</td>\n",
       "      <td>131778.58</td>\n",
       "      <td>1</td>\n",
       "      <td>1.0</td>\n",
       "      <td>0.0</td>\n",
       "      <td>136024.31</td>\n",
       "      <td>1</td>\n",
       "    </tr>\n",
       "    <tr>\n",
       "      <th>6</th>\n",
       "      <td>6</td>\n",
       "      <td>15692819</td>\n",
       "      <td>Ch'ang</td>\n",
       "      <td>593</td>\n",
       "      <td>France</td>\n",
       "      <td>Female</td>\n",
       "      <td>30.0</td>\n",
       "      <td>8</td>\n",
       "      <td>144772.69</td>\n",
       "      <td>1</td>\n",
       "      <td>1.0</td>\n",
       "      <td>0.0</td>\n",
       "      <td>29792.11</td>\n",
       "      <td>0</td>\n",
       "    </tr>\n",
       "    <tr>\n",
       "      <th>7</th>\n",
       "      <td>7</td>\n",
       "      <td>15669611</td>\n",
       "      <td>Chukwuebuka</td>\n",
       "      <td>678</td>\n",
       "      <td>Spain</td>\n",
       "      <td>Male</td>\n",
       "      <td>37.0</td>\n",
       "      <td>1</td>\n",
       "      <td>138476.41</td>\n",
       "      <td>1</td>\n",
       "      <td>1.0</td>\n",
       "      <td>0.0</td>\n",
       "      <td>106851.60</td>\n",
       "      <td>0</td>\n",
       "    </tr>\n",
       "    <tr>\n",
       "      <th>8</th>\n",
       "      <td>8</td>\n",
       "      <td>15691707</td>\n",
       "      <td>Manna</td>\n",
       "      <td>676</td>\n",
       "      <td>France</td>\n",
       "      <td>Male</td>\n",
       "      <td>43.0</td>\n",
       "      <td>4</td>\n",
       "      <td>0.00</td>\n",
       "      <td>2</td>\n",
       "      <td>1.0</td>\n",
       "      <td>0.0</td>\n",
       "      <td>142917.13</td>\n",
       "      <td>0</td>\n",
       "    </tr>\n",
       "    <tr>\n",
       "      <th>9</th>\n",
       "      <td>9</td>\n",
       "      <td>15591721</td>\n",
       "      <td>Cattaneo</td>\n",
       "      <td>583</td>\n",
       "      <td>Germany</td>\n",
       "      <td>Male</td>\n",
       "      <td>40.0</td>\n",
       "      <td>4</td>\n",
       "      <td>81274.33</td>\n",
       "      <td>1</td>\n",
       "      <td>1.0</td>\n",
       "      <td>1.0</td>\n",
       "      <td>170843.07</td>\n",
       "      <td>0</td>\n",
       "    </tr>\n",
       "    <tr>\n",
       "      <th>10</th>\n",
       "      <td>10</td>\n",
       "      <td>15635097</td>\n",
       "      <td>Fokine</td>\n",
       "      <td>599</td>\n",
       "      <td>Germany</td>\n",
       "      <td>Female</td>\n",
       "      <td>27.0</td>\n",
       "      <td>6</td>\n",
       "      <td>161801.47</td>\n",
       "      <td>2</td>\n",
       "      <td>1.0</td>\n",
       "      <td>0.0</td>\n",
       "      <td>109184.24</td>\n",
       "      <td>0</td>\n",
       "    </tr>\n",
       "    <tr>\n",
       "      <th>11</th>\n",
       "      <td>11</td>\n",
       "      <td>15674671</td>\n",
       "      <td>Chiu</td>\n",
       "      <td>687</td>\n",
       "      <td>Germany</td>\n",
       "      <td>Male</td>\n",
       "      <td>40.0</td>\n",
       "      <td>3</td>\n",
       "      <td>90432.92</td>\n",
       "      <td>1</td>\n",
       "      <td>1.0</td>\n",
       "      <td>0.0</td>\n",
       "      <td>1676.92</td>\n",
       "      <td>0</td>\n",
       "    </tr>\n",
       "    <tr>\n",
       "      <th>12</th>\n",
       "      <td>12</td>\n",
       "      <td>15717962</td>\n",
       "      <td>Rossi</td>\n",
       "      <td>759</td>\n",
       "      <td>Spain</td>\n",
       "      <td>Male</td>\n",
       "      <td>71.0</td>\n",
       "      <td>9</td>\n",
       "      <td>0.00</td>\n",
       "      <td>1</td>\n",
       "      <td>1.0</td>\n",
       "      <td>1.0</td>\n",
       "      <td>93081.87</td>\n",
       "      <td>0</td>\n",
       "    </tr>\n",
       "    <tr>\n",
       "      <th>13</th>\n",
       "      <td>13</td>\n",
       "      <td>15793029</td>\n",
       "      <td>Ts'ai</td>\n",
       "      <td>681</td>\n",
       "      <td>France</td>\n",
       "      <td>Male</td>\n",
       "      <td>47.0</td>\n",
       "      <td>5</td>\n",
       "      <td>0.00</td>\n",
       "      <td>1</td>\n",
       "      <td>1.0</td>\n",
       "      <td>1.0</td>\n",
       "      <td>72945.68</td>\n",
       "      <td>0</td>\n",
       "    </tr>\n",
       "    <tr>\n",
       "      <th>14</th>\n",
       "      <td>14</td>\n",
       "      <td>15643294</td>\n",
       "      <td>Chukwuemeka</td>\n",
       "      <td>703</td>\n",
       "      <td>France</td>\n",
       "      <td>Female</td>\n",
       "      <td>33.0</td>\n",
       "      <td>7</td>\n",
       "      <td>190566.65</td>\n",
       "      <td>1</td>\n",
       "      <td>1.0</td>\n",
       "      <td>1.0</td>\n",
       "      <td>79997.14</td>\n",
       "      <td>0</td>\n",
       "    </tr>\n",
       "  </tbody>\n",
       "</table>\n",
       "</div>"
      ],
      "text/plain": [
       "    id  CustomerId         Surname  CreditScore Geography  Gender   Age  \\\n",
       "0    0    15674932  Okwudilichukwu          668    France    Male  33.0   \n",
       "1    1    15749177   Okwudiliolisa          627    France    Male  33.0   \n",
       "2    2    15694510           Hsueh          678    France    Male  40.0   \n",
       "3    3    15741417             Kao          581    France    Male  34.0   \n",
       "4    4    15766172       Chiemenam          716     Spain    Male  33.0   \n",
       "5    5    15771669        Genovese          588   Germany    Male  36.0   \n",
       "6    6    15692819          Ch'ang          593    France  Female  30.0   \n",
       "7    7    15669611     Chukwuebuka          678     Spain    Male  37.0   \n",
       "8    8    15691707           Manna          676    France    Male  43.0   \n",
       "9    9    15591721        Cattaneo          583   Germany    Male  40.0   \n",
       "10  10    15635097          Fokine          599   Germany  Female  27.0   \n",
       "11  11    15674671            Chiu          687   Germany    Male  40.0   \n",
       "12  12    15717962           Rossi          759     Spain    Male  71.0   \n",
       "13  13    15793029           Ts'ai          681    France    Male  47.0   \n",
       "14  14    15643294     Chukwuemeka          703    France  Female  33.0   \n",
       "\n",
       "    Tenure    Balance  NumOfProducts  HasCrCard  IsActiveMember  \\\n",
       "0        3       0.00              2        1.0             0.0   \n",
       "1        1       0.00              2        1.0             1.0   \n",
       "2       10       0.00              2        1.0             0.0   \n",
       "3        2  148882.54              1        1.0             1.0   \n",
       "4        5       0.00              2        1.0             1.0   \n",
       "5        4  131778.58              1        1.0             0.0   \n",
       "6        8  144772.69              1        1.0             0.0   \n",
       "7        1  138476.41              1        1.0             0.0   \n",
       "8        4       0.00              2        1.0             0.0   \n",
       "9        4   81274.33              1        1.0             1.0   \n",
       "10       6  161801.47              2        1.0             0.0   \n",
       "11       3   90432.92              1        1.0             0.0   \n",
       "12       9       0.00              1        1.0             1.0   \n",
       "13       5       0.00              1        1.0             1.0   \n",
       "14       7  190566.65              1        1.0             1.0   \n",
       "\n",
       "    EstimatedSalary  Exited  \n",
       "0         181449.97       0  \n",
       "1          49503.50       0  \n",
       "2         184866.69       0  \n",
       "3          84560.88       0  \n",
       "4          15068.83       0  \n",
       "5         136024.31       1  \n",
       "6          29792.11       0  \n",
       "7         106851.60       0  \n",
       "8         142917.13       0  \n",
       "9         170843.07       0  \n",
       "10        109184.24       0  \n",
       "11          1676.92       0  \n",
       "12         93081.87       0  \n",
       "13         72945.68       0  \n",
       "14         79997.14       0  "
      ]
     },
     "execution_count": 6,
     "metadata": {},
     "output_type": "execute_result"
    }
   ],
   "source": [
    "df_train=pd.read_csv(\"Bank Churn/train.csv\")\n",
    "df_train.head(15)"
   ]
  },
  {
   "cell_type": "markdown",
   "id": "c0348344",
   "metadata": {
    "papermill": {
     "duration": 0.016019,
     "end_time": "2022-06-02T02:05:00.601281",
     "exception": false,
     "start_time": "2022-06-02T02:05:00.585262",
     "status": "completed"
    },
    "tags": []
   },
   "source": [
    "# データの確認（簡易）\n",
    "## レコード数とカラム数の確認"
   ]
  },
  {
   "cell_type": "markdown",
   "id": "8adbff66",
   "metadata": {
    "papermill": {
     "duration": 0.015994,
     "end_time": "2022-06-02T02:05:00.633595",
     "exception": false,
     "start_time": "2022-06-02T02:05:00.617601",
     "status": "completed"
    },
    "tags": []
   },
   "source": [
    "#### レコード数とカラム数の確認"
   ]
  },
  {
   "cell_type": "code",
   "execution_count": 7,
   "id": "af83c340",
   "metadata": {
    "papermill": {
     "duration": 0.026617,
     "end_time": "2022-06-02T02:05:00.676627",
     "exception": false,
     "start_time": "2022-06-02T02:05:00.650010",
     "status": "completed"
    },
    "tags": []
   },
   "outputs": [
    {
     "name": "stdout",
     "output_type": "stream",
     "text": [
      "(165034, 14)\n",
      "レコード数: 165034\n",
      "カラム数: 14\n"
     ]
    }
   ],
   "source": [
    "print(df_train.shape)\n",
    "print(\"レコード数:\",len(df_train))\n",
    "print(\"カラム数:\",len(df_train.columns))"
   ]
  },
  {
   "cell_type": "markdown",
   "id": "ca761e8c",
   "metadata": {
    "papermill": {
     "duration": 0.016424,
     "end_time": "2022-06-02T02:05:00.709915",
     "exception": false,
     "start_time": "2022-06-02T02:05:00.693491",
     "status": "completed"
    },
    "tags": []
   },
   "source": [
    "##カラムごとのデータの種類の確認"
   ]
  },
  {
   "cell_type": "markdown",
   "id": "8dadbae2",
   "metadata": {
    "papermill": {
     "duration": 0.016236,
     "end_time": "2022-06-02T02:05:00.742610",
     "exception": false,
     "start_time": "2022-06-02T02:05:00.726374",
     "status": "completed"
    },
    "tags": []
   },
   "source": [
    "#### データの確認"
   ]
  },
  {
   "cell_type": "code",
   "execution_count": 8,
   "id": "186e5470",
   "metadata": {
    "papermill": {
     "duration": 0.04695,
     "end_time": "2022-06-02T02:05:00.806760",
     "exception": false,
     "start_time": "2022-06-02T02:05:00.759810",
     "status": "completed"
    },
    "tags": []
   },
   "outputs": [
    {
     "name": "stdout",
     "output_type": "stream",
     "text": [
      "<class 'pandas.core.frame.DataFrame'>\n",
      "RangeIndex: 165034 entries, 0 to 165033\n",
      "Data columns (total 14 columns):\n",
      " #   Column           Non-Null Count   Dtype  \n",
      "---  ------           --------------   -----  \n",
      " 0   id               165034 non-null  int64  \n",
      " 1   CustomerId       165034 non-null  int64  \n",
      " 2   Surname          165034 non-null  object \n",
      " 3   CreditScore      165034 non-null  int64  \n",
      " 4   Geography        165034 non-null  object \n",
      " 5   Gender           165034 non-null  object \n",
      " 6   Age              165034 non-null  float64\n",
      " 7   Tenure           165034 non-null  int64  \n",
      " 8   Balance          165034 non-null  float64\n",
      " 9   NumOfProducts    165034 non-null  int64  \n",
      " 10  HasCrCard        165034 non-null  float64\n",
      " 11  IsActiveMember   165034 non-null  float64\n",
      " 12  EstimatedSalary  165034 non-null  float64\n",
      " 13  Exited           165034 non-null  int64  \n",
      "dtypes: float64(5), int64(6), object(3)\n",
      "memory usage: 17.6+ MB\n"
     ]
    }
   ],
   "source": [
    "df_train.info()"
   ]
  },
  {
   "cell_type": "markdown",
   "id": "5a2a6980",
   "metadata": {
    "papermill": {
     "duration": 0.016438,
     "end_time": "2022-06-02T02:05:00.840058",
     "exception": false,
     "start_time": "2022-06-02T02:05:00.823620",
     "status": "completed"
    },
    "tags": []
   },
   "source": [
    "#### データ型の変換(仮の処理)"
   ]
  },
  {
   "cell_type": "code",
   "execution_count": 9,
   "id": "ec871412",
   "metadata": {
    "papermill": {
     "duration": 0.03365,
     "end_time": "2022-06-02T02:05:00.890872",
     "exception": false,
     "start_time": "2022-06-02T02:05:00.857222",
     "status": "completed"
    },
    "tags": []
   },
   "outputs": [
    {
     "name": "stdout",
     "output_type": "stream",
     "text": [
      "<class 'pandas.core.frame.DataFrame'>\n",
      "RangeIndex: 165034 entries, 0 to 165033\n",
      "Data columns (total 1 columns):\n",
      " #   Column  Non-Null Count   Dtype \n",
      "---  ------  --------------   ----- \n",
      " 0   Age     165034 non-null  object\n",
      "dtypes: object(1)\n",
      "memory usage: 1.3+ MB\n"
     ]
    }
   ],
   "source": [
    "df_train[\"Age\"]=df_train[\"Age\"].astype(object)\n",
    "df_train[[\"Age\"]].info()"
   ]
  },
  {
   "cell_type": "markdown",
   "id": "7cbd42a0",
   "metadata": {
    "papermill": {
     "duration": 0.01709,
     "end_time": "2022-06-02T02:05:00.925866",
     "exception": false,
     "start_time": "2022-06-02T02:05:00.908776",
     "status": "completed"
    },
    "tags": []
   },
   "source": [
    "#### データ型をobject型からint型に戻す(仮の処理)"
   ]
  },
  {
   "cell_type": "code",
   "execution_count": 10,
   "id": "7a3b9113",
   "metadata": {
    "papermill": {
     "duration": 0.035284,
     "end_time": "2022-06-02T02:05:00.978293",
     "exception": false,
     "start_time": "2022-06-02T02:05:00.943009",
     "status": "completed"
    },
    "tags": []
   },
   "outputs": [
    {
     "name": "stdout",
     "output_type": "stream",
     "text": [
      "<class 'pandas.core.frame.DataFrame'>\n",
      "RangeIndex: 165034 entries, 0 to 165033\n",
      "Data columns (total 1 columns):\n",
      " #   Column  Non-Null Count   Dtype\n",
      "---  ------  --------------   -----\n",
      " 0   Age     165034 non-null  int64\n",
      "dtypes: int64(1)\n",
      "memory usage: 1.3 MB\n"
     ]
    }
   ],
   "source": [
    "df_train[\"Age\"] = df_train[\"Age\"].astype(np.int64)\n",
    "df_train[[\"Age\"]].info()"
   ]
  },
  {
   "cell_type": "markdown",
   "id": "9b1e6dae",
   "metadata": {
    "papermill": {
     "duration": 0.017517,
     "end_time": "2022-06-02T02:05:01.013433",
     "exception": false,
     "start_time": "2022-06-02T02:05:00.995916",
     "status": "completed"
    },
    "tags": []
   },
   "source": [
    "##欠損値の確認\n",
    "#### 欠損値の確認"
   ]
  },
  {
   "cell_type": "code",
   "execution_count": 11,
   "id": "2076fabb",
   "metadata": {
    "papermill": {
     "duration": 0.032457,
     "end_time": "2022-06-02T02:05:01.063185",
     "exception": false,
     "start_time": "2022-06-02T02:05:01.030728",
     "status": "completed"
    },
    "tags": []
   },
   "outputs": [
    {
     "data": {
      "text/plain": [
       "id                 0\n",
       "CustomerId         0\n",
       "Surname            0\n",
       "CreditScore        0\n",
       "Geography          0\n",
       "Gender             0\n",
       "Age                0\n",
       "Tenure             0\n",
       "Balance            0\n",
       "NumOfProducts      0\n",
       "HasCrCard          0\n",
       "IsActiveMember     0\n",
       "EstimatedSalary    0\n",
       "Exited             0\n",
       "dtype: int64"
      ]
     },
     "execution_count": 11,
     "metadata": {},
     "output_type": "execute_result"
    }
   ],
   "source": [
    "df_train.isnull().sum()"
   ]
  },
  {
   "cell_type": "markdown",
   "id": "5182260d",
   "metadata": {
    "papermill": {
     "duration": 0.018136,
     "end_time": "2022-06-02T02:05:01.100382",
     "exception": false,
     "start_time": "2022-06-02T02:05:01.082246",
     "status": "completed"
    },
    "tags": []
   },
   "source": [
    "# データセット作成\n",
    "####  データセット作成"
   ]
  },
  {
   "cell_type": "code",
   "execution_count": 12,
   "id": "908300a9",
   "metadata": {
    "papermill": {
     "duration": 0.030049,
     "end_time": "2022-06-02T02:05:01.148491",
     "exception": false,
     "start_time": "2022-06-02T02:05:01.118442",
     "status": "completed"
    },
    "tags": []
   },
   "outputs": [
    {
     "name": "stdout",
     "output_type": "stream",
     "text": [
      "(165034, 2) (165034, 1) (165034, 1)\n"
     ]
    }
   ],
   "source": [
    "#目的変数　Exited（(エグジテッド)　　\n",
    "#説明変数  IsActiveMember(アクティブメンバー) EstimatedSalary(エスティメイテッドサラリー)\n",
    "\n",
    "x_train,y_train,id_train=df_train[[\"IsActiveMember\",\"EstimatedSalary\"]],\\\n",
    "                        df_train[[\"Exited\"]],\\\n",
    "                        df_train[[\"id\"]]\n",
    "\n",
    "print(x_train.shape,y_train.shape,id_train.shape)"
   ]
  },
  {
   "cell_type": "code",
   "execution_count": 13,
   "id": "567ec5d1-3287-4c40-96c4-59999d4f1176",
   "metadata": {},
   "outputs": [
    {
     "name": "stdout",
     "output_type": "stream",
     "text": [
      "Exited\n",
      "0         130113\n",
      "1          34921\n",
      "dtype: int64\n"
     ]
    }
   ],
   "source": [
    "print(y_train.value_counts())"
   ]
  },
  {
   "cell_type": "markdown",
   "id": "6df8c743",
   "metadata": {
    "papermill": {
     "duration": 0.017223,
     "end_time": "2022-06-02T02:05:01.183146",
     "exception": false,
     "start_time": "2022-06-02T02:05:01.165923",
     "status": "completed"
    },
    "tags": []
   },
   "source": [
    "# バリデーション設計\n",
    "## ホールドアウト検証と交差検証\n",
    "#### ホールドアウト検証の実行"
   ]
  },
  {
   "cell_type": "code",
   "execution_count": 14,
   "id": "f4a53b06-f946-4399-9116-bbcd9522553e",
   "metadata": {},
   "outputs": [
    {
     "name": "stdout",
     "output_type": "stream",
     "text": [
      "(132027, 2) (132027, 1)\n",
      "(33007, 2) (33007, 1)\n",
      "y_train:0.212, y_tr:0.212, y_va:0.212\n"
     ]
    }
   ],
   "source": [
    "from sklearn.model_selection import train_test_split  # scikit-learnライブラリからtrain_test_split関数をインポート\n",
    "\n",
    "# データをトレーニングセットとバリデーションセットに分割\n",
    "x_tr, x_va, y_tr, y_va = train_test_split(\n",
    "    x_train,            # 入力データ\n",
    "    y_train,            # ターゲットデータ\n",
    "    test_size=0.2,      # バリデーションセットの割合（トレーニングセットの20%）\n",
    "    shuffle=True,       # データをシャッフルする\n",
    "    stratify=y_train,   # クラスの分布を保持してデータを分割する（クラスのバランスを保つ）\n",
    "    random_state=123    # 再現性のためのランダムシード\n",
    ")\n",
    "\n",
    "# トレーニングセットとバリデーションセットの形状を出力\n",
    "print(x_tr.shape, y_tr.shape)\n",
    "print(x_va.shape, y_va.shape)\n",
    "\n",
    "# 各セットの退会率を出力\n",
    "print(\"y_train:{:.3f}, y_tr:{:.3f}, y_va:{:.3f}\".format(\n",
    "    y_train[\"Exited\"].mean(),   # トレーニングデータ全体の退会率\n",
    "    y_tr[\"Exited\"].mean(),      # トレーニングセットの退会率\n",
    "    y_va[\"Exited\"].mean(),      # バリデーションセットの退会率\n",
    "))"
   ]
  },
  {
   "cell_type": "markdown",
   "id": "086be3a0",
   "metadata": {
    "papermill": {
     "duration": 0.016846,
     "end_time": "2022-06-02T02:05:01.276452",
     "exception": false,
     "start_time": "2022-06-02T02:05:01.259606",
     "status": "completed"
    },
    "tags": []
   },
   "source": [
    "#### クロスバリデーションの実行"
   ]
  },
  {
   "cell_type": "code",
   "execution_count": 15,
   "id": "aaf912ef-e134-4bc8-bd04-08e43ee08c57",
   "metadata": {},
   "outputs": [
    {
     "name": "stdout",
     "output_type": "stream",
     "text": [
      "-------------------- 0 --------------------\n",
      "(132027, 2) (132027, 1)\n",
      "(33007, 2) (33007, 1)\n",
      "y_train:0.212, y_tr:0.212, y_va:0.212\n",
      "-------------------- 1 --------------------\n",
      "(132027, 2) (132027, 1)\n",
      "(33007, 2) (33007, 1)\n",
      "y_train:0.212, y_tr:0.212, y_va:0.212\n",
      "-------------------- 2 --------------------\n",
      "(132027, 2) (132027, 1)\n",
      "(33007, 2) (33007, 1)\n",
      "y_train:0.212, y_tr:0.212, y_va:0.212\n",
      "-------------------- 3 --------------------\n",
      "(132027, 2) (132027, 1)\n",
      "(33007, 2) (33007, 1)\n",
      "y_train:0.212, y_tr:0.212, y_va:0.212\n",
      "-------------------- 4 --------------------\n",
      "(132028, 2) (132028, 1)\n",
      "(33006, 2) (33006, 1)\n",
      "y_train:0.212, y_tr:0.212, y_va:0.212\n"
     ]
    }
   ],
   "source": [
    "\n",
    "# n_splits変数を5に設定します。これは、交差検証でデータを分割する際に使用される分割数です。\n",
    "n_splits = 5\n",
    "\n",
    "# StratifiedKFoldオブジェクトを作成し、訓練データを分割します。\n",
    "# 層化抽出法に基づく交差検証を行うため、各分割でクラスのバランスを保ちます。\n",
    "# shuffle=Trueにすることで、データをシャッフルしてランダムに分割します。\n",
    "# random_state=123は乱数生成のシードを指定します。\n",
    "cv = list(StratifiedKFold(n_splits=n_splits, shuffle=True, random_state=123).split(x_train, y_train))\n",
    "\n",
    "# 5つの分割（fold）に対して繰り返します。\n",
    "for nfold in np.arange(n_splits):\n",
    "    # ヘッダーをプリントします。現在のfoldの番号を示します。\n",
    "    print(\"-\"*20, nfold, \"-\"*20)   \n",
    "    \n",
    "     ### トレーニングデータと検証データのインデックスを取得します\n",
    "    idx_tr, idx_va = cv[nfold][0], cv[nfold][1]\n",
    "    \n",
    "    ### トレーニングデータと目的変数を取得します\n",
    "    x_tr, y_tr = x_train.loc[idx_tr, :], y_train.loc[idx_tr, :]\n",
    "    \n",
    "    ### 検証データと目的変数を取得します\n",
    "    x_va, y_va = x_train.loc[idx_va, :], y_train.loc[idx_va, :]\n",
    "    \n",
    "    ### 各データセットの形状（サイズ）を表示します\n",
    "    print(x_tr.shape, y_tr.shape)\n",
    "    print(x_va.shape, y_va.shape)\n",
    "    \n",
    "    ### 各データセットの目的変数の平均値を表示します\n",
    "    print(\"y_train:{:.3f}, y_tr:{:.3f}, y_va:{:.3f}\".format(\n",
    "        y_train[\"Exited\"].mean(),\n",
    "        y_tr[\"Exited\"].mean(),\n",
    "        y_va[\"Exited\"].mean(),\n",
    "    ))\n",
    "\n",
    "   \n",
    "    "
   ]
  },
  {
   "cell_type": "markdown",
   "id": "7c087454",
   "metadata": {
    "papermill": {
     "duration": 0.016925,
     "end_time": "2022-06-02T02:05:01.372798",
     "exception": false,
     "start_time": "2022-06-02T02:05:01.355873",
     "status": "completed"
    },
    "tags": []
   },
   "source": [
    "# モデル学習（勾配ブースティング）\n",
    "## ホールドアウト検証の場合\n",
    "#### データセットの作成"
   ]
  },
  {
   "cell_type": "code",
   "execution_count": 16,
   "id": "03c29039",
   "metadata": {
    "papermill": {
     "duration": 0.037494,
     "end_time": "2022-06-02T02:05:01.427725",
     "exception": false,
     "start_time": "2022-06-02T02:05:01.390231",
     "status": "completed"
    },
    "tags": []
   },
   "outputs": [
    {
     "name": "stdout",
     "output_type": "stream",
     "text": [
      "(132027, 2) (132027, 1)\n",
      "(33007, 2) (33007, 1)\n",
      "y_train:0.212, y_tr:0.212, y_va:0.212\n"
     ]
    }
   ],
   "source": [
    "#ホールドアウト検証実装\n",
    "x_tr, x_va, y_tr, y_va = train_test_split(x_train,\n",
    "                                          y_train,\n",
    "                                          test_size=0.2,\n",
    "                                          shuffle=True,\n",
    "                                          stratify=y_train, \n",
    "                                          random_state=123)\n",
    "\n",
    "\n",
    "### 各データセットの形状（サイズ）を表示します\n",
    "print(x_tr.shape, y_tr.shape)\n",
    "print(x_va.shape, y_va.shape)\n",
    "\n",
    "### 各データセットの目的変数の平均値を表示します\n",
    "print(\"y_train:{:.3f}, y_tr:{:.3f}, y_va:{:.3f}\".format(\n",
    "    y_train[\"Exited\"].mean(),\n",
    "    y_tr[\"Exited\"].mean(),\n",
    "    y_va[\"Exited\"].mean(),\n",
    "))"
   ]
  },
  {
   "cell_type": "markdown",
   "id": "bd4373d7",
   "metadata": {
    "papermill": {
     "duration": 0.016969,
     "end_time": "2022-06-02T02:05:01.462134",
     "exception": false,
     "start_time": "2022-06-02T02:05:01.445165",
     "status": "completed"
    },
    "tags": []
   },
   "source": [
    "#### モデル学習（ホールドアウト検証の場合）"
   ]
  },
  {
   "cell_type": "code",
   "execution_count": 17,
   "id": "40ca37db",
   "metadata": {
    "papermill": {
     "duration": 0.151797,
     "end_time": "2022-06-02T02:05:01.631166",
     "exception": false,
     "start_time": "2022-06-02T02:05:01.479369",
     "status": "completed"
    },
    "tags": []
   },
   "outputs": [
    {
     "name": "stdout",
     "output_type": "stream",
     "text": [
      "[1]\ttraining's auc: 0.641324\tvalid_1's auc: 0.635097\n",
      "Training until validation scores don't improve for 100 rounds\n",
      "[2]\ttraining's auc: 0.641439\tvalid_1's auc: 0.63501\n",
      "[3]\ttraining's auc: 0.643245\tvalid_1's auc: 0.635659\n",
      "[4]\ttraining's auc: 0.643616\tvalid_1's auc: 0.635389\n",
      "[5]\ttraining's auc: 0.643752\tvalid_1's auc: 0.635497\n",
      "[6]\ttraining's auc: 0.645873\tvalid_1's auc: 0.637201\n",
      "[7]\ttraining's auc: 0.646015\tvalid_1's auc: 0.637382\n",
      "[8]\ttraining's auc: 0.646634\tvalid_1's auc: 0.638236\n",
      "[9]\ttraining's auc: 0.646685\tvalid_1's auc: 0.638179\n",
      "[10]\ttraining's auc: 0.646889\tvalid_1's auc: 0.638149\n",
      "[11]\ttraining's auc: 0.646829\tvalid_1's auc: 0.637962\n",
      "[12]\ttraining's auc: 0.646989\tvalid_1's auc: 0.638036\n",
      "[13]\ttraining's auc: 0.647073\tvalid_1's auc: 0.63826\n",
      "[14]\ttraining's auc: 0.647119\tvalid_1's auc: 0.638307\n",
      "[15]\ttraining's auc: 0.647354\tvalid_1's auc: 0.63856\n",
      "[16]\ttraining's auc: 0.647456\tvalid_1's auc: 0.63862\n",
      "[17]\ttraining's auc: 0.647528\tvalid_1's auc: 0.638551\n",
      "[18]\ttraining's auc: 0.647619\tvalid_1's auc: 0.638565\n",
      "[19]\ttraining's auc: 0.647695\tvalid_1's auc: 0.638606\n",
      "[20]\ttraining's auc: 0.648175\tvalid_1's auc: 0.638689\n",
      "[21]\ttraining's auc: 0.648298\tvalid_1's auc: 0.638559\n",
      "[22]\ttraining's auc: 0.648379\tvalid_1's auc: 0.638558\n",
      "[23]\ttraining's auc: 0.648456\tvalid_1's auc: 0.638603\n",
      "[24]\ttraining's auc: 0.648511\tvalid_1's auc: 0.638512\n",
      "[25]\ttraining's auc: 0.648647\tvalid_1's auc: 0.638684\n",
      "[26]\ttraining's auc: 0.648755\tvalid_1's auc: 0.63865\n",
      "[27]\ttraining's auc: 0.648795\tvalid_1's auc: 0.638682\n",
      "[28]\ttraining's auc: 0.648879\tvalid_1's auc: 0.638724\n",
      "[29]\ttraining's auc: 0.649112\tvalid_1's auc: 0.638642\n",
      "[30]\ttraining's auc: 0.649176\tvalid_1's auc: 0.638576\n",
      "[31]\ttraining's auc: 0.64931\tvalid_1's auc: 0.638426\n",
      "[32]\ttraining's auc: 0.649445\tvalid_1's auc: 0.638285\n",
      "[33]\ttraining's auc: 0.649544\tvalid_1's auc: 0.638289\n",
      "[34]\ttraining's auc: 0.649553\tvalid_1's auc: 0.638294\n",
      "[35]\ttraining's auc: 0.649701\tvalid_1's auc: 0.638407\n",
      "[36]\ttraining's auc: 0.649862\tvalid_1's auc: 0.638383\n",
      "[37]\ttraining's auc: 0.649921\tvalid_1's auc: 0.638341\n",
      "[38]\ttraining's auc: 0.649887\tvalid_1's auc: 0.638217\n",
      "[39]\ttraining's auc: 0.649915\tvalid_1's auc: 0.638227\n",
      "[40]\ttraining's auc: 0.649959\tvalid_1's auc: 0.638275\n",
      "[41]\ttraining's auc: 0.650025\tvalid_1's auc: 0.638294\n",
      "[42]\ttraining's auc: 0.650059\tvalid_1's auc: 0.638269\n",
      "[43]\ttraining's auc: 0.650095\tvalid_1's auc: 0.638262\n",
      "[44]\ttraining's auc: 0.650299\tvalid_1's auc: 0.638197\n",
      "[45]\ttraining's auc: 0.650343\tvalid_1's auc: 0.638227\n",
      "[46]\ttraining's auc: 0.650505\tvalid_1's auc: 0.638571\n",
      "[47]\ttraining's auc: 0.650556\tvalid_1's auc: 0.638564\n",
      "[48]\ttraining's auc: 0.650717\tvalid_1's auc: 0.638752\n",
      "[49]\ttraining's auc: 0.650736\tvalid_1's auc: 0.63877\n",
      "[50]\ttraining's auc: 0.65089\tvalid_1's auc: 0.638948\n",
      "[51]\ttraining's auc: 0.650897\tvalid_1's auc: 0.638834\n",
      "[52]\ttraining's auc: 0.650935\tvalid_1's auc: 0.638715\n",
      "[53]\ttraining's auc: 0.651032\tvalid_1's auc: 0.638788\n",
      "[54]\ttraining's auc: 0.651029\tvalid_1's auc: 0.638725\n",
      "[55]\ttraining's auc: 0.651089\tvalid_1's auc: 0.638728\n",
      "[56]\ttraining's auc: 0.651169\tvalid_1's auc: 0.63874\n",
      "[57]\ttraining's auc: 0.651154\tvalid_1's auc: 0.638698\n",
      "[58]\ttraining's auc: 0.6512\tvalid_1's auc: 0.638691\n",
      "[59]\ttraining's auc: 0.651316\tvalid_1's auc: 0.638838\n",
      "[60]\ttraining's auc: 0.651343\tvalid_1's auc: 0.638876\n",
      "[61]\ttraining's auc: 0.651385\tvalid_1's auc: 0.638883\n",
      "[62]\ttraining's auc: 0.651414\tvalid_1's auc: 0.638944\n",
      "[63]\ttraining's auc: 0.651565\tvalid_1's auc: 0.639037\n",
      "[64]\ttraining's auc: 0.651618\tvalid_1's auc: 0.639181\n",
      "[65]\ttraining's auc: 0.651631\tvalid_1's auc: 0.639175\n",
      "[66]\ttraining's auc: 0.651654\tvalid_1's auc: 0.639126\n",
      "[67]\ttraining's auc: 0.651781\tvalid_1's auc: 0.639253\n",
      "[68]\ttraining's auc: 0.651807\tvalid_1's auc: 0.639231\n",
      "[69]\ttraining's auc: 0.651874\tvalid_1's auc: 0.639407\n",
      "[70]\ttraining's auc: 0.6519\tvalid_1's auc: 0.639417\n",
      "[71]\ttraining's auc: 0.651923\tvalid_1's auc: 0.639414\n",
      "[72]\ttraining's auc: 0.651989\tvalid_1's auc: 0.639353\n",
      "[73]\ttraining's auc: 0.652032\tvalid_1's auc: 0.639485\n",
      "[74]\ttraining's auc: 0.652058\tvalid_1's auc: 0.639379\n",
      "[75]\ttraining's auc: 0.652134\tvalid_1's auc: 0.639433\n",
      "[76]\ttraining's auc: 0.652145\tvalid_1's auc: 0.639443\n",
      "[77]\ttraining's auc: 0.652151\tvalid_1's auc: 0.639577\n",
      "[78]\ttraining's auc: 0.6522\tvalid_1's auc: 0.639655\n",
      "[79]\ttraining's auc: 0.652218\tvalid_1's auc: 0.639643\n",
      "[80]\ttraining's auc: 0.652227\tvalid_1's auc: 0.639626\n",
      "[81]\ttraining's auc: 0.65223\tvalid_1's auc: 0.639623\n",
      "[82]\ttraining's auc: 0.652258\tvalid_1's auc: 0.639679\n",
      "[83]\ttraining's auc: 0.652277\tvalid_1's auc: 0.639756\n",
      "[84]\ttraining's auc: 0.652328\tvalid_1's auc: 0.639732\n",
      "[85]\ttraining's auc: 0.652356\tvalid_1's auc: 0.639777\n",
      "[86]\ttraining's auc: 0.652439\tvalid_1's auc: 0.639769\n",
      "[87]\ttraining's auc: 0.652533\tvalid_1's auc: 0.63979\n",
      "[88]\ttraining's auc: 0.652547\tvalid_1's auc: 0.639816\n",
      "[89]\ttraining's auc: 0.652576\tvalid_1's auc: 0.639792\n",
      "[90]\ttraining's auc: 0.652589\tvalid_1's auc: 0.639801\n",
      "[91]\ttraining's auc: 0.65263\tvalid_1's auc: 0.639794\n",
      "[92]\ttraining's auc: 0.652668\tvalid_1's auc: 0.639836\n",
      "[93]\ttraining's auc: 0.652688\tvalid_1's auc: 0.639803\n",
      "[94]\ttraining's auc: 0.652705\tvalid_1's auc: 0.639777\n",
      "[95]\ttraining's auc: 0.65274\tvalid_1's auc: 0.63983\n",
      "[96]\ttraining's auc: 0.652747\tvalid_1's auc: 0.639818\n",
      "[97]\ttraining's auc: 0.652811\tvalid_1's auc: 0.639847\n",
      "[98]\ttraining's auc: 0.65283\tvalid_1's auc: 0.639822\n",
      "[99]\ttraining's auc: 0.652834\tvalid_1's auc: 0.63981\n",
      "[100]\ttraining's auc: 0.652865\tvalid_1's auc: 0.639767\n",
      "[101]\ttraining's auc: 0.652877\tvalid_1's auc: 0.639789\n",
      "[102]\ttraining's auc: 0.652901\tvalid_1's auc: 0.639811\n",
      "[103]\ttraining's auc: 0.652912\tvalid_1's auc: 0.639803\n",
      "[104]\ttraining's auc: 0.652923\tvalid_1's auc: 0.639807\n",
      "[105]\ttraining's auc: 0.652974\tvalid_1's auc: 0.639781\n",
      "[106]\ttraining's auc: 0.653017\tvalid_1's auc: 0.639818\n",
      "[107]\ttraining's auc: 0.653033\tvalid_1's auc: 0.639755\n",
      "[108]\ttraining's auc: 0.653056\tvalid_1's auc: 0.639773\n",
      "[109]\ttraining's auc: 0.653063\tvalid_1's auc: 0.639744\n",
      "[110]\ttraining's auc: 0.653068\tvalid_1's auc: 0.639745\n",
      "[111]\ttraining's auc: 0.653117\tvalid_1's auc: 0.639696\n",
      "[112]\ttraining's auc: 0.653175\tvalid_1's auc: 0.639667\n",
      "[113]\ttraining's auc: 0.653187\tvalid_1's auc: 0.639655\n",
      "[114]\ttraining's auc: 0.653205\tvalid_1's auc: 0.639664\n",
      "[115]\ttraining's auc: 0.65325\tvalid_1's auc: 0.639652\n",
      "[116]\ttraining's auc: 0.653269\tvalid_1's auc: 0.639612\n",
      "[117]\ttraining's auc: 0.653329\tvalid_1's auc: 0.639632\n",
      "[118]\ttraining's auc: 0.653343\tvalid_1's auc: 0.639633\n",
      "[119]\ttraining's auc: 0.653349\tvalid_1's auc: 0.639623\n",
      "[120]\ttraining's auc: 0.653381\tvalid_1's auc: 0.639643\n",
      "[121]\ttraining's auc: 0.653394\tvalid_1's auc: 0.639663\n",
      "[122]\ttraining's auc: 0.653429\tvalid_1's auc: 0.639698\n",
      "[123]\ttraining's auc: 0.653429\tvalid_1's auc: 0.639666\n",
      "[124]\ttraining's auc: 0.65348\tvalid_1's auc: 0.639692\n",
      "[125]\ttraining's auc: 0.653489\tvalid_1's auc: 0.63971\n",
      "[126]\ttraining's auc: 0.653495\tvalid_1's auc: 0.639737\n",
      "[127]\ttraining's auc: 0.653515\tvalid_1's auc: 0.639748\n",
      "[128]\ttraining's auc: 0.653552\tvalid_1's auc: 0.639709\n",
      "[129]\ttraining's auc: 0.653556\tvalid_1's auc: 0.639721\n",
      "[130]\ttraining's auc: 0.65358\tvalid_1's auc: 0.639774\n",
      "[131]\ttraining's auc: 0.653587\tvalid_1's auc: 0.63981\n",
      "[132]\ttraining's auc: 0.653616\tvalid_1's auc: 0.639885\n",
      "[133]\ttraining's auc: 0.65364\tvalid_1's auc: 0.639831\n",
      "[134]\ttraining's auc: 0.653664\tvalid_1's auc: 0.63981\n",
      "[135]\ttraining's auc: 0.653716\tvalid_1's auc: 0.63978\n",
      "[136]\ttraining's auc: 0.653749\tvalid_1's auc: 0.639773\n",
      "[137]\ttraining's auc: 0.653752\tvalid_1's auc: 0.639751\n",
      "[138]\ttraining's auc: 0.65379\tvalid_1's auc: 0.639742\n",
      "[139]\ttraining's auc: 0.653812\tvalid_1's auc: 0.639769\n",
      "[140]\ttraining's auc: 0.653828\tvalid_1's auc: 0.639747\n",
      "[141]\ttraining's auc: 0.653841\tvalid_1's auc: 0.639695\n",
      "[142]\ttraining's auc: 0.653845\tvalid_1's auc: 0.639672\n",
      "[143]\ttraining's auc: 0.653874\tvalid_1's auc: 0.639664\n",
      "[144]\ttraining's auc: 0.653906\tvalid_1's auc: 0.639655\n",
      "[145]\ttraining's auc: 0.653926\tvalid_1's auc: 0.639681\n",
      "[146]\ttraining's auc: 0.653941\tvalid_1's auc: 0.639646\n",
      "[147]\ttraining's auc: 0.653945\tvalid_1's auc: 0.63964\n",
      "[148]\ttraining's auc: 0.653963\tvalid_1's auc: 0.639594\n",
      "[149]\ttraining's auc: 0.653998\tvalid_1's auc: 0.639594\n",
      "[150]\ttraining's auc: 0.654019\tvalid_1's auc: 0.639541\n",
      "[151]\ttraining's auc: 0.65402\tvalid_1's auc: 0.639538\n",
      "[152]\ttraining's auc: 0.654048\tvalid_1's auc: 0.639523\n",
      "[153]\ttraining's auc: 0.654069\tvalid_1's auc: 0.639596\n",
      "[154]\ttraining's auc: 0.654081\tvalid_1's auc: 0.639594\n",
      "[155]\ttraining's auc: 0.65409\tvalid_1's auc: 0.639563\n",
      "[156]\ttraining's auc: 0.6541\tvalid_1's auc: 0.639585\n",
      "[157]\ttraining's auc: 0.654119\tvalid_1's auc: 0.639576\n",
      "[158]\ttraining's auc: 0.65413\tvalid_1's auc: 0.63955\n",
      "[159]\ttraining's auc: 0.65415\tvalid_1's auc: 0.639545\n",
      "[160]\ttraining's auc: 0.654166\tvalid_1's auc: 0.639535\n",
      "[161]\ttraining's auc: 0.654183\tvalid_1's auc: 0.639539\n",
      "[162]\ttraining's auc: 0.654195\tvalid_1's auc: 0.639548\n",
      "[163]\ttraining's auc: 0.654217\tvalid_1's auc: 0.639581\n",
      "[164]\ttraining's auc: 0.654231\tvalid_1's auc: 0.639583\n",
      "[165]\ttraining's auc: 0.654235\tvalid_1's auc: 0.639584\n",
      "[166]\ttraining's auc: 0.654256\tvalid_1's auc: 0.639549\n",
      "[167]\ttraining's auc: 0.654258\tvalid_1's auc: 0.639546\n",
      "[168]\ttraining's auc: 0.654276\tvalid_1's auc: 0.639542\n",
      "[169]\ttraining's auc: 0.654294\tvalid_1's auc: 0.639541\n",
      "[170]\ttraining's auc: 0.65433\tvalid_1's auc: 0.639469\n",
      "[171]\ttraining's auc: 0.654338\tvalid_1's auc: 0.639421\n",
      "[172]\ttraining's auc: 0.654345\tvalid_1's auc: 0.639426\n",
      "[173]\ttraining's auc: 0.654355\tvalid_1's auc: 0.639433\n",
      "[174]\ttraining's auc: 0.654372\tvalid_1's auc: 0.639408\n",
      "[175]\ttraining's auc: 0.654385\tvalid_1's auc: 0.639436\n",
      "[176]\ttraining's auc: 0.654389\tvalid_1's auc: 0.639404\n",
      "[177]\ttraining's auc: 0.654402\tvalid_1's auc: 0.639428\n",
      "[178]\ttraining's auc: 0.654409\tvalid_1's auc: 0.639449\n",
      "[179]\ttraining's auc: 0.65442\tvalid_1's auc: 0.639439\n",
      "[180]\ttraining's auc: 0.65443\tvalid_1's auc: 0.63944\n",
      "[181]\ttraining's auc: 0.654442\tvalid_1's auc: 0.639457\n",
      "[182]\ttraining's auc: 0.654447\tvalid_1's auc: 0.639458\n",
      "[183]\ttraining's auc: 0.654464\tvalid_1's auc: 0.639425\n",
      "[184]\ttraining's auc: 0.654466\tvalid_1's auc: 0.639429\n",
      "[185]\ttraining's auc: 0.654466\tvalid_1's auc: 0.639423\n",
      "[186]\ttraining's auc: 0.654468\tvalid_1's auc: 0.639389\n",
      "[187]\ttraining's auc: 0.654476\tvalid_1's auc: 0.639426\n",
      "[188]\ttraining's auc: 0.654487\tvalid_1's auc: 0.639429\n",
      "[189]\ttraining's auc: 0.654497\tvalid_1's auc: 0.639413\n",
      "[190]\ttraining's auc: 0.654509\tvalid_1's auc: 0.639418\n",
      "[191]\ttraining's auc: 0.65452\tvalid_1's auc: 0.639373\n",
      "[192]\ttraining's auc: 0.654538\tvalid_1's auc: 0.639383\n",
      "[193]\ttraining's auc: 0.654543\tvalid_1's auc: 0.639393\n",
      "[194]\ttraining's auc: 0.654553\tvalid_1's auc: 0.639403\n",
      "[195]\ttraining's auc: 0.654563\tvalid_1's auc: 0.639422\n",
      "[196]\ttraining's auc: 0.654581\tvalid_1's auc: 0.63944\n",
      "[197]\ttraining's auc: 0.65459\tvalid_1's auc: 0.639417\n",
      "[198]\ttraining's auc: 0.65459\tvalid_1's auc: 0.639411\n",
      "[199]\ttraining's auc: 0.654606\tvalid_1's auc: 0.639407\n",
      "[200]\ttraining's auc: 0.654615\tvalid_1's auc: 0.63938\n",
      "[201]\ttraining's auc: 0.654624\tvalid_1's auc: 0.639379\n",
      "[202]\ttraining's auc: 0.654634\tvalid_1's auc: 0.639394\n",
      "[203]\ttraining's auc: 0.654638\tvalid_1's auc: 0.639404\n",
      "[204]\ttraining's auc: 0.654641\tvalid_1's auc: 0.639375\n",
      "[205]\ttraining's auc: 0.654654\tvalid_1's auc: 0.639351\n",
      "[206]\ttraining's auc: 0.654661\tvalid_1's auc: 0.639355\n",
      "[207]\ttraining's auc: 0.654668\tvalid_1's auc: 0.639356\n",
      "[208]\ttraining's auc: 0.654669\tvalid_1's auc: 0.639342\n",
      "[209]\ttraining's auc: 0.654689\tvalid_1's auc: 0.639306\n",
      "[210]\ttraining's auc: 0.654694\tvalid_1's auc: 0.639297\n",
      "[211]\ttraining's auc: 0.654698\tvalid_1's auc: 0.639267\n",
      "[212]\ttraining's auc: 0.654706\tvalid_1's auc: 0.639273\n",
      "[213]\ttraining's auc: 0.654709\tvalid_1's auc: 0.639255\n",
      "[214]\ttraining's auc: 0.654716\tvalid_1's auc: 0.639246\n",
      "[215]\ttraining's auc: 0.654727\tvalid_1's auc: 0.639253\n",
      "[216]\ttraining's auc: 0.65473\tvalid_1's auc: 0.639232\n",
      "[217]\ttraining's auc: 0.654737\tvalid_1's auc: 0.639228\n",
      "[218]\ttraining's auc: 0.654744\tvalid_1's auc: 0.639198\n",
      "[219]\ttraining's auc: 0.654743\tvalid_1's auc: 0.639198\n",
      "[220]\ttraining's auc: 0.654744\tvalid_1's auc: 0.639183\n",
      "[221]\ttraining's auc: 0.65475\tvalid_1's auc: 0.639178\n",
      "[222]\ttraining's auc: 0.654764\tvalid_1's auc: 0.63919\n",
      "[223]\ttraining's auc: 0.654775\tvalid_1's auc: 0.639198\n",
      "[224]\ttraining's auc: 0.654783\tvalid_1's auc: 0.639185\n",
      "[225]\ttraining's auc: 0.654789\tvalid_1's auc: 0.639173\n",
      "[226]\ttraining's auc: 0.654799\tvalid_1's auc: 0.639163\n",
      "[227]\ttraining's auc: 0.654801\tvalid_1's auc: 0.639158\n",
      "[228]\ttraining's auc: 0.654801\tvalid_1's auc: 0.639135\n",
      "[229]\ttraining's auc: 0.654808\tvalid_1's auc: 0.63911\n",
      "[230]\ttraining's auc: 0.65481\tvalid_1's auc: 0.639121\n",
      "[231]\ttraining's auc: 0.654814\tvalid_1's auc: 0.639112\n",
      "[232]\ttraining's auc: 0.654836\tvalid_1's auc: 0.639092\n",
      "Early stopping, best iteration is:\n",
      "[132]\ttraining's auc: 0.653616\tvalid_1's auc: 0.639885\n"
     ]
    },
    {
     "data": {
      "text/html": [
       "<style>#sk-container-id-1 {color: black;background-color: white;}#sk-container-id-1 pre{padding: 0;}#sk-container-id-1 div.sk-toggleable {background-color: white;}#sk-container-id-1 label.sk-toggleable__label {cursor: pointer;display: block;width: 100%;margin-bottom: 0;padding: 0.3em;box-sizing: border-box;text-align: center;}#sk-container-id-1 label.sk-toggleable__label-arrow:before {content: \"▸\";float: left;margin-right: 0.25em;color: #696969;}#sk-container-id-1 label.sk-toggleable__label-arrow:hover:before {color: black;}#sk-container-id-1 div.sk-estimator:hover label.sk-toggleable__label-arrow:before {color: black;}#sk-container-id-1 div.sk-toggleable__content {max-height: 0;max-width: 0;overflow: hidden;text-align: left;background-color: #f0f8ff;}#sk-container-id-1 div.sk-toggleable__content pre {margin: 0.2em;color: black;border-radius: 0.25em;background-color: #f0f8ff;}#sk-container-id-1 input.sk-toggleable__control:checked~div.sk-toggleable__content {max-height: 200px;max-width: 100%;overflow: auto;}#sk-container-id-1 input.sk-toggleable__control:checked~label.sk-toggleable__label-arrow:before {content: \"▾\";}#sk-container-id-1 div.sk-estimator input.sk-toggleable__control:checked~label.sk-toggleable__label {background-color: #d4ebff;}#sk-container-id-1 div.sk-label input.sk-toggleable__control:checked~label.sk-toggleable__label {background-color: #d4ebff;}#sk-container-id-1 input.sk-hidden--visually {border: 0;clip: rect(1px 1px 1px 1px);clip: rect(1px, 1px, 1px, 1px);height: 1px;margin: -1px;overflow: hidden;padding: 0;position: absolute;width: 1px;}#sk-container-id-1 div.sk-estimator {font-family: monospace;background-color: #f0f8ff;border: 1px dotted black;border-radius: 0.25em;box-sizing: border-box;margin-bottom: 0.5em;}#sk-container-id-1 div.sk-estimator:hover {background-color: #d4ebff;}#sk-container-id-1 div.sk-parallel-item::after {content: \"\";width: 100%;border-bottom: 1px solid gray;flex-grow: 1;}#sk-container-id-1 div.sk-label:hover label.sk-toggleable__label {background-color: #d4ebff;}#sk-container-id-1 div.sk-serial::before {content: \"\";position: absolute;border-left: 1px solid gray;box-sizing: border-box;top: 0;bottom: 0;left: 50%;z-index: 0;}#sk-container-id-1 div.sk-serial {display: flex;flex-direction: column;align-items: center;background-color: white;padding-right: 0.2em;padding-left: 0.2em;position: relative;}#sk-container-id-1 div.sk-item {position: relative;z-index: 1;}#sk-container-id-1 div.sk-parallel {display: flex;align-items: stretch;justify-content: center;background-color: white;position: relative;}#sk-container-id-1 div.sk-item::before, #sk-container-id-1 div.sk-parallel-item::before {content: \"\";position: absolute;border-left: 1px solid gray;box-sizing: border-box;top: 0;bottom: 0;left: 50%;z-index: -1;}#sk-container-id-1 div.sk-parallel-item {display: flex;flex-direction: column;z-index: 1;position: relative;background-color: white;}#sk-container-id-1 div.sk-parallel-item:first-child::after {align-self: flex-end;width: 50%;}#sk-container-id-1 div.sk-parallel-item:last-child::after {align-self: flex-start;width: 50%;}#sk-container-id-1 div.sk-parallel-item:only-child::after {width: 0;}#sk-container-id-1 div.sk-dashed-wrapped {border: 1px dashed gray;margin: 0 0.4em 0.5em 0.4em;box-sizing: border-box;padding-bottom: 0.4em;background-color: white;}#sk-container-id-1 div.sk-label label {font-family: monospace;font-weight: bold;display: inline-block;line-height: 1.2em;}#sk-container-id-1 div.sk-label-container {text-align: center;}#sk-container-id-1 div.sk-container {/* jupyter's `normalize.less` sets `[hidden] { display: none; }` but bootstrap.min.css set `[hidden] { display: none !important; }` so we also need the `!important` here to be able to override the default hidden behavior on the sphinx rendered scikit-learn.org. See: https://github.com/scikit-learn/scikit-learn/issues/21755 */display: inline-block !important;position: relative;}#sk-container-id-1 div.sk-text-repr-fallback {display: none;}</style><div id=\"sk-container-id-1\" class=\"sk-top-container\"><div class=\"sk-text-repr-fallback\"><pre>LGBMClassifier(importance_type=&#x27;gain&#x27;, metric=&#x27;auc&#x27;, n_estimators=100000,\n",
       "               num_leaves=16, objective=&#x27;binary&#x27;, random_state=123)</pre><b>In a Jupyter environment, please rerun this cell to show the HTML representation or trust the notebook. <br />On GitHub, the HTML representation is unable to render, please try loading this page with nbviewer.org.</b></div><div class=\"sk-container\" hidden><div class=\"sk-item\"><div class=\"sk-estimator sk-toggleable\"><input class=\"sk-toggleable__control sk-hidden--visually\" id=\"sk-estimator-id-1\" type=\"checkbox\" checked><label for=\"sk-estimator-id-1\" class=\"sk-toggleable__label sk-toggleable__label-arrow\">LGBMClassifier</label><div class=\"sk-toggleable__content\"><pre>LGBMClassifier(importance_type=&#x27;gain&#x27;, metric=&#x27;auc&#x27;, n_estimators=100000,\n",
       "               num_leaves=16, objective=&#x27;binary&#x27;, random_state=123)</pre></div></div></div></div></div>"
      ],
      "text/plain": [
       "LGBMClassifier(importance_type='gain', metric='auc', n_estimators=100000,\n",
       "               num_leaves=16, objective='binary', random_state=123)"
      ]
     },
     "execution_count": 17,
     "metadata": {},
     "output_type": "execute_result"
    }
   ],
   "source": [
    "# ハイパーパラメータを設定します\n",
    "params = {\n",
    "    'boosting_type': 'gbdt',  # 勾配ブースティングのタイプを設定します\n",
    "    'objective': 'binary',     # バイナリ分類のための目的関数を設定します\n",
    "    'metric': 'auc',           # モデルの性能評価指標としてAUCを設定します\n",
    "    'learning_rate': 0.1,      # 学習率を設定します\n",
    "    'num_leaves': 16,          # 1つの木に含まれる葉の数を設定します\n",
    "    'n_estimators': 100000,    # ブーストラウンドの数、つまりトレーニング中に作成される決定木の数を設定します\n",
    "    \"random_state\": 123,       # 乱数生成器のシード値を設定します\n",
    "    \"importance_type\": \"gain\", # 特徴の重要度の計算方法を指定します\n",
    "}\n",
    "\n",
    "\n",
    "# LightGBMの分類器を指定されたハイパーパラメータで初期化します\n",
    "model = lgb.LGBMClassifier(**params)\n",
    "\n",
    "# モデルをトレーニングします\n",
    "model.fit(\n",
    "    x_tr,                       # トレーニングデータの特徴量\n",
    "    y_tr,                       # トレーニングデータのラベル\n",
    "    eval_set=[(x_tr,y_tr), (x_va,y_va)],  # 検証データセット。トレーニング中に性能を評価します\n",
    "    callbacks=[                 # トレーニング中に呼び出されるコールバック関数のリスト\n",
    "        lgb.early_stopping(stopping_rounds=100, verbose=True),  # 早期停止のためのコールバック関数\n",
    "        lgb.log_evaluation(),   # コマンドライン出力用のコールバック関数\n",
    "    ],\n",
    "    eval_metric='auc',          # トレーニング中に使用する評価メトリックスを指定します\n",
    ")\n"
   ]
  },
  {
   "cell_type": "markdown",
   "id": "4a63950c",
   "metadata": {
    "papermill": {
     "duration": 0.017407,
     "end_time": "2022-06-02T02:05:01.667119",
     "exception": false,
     "start_time": "2022-06-02T02:05:01.649712",
     "status": "completed"
    },
    "tags": []
   },
   "source": [
    "####  モデル評価"
   ]
  },
  {
   "cell_type": "code",
   "execution_count": 18,
   "id": "98c07534",
   "metadata": {
    "papermill": {
     "duration": 0.038435,
     "end_time": "2022-06-02T02:05:01.723221",
     "exception": false,
     "start_time": "2022-06-02T02:05:01.684786",
     "status": "completed"
    },
    "tags": []
   },
   "outputs": [
    {
     "name": "stdout",
     "output_type": "stream",
     "text": [
      "[AUC] tr: 0.65, va: 0.64\n"
     ]
    }
   ],
   "source": [
    "#評価指標がAUCのため、 roc_auc_scoreを利用。予測データは0から1の連続値(確率値)のためmodel.predict_proba()を利用\n",
    "# 学習データの推論値取得とROC計算\n",
    "y_tr_pred = model.predict_proba(x_tr)[:, 1]\n",
    "metric_tr = roc_auc_score(y_tr, y_tr_pred)\n",
    "# 検証データの推論値取得とROC計算\n",
    "y_va_pred = model.predict_proba(x_va)[:, 1] \n",
    "metric_va = roc_auc_score(y_va, y_va_pred)\n",
    "#結果の表示\n",
    "print(\"[AUC] tr: {:.2f}, va: {:.2f}\".format(metric_tr,metric_va))"
   ]
  },
  {
   "cell_type": "markdown",
   "id": "4495ad9b",
   "metadata": {
    "papermill": {
     "duration": 0.017796,
     "end_time": "2022-06-02T02:05:01.760666",
     "exception": false,
     "start_time": "2022-06-02T02:05:01.742870",
     "status": "completed"
    },
    "tags": []
   },
   "source": [
    "####  説明変数の重要度の算出"
   ]
  },
  {
   "cell_type": "code",
   "execution_count": 19,
   "id": "a283f2c3",
   "metadata": {
    "papermill": {
     "duration": 0.033778,
     "end_time": "2022-06-02T02:05:01.812784",
     "exception": false,
     "start_time": "2022-06-02T02:05:01.779006",
     "status": "completed"
    },
    "tags": []
   },
   "outputs": [
    {
     "data": {
      "text/html": [
       "<div>\n",
       "<style scoped>\n",
       "    .dataframe tbody tr th:only-of-type {\n",
       "        vertical-align: middle;\n",
       "    }\n",
       "\n",
       "    .dataframe tbody tr th {\n",
       "        vertical-align: top;\n",
       "    }\n",
       "\n",
       "    .dataframe thead th {\n",
       "        text-align: right;\n",
       "    }\n",
       "</style>\n",
       "<table border=\"1\" class=\"dataframe\">\n",
       "  <thead>\n",
       "    <tr style=\"text-align: right;\">\n",
       "      <th></th>\n",
       "      <th>col</th>\n",
       "      <th>imp</th>\n",
       "    </tr>\n",
       "  </thead>\n",
       "  <tbody>\n",
       "    <tr>\n",
       "      <th>0</th>\n",
       "      <td>IsActiveMember</td>\n",
       "      <td>31999.094603</td>\n",
       "    </tr>\n",
       "    <tr>\n",
       "      <th>1</th>\n",
       "      <td>EstimatedSalary</td>\n",
       "      <td>3426.896348</td>\n",
       "    </tr>\n",
       "  </tbody>\n",
       "</table>\n",
       "</div>"
      ],
      "text/plain": [
       "               col           imp\n",
       "0   IsActiveMember  31999.094603\n",
       "1  EstimatedSalary   3426.896348"
      ]
     },
     "execution_count": 19,
     "metadata": {},
     "output_type": "execute_result"
    }
   ],
   "source": [
    "# Pandasライブラリを使用してDataFrameを作成し、各特徴の重要度を含むDataFrameを作成します。\n",
    "imp = pd.DataFrame({\"col\": x_train.columns, \"imp\": model.feature_importances_})\n",
    "\n",
    "# 重要度（\"imp\"列）でDataFrameを降順にソートします。\n",
    "# ascending=Falseは降順を指定します。\n",
    "# ignore_index=Trueは、新しいインデックスを連番で付けることを意味します。\n",
    "imp.sort_values(\"imp\", ascending=False, ignore_index=True)\n"
   ]
  },
  {
   "cell_type": "markdown",
   "id": "c54a3ed0",
   "metadata": {
    "papermill": {
     "duration": 0.017793,
     "end_time": "2022-06-02T02:05:01.848466",
     "exception": false,
     "start_time": "2022-06-02T02:05:01.830673",
     "status": "completed"
    },
    "tags": []
   },
   "source": [
    "## クロスバリデーションの場合\n",
    "#### モデル学習の実行（クロスバリデーションの場合）"
   ]
  },
  {
   "cell_type": "code",
   "execution_count": 20,
   "id": "3ab8a087",
   "metadata": {
    "papermill": {
     "duration": 0.519075,
     "end_time": "2022-06-02T02:05:02.385695",
     "exception": false,
     "start_time": "2022-06-02T02:05:01.866620",
     "status": "completed"
    },
    "tags": []
   },
   "outputs": [
    {
     "name": "stdout",
     "output_type": "stream",
     "text": [
      "-------------------- 0 --------------------\n",
      "(132027, 2) (132027, 1)\n",
      "(33007, 2) (33007, 1)\n",
      "y_train:0.212, y_tr:0.212, y_va:0.212\n",
      "[1]\ttraining's auc: 0.641667\tvalid_1's auc: 0.636568\n",
      "Training until validation scores don't improve for 10 rounds\n",
      "[2]\ttraining's auc: 0.642106\tvalid_1's auc: 0.637182\n",
      "[3]\ttraining's auc: 0.642984\tvalid_1's auc: 0.637758\n",
      "[4]\ttraining's auc: 0.643235\tvalid_1's auc: 0.637752\n",
      "[5]\ttraining's auc: 0.643965\tvalid_1's auc: 0.637829\n",
      "[6]\ttraining's auc: 0.644031\tvalid_1's auc: 0.637982\n",
      "[7]\ttraining's auc: 0.644132\tvalid_1's auc: 0.637941\n",
      "[8]\ttraining's auc: 0.644365\tvalid_1's auc: 0.637849\n",
      "[9]\ttraining's auc: 0.645716\tvalid_1's auc: 0.638867\n",
      "[10]\ttraining's auc: 0.646768\tvalid_1's auc: 0.639656\n",
      "[11]\ttraining's auc: 0.646913\tvalid_1's auc: 0.639874\n",
      "[12]\ttraining's auc: 0.646974\tvalid_1's auc: 0.639791\n",
      "[13]\ttraining's auc: 0.646974\tvalid_1's auc: 0.639561\n",
      "[14]\ttraining's auc: 0.647156\tvalid_1's auc: 0.63952\n",
      "[15]\ttraining's auc: 0.647418\tvalid_1's auc: 0.64002\n",
      "[16]\ttraining's auc: 0.647823\tvalid_1's auc: 0.640078\n",
      "[17]\ttraining's auc: 0.648001\tvalid_1's auc: 0.640378\n",
      "[18]\ttraining's auc: 0.648098\tvalid_1's auc: 0.640485\n",
      "[19]\ttraining's auc: 0.648432\tvalid_1's auc: 0.640573\n",
      "[20]\ttraining's auc: 0.648473\tvalid_1's auc: 0.640485\n",
      "[21]\ttraining's auc: 0.64854\tvalid_1's auc: 0.64052\n",
      "[22]\ttraining's auc: 0.648584\tvalid_1's auc: 0.640668\n",
      "[23]\ttraining's auc: 0.648608\tvalid_1's auc: 0.640613\n",
      "[24]\ttraining's auc: 0.648734\tvalid_1's auc: 0.640705\n",
      "[25]\ttraining's auc: 0.648709\tvalid_1's auc: 0.640638\n",
      "[26]\ttraining's auc: 0.649044\tvalid_1's auc: 0.640806\n",
      "[27]\ttraining's auc: 0.64913\tvalid_1's auc: 0.64077\n",
      "[28]\ttraining's auc: 0.649118\tvalid_1's auc: 0.640753\n",
      "[29]\ttraining's auc: 0.649233\tvalid_1's auc: 0.640686\n",
      "[30]\ttraining's auc: 0.649396\tvalid_1's auc: 0.640626\n",
      "[31]\ttraining's auc: 0.64947\tvalid_1's auc: 0.640813\n",
      "[32]\ttraining's auc: 0.649695\tvalid_1's auc: 0.640864\n",
      "[33]\ttraining's auc: 0.649787\tvalid_1's auc: 0.641029\n",
      "[34]\ttraining's auc: 0.649958\tvalid_1's auc: 0.641114\n",
      "[35]\ttraining's auc: 0.650079\tvalid_1's auc: 0.641039\n",
      "[36]\ttraining's auc: 0.650093\tvalid_1's auc: 0.641072\n",
      "[37]\ttraining's auc: 0.650181\tvalid_1's auc: 0.641195\n",
      "[38]\ttraining's auc: 0.650282\tvalid_1's auc: 0.641366\n",
      "[39]\ttraining's auc: 0.650379\tvalid_1's auc: 0.641409\n",
      "[40]\ttraining's auc: 0.650565\tvalid_1's auc: 0.641285\n",
      "[41]\ttraining's auc: 0.650636\tvalid_1's auc: 0.641149\n",
      "[42]\ttraining's auc: 0.650816\tvalid_1's auc: 0.641163\n",
      "[43]\ttraining's auc: 0.650864\tvalid_1's auc: 0.641148\n",
      "[44]\ttraining's auc: 0.650912\tvalid_1's auc: 0.641244\n",
      "[45]\ttraining's auc: 0.651036\tvalid_1's auc: 0.641267\n",
      "[46]\ttraining's auc: 0.651072\tvalid_1's auc: 0.641362\n",
      "[47]\ttraining's auc: 0.651167\tvalid_1's auc: 0.641562\n",
      "[48]\ttraining's auc: 0.651261\tvalid_1's auc: 0.641676\n",
      "[49]\ttraining's auc: 0.651366\tvalid_1's auc: 0.641729\n",
      "[50]\ttraining's auc: 0.65141\tvalid_1's auc: 0.641799\n",
      "[51]\ttraining's auc: 0.651438\tvalid_1's auc: 0.641857\n",
      "[52]\ttraining's auc: 0.651523\tvalid_1's auc: 0.641874\n",
      "[53]\ttraining's auc: 0.651618\tvalid_1's auc: 0.641725\n",
      "[54]\ttraining's auc: 0.651784\tvalid_1's auc: 0.641572\n",
      "[55]\ttraining's auc: 0.651812\tvalid_1's auc: 0.641613\n",
      "[56]\ttraining's auc: 0.65181\tvalid_1's auc: 0.641668\n",
      "[57]\ttraining's auc: 0.652001\tvalid_1's auc: 0.641883\n",
      "[58]\ttraining's auc: 0.652026\tvalid_1's auc: 0.641887\n",
      "[59]\ttraining's auc: 0.652096\tvalid_1's auc: 0.641858\n",
      "[60]\ttraining's auc: 0.652125\tvalid_1's auc: 0.641866\n",
      "[61]\ttraining's auc: 0.652176\tvalid_1's auc: 0.641902\n",
      "[62]\ttraining's auc: 0.652201\tvalid_1's auc: 0.641927\n",
      "[63]\ttraining's auc: 0.652334\tvalid_1's auc: 0.641947\n",
      "[64]\ttraining's auc: 0.652374\tvalid_1's auc: 0.642002\n",
      "[65]\ttraining's auc: 0.6524\tvalid_1's auc: 0.641943\n",
      "[66]\ttraining's auc: 0.652454\tvalid_1's auc: 0.642017\n",
      "[67]\ttraining's auc: 0.652555\tvalid_1's auc: 0.642048\n",
      "[68]\ttraining's auc: 0.652585\tvalid_1's auc: 0.642108\n",
      "[69]\ttraining's auc: 0.652594\tvalid_1's auc: 0.642113\n",
      "[70]\ttraining's auc: 0.652611\tvalid_1's auc: 0.642167\n",
      "[71]\ttraining's auc: 0.652691\tvalid_1's auc: 0.64217\n",
      "[72]\ttraining's auc: 0.652799\tvalid_1's auc: 0.642172\n",
      "[73]\ttraining's auc: 0.652832\tvalid_1's auc: 0.642174\n",
      "[74]\ttraining's auc: 0.652876\tvalid_1's auc: 0.642197\n",
      "[75]\ttraining's auc: 0.652885\tvalid_1's auc: 0.642215\n",
      "[76]\ttraining's auc: 0.652873\tvalid_1's auc: 0.642254\n",
      "[77]\ttraining's auc: 0.652915\tvalid_1's auc: 0.642245\n",
      "[78]\ttraining's auc: 0.652967\tvalid_1's auc: 0.642245\n",
      "[79]\ttraining's auc: 0.652974\tvalid_1's auc: 0.642232\n",
      "[80]\ttraining's auc: 0.653\tvalid_1's auc: 0.642183\n",
      "[81]\ttraining's auc: 0.65304\tvalid_1's auc: 0.64219\n",
      "[82]\ttraining's auc: 0.65308\tvalid_1's auc: 0.642203\n",
      "[83]\ttraining's auc: 0.653099\tvalid_1's auc: 0.642222\n",
      "[84]\ttraining's auc: 0.653126\tvalid_1's auc: 0.642258\n",
      "[85]\ttraining's auc: 0.65313\tvalid_1's auc: 0.642259\n",
      "[86]\ttraining's auc: 0.653145\tvalid_1's auc: 0.642236\n",
      "[87]\ttraining's auc: 0.653176\tvalid_1's auc: 0.642152\n",
      "[88]\ttraining's auc: 0.653199\tvalid_1's auc: 0.642104\n",
      "[89]\ttraining's auc: 0.653194\tvalid_1's auc: 0.642112\n",
      "[90]\ttraining's auc: 0.653258\tvalid_1's auc: 0.642118\n",
      "[91]\ttraining's auc: 0.653268\tvalid_1's auc: 0.642128\n",
      "[92]\ttraining's auc: 0.653294\tvalid_1's auc: 0.6421\n",
      "[93]\ttraining's auc: 0.653315\tvalid_1's auc: 0.642084\n",
      "[94]\ttraining's auc: 0.653384\tvalid_1's auc: 0.642002\n",
      "[95]\ttraining's auc: 0.653407\tvalid_1's auc: 0.641966\n",
      "Early stopping, best iteration is:\n",
      "[85]\ttraining's auc: 0.65313\tvalid_1's auc: 0.642259\n",
      "[AUC] tr: 0.65, va: 0.64\n",
      "-------------------- 1 --------------------\n",
      "(132027, 2) (132027, 1)\n",
      "(33007, 2) (33007, 1)\n",
      "y_train:0.212, y_tr:0.212, y_va:0.212\n",
      "[1]\ttraining's auc: 0.641611\tvalid_1's auc: 0.634611\n",
      "Training until validation scores don't improve for 10 rounds\n",
      "[2]\ttraining's auc: 0.642226\tvalid_1's auc: 0.635396\n",
      "[3]\ttraining's auc: 0.644227\tvalid_1's auc: 0.635418\n",
      "[4]\ttraining's auc: 0.644637\tvalid_1's auc: 0.636525\n",
      "[5]\ttraining's auc: 0.644832\tvalid_1's auc: 0.636673\n",
      "[6]\ttraining's auc: 0.6456\tvalid_1's auc: 0.63686\n",
      "[7]\ttraining's auc: 0.645638\tvalid_1's auc: 0.637106\n",
      "[8]\ttraining's auc: 0.64599\tvalid_1's auc: 0.637106\n",
      "[9]\ttraining's auc: 0.646117\tvalid_1's auc: 0.63701\n",
      "[10]\ttraining's auc: 0.646785\tvalid_1's auc: 0.637448\n",
      "[11]\ttraining's auc: 0.647023\tvalid_1's auc: 0.637586\n",
      "[12]\ttraining's auc: 0.647291\tvalid_1's auc: 0.637457\n",
      "[13]\ttraining's auc: 0.64748\tvalid_1's auc: 0.637497\n",
      "[14]\ttraining's auc: 0.647713\tvalid_1's auc: 0.637409\n",
      "[15]\ttraining's auc: 0.647814\tvalid_1's auc: 0.637418\n",
      "[16]\ttraining's auc: 0.648039\tvalid_1's auc: 0.63757\n",
      "[17]\ttraining's auc: 0.648057\tvalid_1's auc: 0.63745\n",
      "[18]\ttraining's auc: 0.648211\tvalid_1's auc: 0.637404\n",
      "[19]\ttraining's auc: 0.648395\tvalid_1's auc: 0.637299\n",
      "[20]\ttraining's auc: 0.648457\tvalid_1's auc: 0.637254\n",
      "[21]\ttraining's auc: 0.648484\tvalid_1's auc: 0.637248\n",
      "Early stopping, best iteration is:\n",
      "[11]\ttraining's auc: 0.647023\tvalid_1's auc: 0.637586\n",
      "[AUC] tr: 0.65, va: 0.64\n",
      "-------------------- 2 --------------------\n",
      "(132027, 2) (132027, 1)\n",
      "(33007, 2) (33007, 1)\n",
      "y_train:0.212, y_tr:0.212, y_va:0.212\n",
      "[1]\ttraining's auc: 0.639945\tvalid_1's auc: 0.63831\n",
      "Training until validation scores don't improve for 10 rounds\n",
      "[2]\ttraining's auc: 0.64032\tvalid_1's auc: 0.63825\n",
      "[3]\ttraining's auc: 0.642563\tvalid_1's auc: 0.638241\n",
      "[4]\ttraining's auc: 0.643042\tvalid_1's auc: 0.638864\n",
      "[5]\ttraining's auc: 0.643182\tvalid_1's auc: 0.6394\n",
      "[6]\ttraining's auc: 0.643636\tvalid_1's auc: 0.640028\n",
      "[7]\ttraining's auc: 0.644034\tvalid_1's auc: 0.639983\n",
      "[8]\ttraining's auc: 0.644108\tvalid_1's auc: 0.640067\n",
      "[9]\ttraining's auc: 0.644845\tvalid_1's auc: 0.640899\n",
      "[10]\ttraining's auc: 0.645252\tvalid_1's auc: 0.640641\n",
      "[11]\ttraining's auc: 0.645491\tvalid_1's auc: 0.640616\n",
      "[12]\ttraining's auc: 0.645655\tvalid_1's auc: 0.640835\n",
      "[13]\ttraining's auc: 0.645729\tvalid_1's auc: 0.640775\n",
      "[14]\ttraining's auc: 0.645982\tvalid_1's auc: 0.640857\n",
      "[15]\ttraining's auc: 0.646458\tvalid_1's auc: 0.641071\n",
      "[16]\ttraining's auc: 0.64662\tvalid_1's auc: 0.641134\n",
      "[17]\ttraining's auc: 0.646753\tvalid_1's auc: 0.641182\n",
      "[18]\ttraining's auc: 0.64688\tvalid_1's auc: 0.641334\n",
      "[19]\ttraining's auc: 0.646884\tvalid_1's auc: 0.64133\n",
      "[20]\ttraining's auc: 0.646964\tvalid_1's auc: 0.641387\n",
      "[21]\ttraining's auc: 0.647035\tvalid_1's auc: 0.641448\n",
      "[22]\ttraining's auc: 0.647155\tvalid_1's auc: 0.641601\n",
      "[23]\ttraining's auc: 0.647508\tvalid_1's auc: 0.641492\n",
      "[24]\ttraining's auc: 0.647587\tvalid_1's auc: 0.641557\n",
      "[25]\ttraining's auc: 0.64778\tvalid_1's auc: 0.64186\n",
      "[26]\ttraining's auc: 0.647883\tvalid_1's auc: 0.642008\n",
      "[27]\ttraining's auc: 0.648076\tvalid_1's auc: 0.641962\n",
      "[28]\ttraining's auc: 0.648246\tvalid_1's auc: 0.641758\n",
      "[29]\ttraining's auc: 0.648349\tvalid_1's auc: 0.641692\n",
      "[30]\ttraining's auc: 0.648452\tvalid_1's auc: 0.641591\n",
      "[31]\ttraining's auc: 0.648582\tvalid_1's auc: 0.641581\n",
      "[32]\ttraining's auc: 0.648623\tvalid_1's auc: 0.641476\n",
      "[33]\ttraining's auc: 0.648862\tvalid_1's auc: 0.641332\n",
      "[34]\ttraining's auc: 0.649013\tvalid_1's auc: 0.641504\n",
      "[35]\ttraining's auc: 0.649185\tvalid_1's auc: 0.64171\n",
      "[36]\ttraining's auc: 0.649226\tvalid_1's auc: 0.641719\n",
      "Early stopping, best iteration is:\n",
      "[26]\ttraining's auc: 0.647883\tvalid_1's auc: 0.642008\n",
      "[AUC] tr: 0.65, va: 0.64\n",
      "-------------------- 3 --------------------\n",
      "(132027, 2) (132027, 1)\n",
      "(33007, 2) (33007, 1)\n",
      "y_train:0.212, y_tr:0.212, y_va:0.212\n",
      "[1]\ttraining's auc: 0.638798\tvalid_1's auc: 0.642328\n",
      "Training until validation scores don't improve for 10 rounds\n",
      "[2]\ttraining's auc: 0.640081\tvalid_1's auc: 0.642576\n",
      "[3]\ttraining's auc: 0.640695\tvalid_1's auc: 0.643385\n",
      "[4]\ttraining's auc: 0.640751\tvalid_1's auc: 0.643236\n",
      "[5]\ttraining's auc: 0.643136\tvalid_1's auc: 0.643369\n",
      "[6]\ttraining's auc: 0.643733\tvalid_1's auc: 0.644403\n",
      "[7]\ttraining's auc: 0.643978\tvalid_1's auc: 0.644458\n",
      "[8]\ttraining's auc: 0.644072\tvalid_1's auc: 0.644399\n",
      "[9]\ttraining's auc: 0.644196\tvalid_1's auc: 0.64449\n",
      "[10]\ttraining's auc: 0.644411\tvalid_1's auc: 0.644727\n",
      "[11]\ttraining's auc: 0.644447\tvalid_1's auc: 0.644635\n",
      "[12]\ttraining's auc: 0.644772\tvalid_1's auc: 0.645241\n",
      "[13]\ttraining's auc: 0.644956\tvalid_1's auc: 0.645036\n",
      "[14]\ttraining's auc: 0.645074\tvalid_1's auc: 0.64553\n",
      "[15]\ttraining's auc: 0.645317\tvalid_1's auc: 0.645329\n",
      "[16]\ttraining's auc: 0.645618\tvalid_1's auc: 0.646014\n",
      "[17]\ttraining's auc: 0.645856\tvalid_1's auc: 0.64584\n",
      "[18]\ttraining's auc: 0.645996\tvalid_1's auc: 0.645956\n",
      "[19]\ttraining's auc: 0.646127\tvalid_1's auc: 0.645724\n",
      "[20]\ttraining's auc: 0.646248\tvalid_1's auc: 0.645588\n",
      "[21]\ttraining's auc: 0.64635\tvalid_1's auc: 0.645665\n",
      "[22]\ttraining's auc: 0.646511\tvalid_1's auc: 0.645925\n",
      "[23]\ttraining's auc: 0.646715\tvalid_1's auc: 0.646167\n",
      "[24]\ttraining's auc: 0.646892\tvalid_1's auc: 0.646154\n",
      "[25]\ttraining's auc: 0.64706\tvalid_1's auc: 0.646356\n",
      "[26]\ttraining's auc: 0.647176\tvalid_1's auc: 0.646445\n",
      "[27]\ttraining's auc: 0.647319\tvalid_1's auc: 0.646501\n",
      "[28]\ttraining's auc: 0.647782\tvalid_1's auc: 0.646815\n",
      "[29]\ttraining's auc: 0.647895\tvalid_1's auc: 0.646927\n",
      "[30]\ttraining's auc: 0.647951\tvalid_1's auc: 0.646978\n",
      "[31]\ttraining's auc: 0.648024\tvalid_1's auc: 0.646937\n",
      "[32]\ttraining's auc: 0.648034\tvalid_1's auc: 0.647079\n",
      "[33]\ttraining's auc: 0.648136\tvalid_1's auc: 0.64706\n",
      "[34]\ttraining's auc: 0.648399\tvalid_1's auc: 0.646863\n",
      "[35]\ttraining's auc: 0.648483\tvalid_1's auc: 0.646899\n",
      "[36]\ttraining's auc: 0.648605\tvalid_1's auc: 0.646894\n",
      "[37]\ttraining's auc: 0.648662\tvalid_1's auc: 0.646848\n",
      "[38]\ttraining's auc: 0.648649\tvalid_1's auc: 0.646908\n",
      "[39]\ttraining's auc: 0.648695\tvalid_1's auc: 0.647027\n",
      "[40]\ttraining's auc: 0.648776\tvalid_1's auc: 0.64705\n",
      "[41]\ttraining's auc: 0.648881\tvalid_1's auc: 0.646949\n",
      "[42]\ttraining's auc: 0.64893\tvalid_1's auc: 0.646925\n",
      "Early stopping, best iteration is:\n",
      "[32]\ttraining's auc: 0.648034\tvalid_1's auc: 0.647079\n",
      "[AUC] tr: 0.65, va: 0.65\n",
      "-------------------- 4 --------------------\n",
      "(132028, 2) (132028, 1)\n",
      "(33006, 2) (33006, 1)\n",
      "y_train:0.212, y_tr:0.212, y_va:0.212\n",
      "[1]\ttraining's auc: 0.641063\tvalid_1's auc: 0.638825\n",
      "Training until validation scores don't improve for 10 rounds\n",
      "[2]\ttraining's auc: 0.641256\tvalid_1's auc: 0.639471\n",
      "[3]\ttraining's auc: 0.641337\tvalid_1's auc: 0.639017\n",
      "[4]\ttraining's auc: 0.643393\tvalid_1's auc: 0.640271\n",
      "[5]\ttraining's auc: 0.643404\tvalid_1's auc: 0.640096\n",
      "[6]\ttraining's auc: 0.644416\tvalid_1's auc: 0.640243\n",
      "[7]\ttraining's auc: 0.644482\tvalid_1's auc: 0.640481\n",
      "[8]\ttraining's auc: 0.644783\tvalid_1's auc: 0.640468\n",
      "[9]\ttraining's auc: 0.644978\tvalid_1's auc: 0.640806\n",
      "[10]\ttraining's auc: 0.645367\tvalid_1's auc: 0.640966\n",
      "[11]\ttraining's auc: 0.645812\tvalid_1's auc: 0.641556\n",
      "[12]\ttraining's auc: 0.646211\tvalid_1's auc: 0.642277\n",
      "[13]\ttraining's auc: 0.646374\tvalid_1's auc: 0.641958\n",
      "[14]\ttraining's auc: 0.646319\tvalid_1's auc: 0.641717\n",
      "[15]\ttraining's auc: 0.646449\tvalid_1's auc: 0.641813\n",
      "[16]\ttraining's auc: 0.646653\tvalid_1's auc: 0.642223\n",
      "[17]\ttraining's auc: 0.647187\tvalid_1's auc: 0.642532\n",
      "[18]\ttraining's auc: 0.647198\tvalid_1's auc: 0.642574\n",
      "[19]\ttraining's auc: 0.647268\tvalid_1's auc: 0.642549\n",
      "[20]\ttraining's auc: 0.647453\tvalid_1's auc: 0.642259\n",
      "[21]\ttraining's auc: 0.647609\tvalid_1's auc: 0.642384\n",
      "[22]\ttraining's auc: 0.647646\tvalid_1's auc: 0.642267\n",
      "[23]\ttraining's auc: 0.647898\tvalid_1's auc: 0.642318\n",
      "[24]\ttraining's auc: 0.648011\tvalid_1's auc: 0.642213\n",
      "[25]\ttraining's auc: 0.648169\tvalid_1's auc: 0.642367\n",
      "[26]\ttraining's auc: 0.648239\tvalid_1's auc: 0.642371\n",
      "[27]\ttraining's auc: 0.648325\tvalid_1's auc: 0.642418\n",
      "[28]\ttraining's auc: 0.648427\tvalid_1's auc: 0.642422\n",
      "Early stopping, best iteration is:\n",
      "[18]\ttraining's auc: 0.647198\tvalid_1's auc: 0.642574\n",
      "[AUC] tr: 0.65, va: 0.64\n",
      "-------------------- result --------------------\n",
      "[[0.         0.65313039 0.64225875]\n",
      " [1.         0.64702301 0.63758557]\n",
      " [2.         0.64788308 0.64200759]\n",
      " [3.         0.64803388 0.64707856]\n",
      " [4.         0.64719818 0.64257377]]\n",
      "[cv ] tr: 0.65+-0.00, va: 0.64+-0.00\n",
      "Done.\n"
     ]
    }
   ],
   "source": [
    "params = {\n",
    "    'boosting_type': 'gbdt',\n",
    "    'objective': 'binary', \n",
    "    'metric': 'auc',\n",
    "    'learning_rate': 0.1,\n",
    "    'num_leaves': 16,\n",
    "    'n_estimators': 100000,\n",
    "    \"random_state\": 123,\n",
    "    \"importance_type\": \"gain\",\n",
    "}\n",
    "    \n",
    "metrics = []\n",
    "imp = pd.DataFrame()\n",
    "\n",
    "n_splits = 5\n",
    "cv = list(StratifiedKFold(n_splits=n_splits, shuffle=True, random_state=123).split(x_train, y_train))\n",
    "\n",
    "for nfold in np.arange(n_splits):\n",
    "    print(\"-\"*20, nfold, \"-\"*20)\n",
    "    idx_tr, idx_va = cv[nfold][0], cv[nfold][1]\n",
    "    x_tr, y_tr = x_train.loc[idx_tr, :], y_train.loc[idx_tr, :]\n",
    "    x_va, y_va = x_train.loc[idx_va, :], y_train.loc[idx_va, :]\n",
    "    print(x_tr.shape, y_tr.shape)\n",
    "    print(x_va.shape, y_va.shape)\n",
    "    print(\"y_train:{:.3f}, y_tr:{:.3f}, y_va:{:.3f}\".format(\n",
    "        y_train[\"Exited\"].mean(),\n",
    "        y_tr[\"Exited\"].mean(),\n",
    "        y_va[\"Exited\"].mean(),\n",
    "    ))\n",
    "    \n",
    "    model = lgb.LGBMClassifier(**params)\n",
    "    model.fit(x_tr,\n",
    "              y_tr,\n",
    "              eval_set=[(x_tr,y_tr), (x_va,y_va)],\n",
    "              #early_stopping_rounds=100,\n",
    "              callbacks=[lgb.early_stopping(stopping_rounds=10, verbose=True),\n",
    "               lgb.log_evaluation()], # コマンドライン出力用コールバック関数　修正処理\n",
    "          \n",
    "              #verbose=100,\n",
    "              #eval_metric='auc',  # 早期停止の評価メトリックスを指定するのが良いです\n",
    "\n",
    "             )\n",
    "#主に追加処理についてコメント記載\n",
    "    \n",
    "    #評価指標がAUCのため、 roc_auc_scoreを利用。予測データは0から1の連続値(確率値)のためmodel.predict_proba()を利用\n",
    "    # 学習データの推論値取得とROC計算\n",
    "    y_tr_pred = model.predict_proba(x_tr)[:, 1]  # 学習データの予測を行います。\n",
    "    metric_tr = roc_auc_score(y_tr, y_tr_pred)  # 学習データの正解率を計算します。\n",
    "    # 検証データの推論値取得とROC計算\n",
    "    y_va_pred = model.predict_proba(x_va)[:, 1] # バリデーションデータの予測を行います。\n",
    "    metric_va = roc_auc_score(y_va, y_va_pred) # バリデーションデータの正解率を計算します。\n",
    "    #結果の表示\n",
    "    print(\"[AUC] tr: {:.2f}, va: {:.2f}\".format(metric_tr, metric_va))  # 学習データとバリデーションデータの正解率を出力します。\n",
    "    metrics.append([nfold, metric_tr, metric_va])  # 各フォールドの学習データとバリデーションデータの正解率をリストに追加します。\n",
    "    \n",
    "    _imp = pd.DataFrame({\"col\":x_train.columns, \"imp\":model.feature_importances_, \"nfold\":nfold})  # 特徴の重要度をDataFrameに追加します。\n",
    "    imp = pd.concat([imp, _imp], axis=0, ignore_index=True)  # 特徴の重要度のDataFrameを元のDataFrameに連結します。\n",
    "\n",
    "print(\"-\"*20, \"result\", \"-\"*20)\n",
    "metrics = np.array(metrics)  # メトリクスをNumPy配列に変換します。\n",
    "print(metrics)\n",
    "\n",
    "print(\"[cv ] tr: {:.2f}+-{:.2f}, va: {:.2f}+-{:.2f}\".format(\n",
    "    metrics[:,1].mean(), metrics[:,1].std(),  # トレーニングデータとバリデーションデータの平均と標準偏差を出力します。\n",
    "    metrics[:,2].mean(), metrics[:,2].std(),\n",
    "))\n",
    "\n",
    "imp = imp.groupby(\"col\")[\"imp\"].agg([\"mean\", \"std\"])  # 特徴の重要度の平均と標準偏差を計算します。\n",
    "imp.columns = [\"imp\", \"imp_std\"]  # 列名を修正します。\n",
    "imp = imp.reset_index(drop=False)  # インデックスをリセットします。\n",
    "\n",
    "print(\"Done.\")  # 処理が完了したことを通知します。\n"
   ]
  },
  {
   "cell_type": "markdown",
   "id": "38c5822c",
   "metadata": {
    "papermill": {
     "duration": 0.018228,
     "end_time": "2022-06-02T02:05:02.422224",
     "exception": false,
     "start_time": "2022-06-02T02:05:02.403996",
     "status": "completed"
    },
    "tags": []
   },
   "source": [
    "#### 説明変数の重要度の算出"
   ]
  },
  {
   "cell_type": "code",
   "execution_count": 21,
   "id": "9a360721",
   "metadata": {
    "papermill": {
     "duration": 0.032922,
     "end_time": "2022-06-02T02:05:02.473601",
     "exception": false,
     "start_time": "2022-06-02T02:05:02.440679",
     "status": "completed"
    },
    "tags": []
   },
   "outputs": [
    {
     "data": {
      "text/html": [
       "<div>\n",
       "<style scoped>\n",
       "    .dataframe tbody tr th:only-of-type {\n",
       "        vertical-align: middle;\n",
       "    }\n",
       "\n",
       "    .dataframe tbody tr th {\n",
       "        vertical-align: top;\n",
       "    }\n",
       "\n",
       "    .dataframe thead th {\n",
       "        text-align: right;\n",
       "    }\n",
       "</style>\n",
       "<table border=\"1\" class=\"dataframe\">\n",
       "  <thead>\n",
       "    <tr style=\"text-align: right;\">\n",
       "      <th></th>\n",
       "      <th>col</th>\n",
       "      <th>imp</th>\n",
       "      <th>imp_std</th>\n",
       "    </tr>\n",
       "  </thead>\n",
       "  <tbody>\n",
       "    <tr>\n",
       "      <th>0</th>\n",
       "      <td>IsActiveMember</td>\n",
       "      <td>30604.597035</td>\n",
       "      <td>1318.713639</td>\n",
       "    </tr>\n",
       "    <tr>\n",
       "      <th>1</th>\n",
       "      <td>EstimatedSalary</td>\n",
       "      <td>2112.175541</td>\n",
       "      <td>724.479339</td>\n",
       "    </tr>\n",
       "  </tbody>\n",
       "</table>\n",
       "</div>"
      ],
      "text/plain": [
       "               col           imp      imp_std\n",
       "0   IsActiveMember  30604.597035  1318.713639\n",
       "1  EstimatedSalary   2112.175541   724.479339"
      ]
     },
     "execution_count": 21,
     "metadata": {},
     "output_type": "execute_result"
    }
   ],
   "source": [
    "imp.sort_values(\"imp\", ascending=False, ignore_index=True)"
   ]
  },
  {
   "cell_type": "markdown",
   "id": "2a26ac2a",
   "metadata": {
    "papermill": {
     "duration": 0.018431,
     "end_time": "2022-06-02T02:05:02.510282",
     "exception": false,
     "start_time": "2022-06-02T02:05:02.491851",
     "status": "completed"
    },
    "tags": []
   },
   "source": [
    "##  ベースラインの評価\n",
    "#### ベースライン検証用データの作成"
   ]
  },
  {
   "cell_type": "code",
   "execution_count": 22,
   "id": "67c9daf2",
   "metadata": {
    "papermill": {
     "duration": 0.039662,
     "end_time": "2022-06-02T02:05:02.568408",
     "exception": false,
     "start_time": "2022-06-02T02:05:02.528746",
     "status": "completed"
    },
    "tags": []
   },
   "outputs": [
    {
     "name": "stdout",
     "output_type": "stream",
     "text": [
      "(132027, 2) (132027, 1)\n",
      "(33007, 2) (33007, 1)\n"
     ]
    }
   ],
   "source": [
    "x_tr, x_va2, y_tr, y_va2 = train_test_split(x_train,\n",
    "                                            y_train,\n",
    "                                            test_size=0.2,\n",
    "                                            shuffle=True,\n",
    "                                            stratify=y_train,\n",
    "                                            random_state=123)\n",
    "print(x_tr.shape, y_tr.shape)\n",
    "print(x_va2.shape, y_va2.shape)\n"
   ]
  },
  {
   "cell_type": "markdown",
   "id": "a0c21cac",
   "metadata": {
    "papermill": {
     "duration": 0.018459,
     "end_time": "2022-06-02T02:05:02.606354",
     "exception": false,
     "start_time": "2022-06-02T02:05:02.587895",
     "status": "completed"
    },
    "tags": []
   },
   "source": [
    "####　ベースライン検証用の学習データと検証データの分割（ホールドアウト検証）"
   ]
  },
  {
   "cell_type": "code",
   "execution_count": 23,
   "id": "4f176438",
   "metadata": {
    "papermill": {
     "duration": 0.037957,
     "end_time": "2022-06-02T02:05:02.662974",
     "exception": false,
     "start_time": "2022-06-02T02:05:02.625017",
     "status": "completed"
    },
    "tags": []
   },
   "outputs": [
    {
     "name": "stdout",
     "output_type": "stream",
     "text": [
      "(105621, 2) (105621, 1)\n",
      "(26406, 2) (26406, 1)\n"
     ]
    }
   ],
   "source": [
    "x_tr1, x_va1, y_tr1, y_va1 = train_test_split(x_tr,\n",
    "                                              y_tr,\n",
    "                                              test_size=0.2,\n",
    "                                              shuffle=True,\n",
    "                                              stratify=y_tr,\n",
    "                                              random_state=789)\n",
    "print(x_tr1.shape, y_tr1.shape)\n",
    "print(x_va1.shape, y_va1.shape)"
   ]
  },
  {
   "cell_type": "markdown",
   "id": "b2300d12",
   "metadata": {
    "papermill": {
     "duration": 0.018771,
     "end_time": "2022-06-02T02:05:02.701005",
     "exception": false,
     "start_time": "2022-06-02T02:05:02.682234",
     "status": "completed"
    },
    "tags": []
   },
   "source": [
    "#### ベースライン検証用 モデル学習（ホールドアウト検証）"
   ]
  },
  {
   "cell_type": "code",
   "execution_count": 24,
   "id": "d0d5dfa0",
   "metadata": {
    "papermill": {
     "duration": 0.093846,
     "end_time": "2022-06-02T02:05:02.813521",
     "exception": false,
     "start_time": "2022-06-02T02:05:02.719675",
     "status": "completed"
    },
    "tags": []
   },
   "outputs": [
    {
     "name": "stdout",
     "output_type": "stream",
     "text": [
      "[1]\ttraining's auc: 0.641988\tvalid_1's auc: 0.640314\n",
      "Training until validation scores don't improve for 100 rounds\n",
      "[2]\ttraining's auc: 0.642549\tvalid_1's auc: 0.640374\n",
      "[3]\ttraining's auc: 0.643847\tvalid_1's auc: 0.640377\n",
      "[4]\ttraining's auc: 0.644891\tvalid_1's auc: 0.64096\n",
      "[5]\ttraining's auc: 0.645559\tvalid_1's auc: 0.641778\n",
      "[6]\ttraining's auc: 0.645776\tvalid_1's auc: 0.642309\n",
      "[7]\ttraining's auc: 0.645971\tvalid_1's auc: 0.642276\n",
      "[8]\ttraining's auc: 0.646371\tvalid_1's auc: 0.642397\n",
      "[9]\ttraining's auc: 0.646945\tvalid_1's auc: 0.642728\n",
      "[10]\ttraining's auc: 0.64713\tvalid_1's auc: 0.642792\n",
      "[11]\ttraining's auc: 0.647361\tvalid_1's auc: 0.643205\n",
      "[12]\ttraining's auc: 0.647539\tvalid_1's auc: 0.64344\n",
      "[13]\ttraining's auc: 0.647438\tvalid_1's auc: 0.643394\n",
      "[14]\ttraining's auc: 0.647604\tvalid_1's auc: 0.643423\n",
      "[15]\ttraining's auc: 0.647809\tvalid_1's auc: 0.643463\n",
      "[16]\ttraining's auc: 0.648003\tvalid_1's auc: 0.643659\n",
      "[17]\ttraining's auc: 0.648309\tvalid_1's auc: 0.643761\n",
      "[18]\ttraining's auc: 0.648378\tvalid_1's auc: 0.643886\n",
      "[19]\ttraining's auc: 0.648535\tvalid_1's auc: 0.643966\n",
      "[20]\ttraining's auc: 0.648797\tvalid_1's auc: 0.644144\n",
      "[21]\ttraining's auc: 0.64908\tvalid_1's auc: 0.644025\n",
      "[22]\ttraining's auc: 0.649133\tvalid_1's auc: 0.644045\n",
      "[23]\ttraining's auc: 0.649215\tvalid_1's auc: 0.644287\n",
      "[24]\ttraining's auc: 0.649393\tvalid_1's auc: 0.644174\n",
      "[25]\ttraining's auc: 0.649471\tvalid_1's auc: 0.644194\n",
      "[26]\ttraining's auc: 0.649699\tvalid_1's auc: 0.644215\n",
      "[27]\ttraining's auc: 0.649826\tvalid_1's auc: 0.644408\n",
      "[28]\ttraining's auc: 0.649946\tvalid_1's auc: 0.644358\n",
      "[29]\ttraining's auc: 0.650055\tvalid_1's auc: 0.644299\n",
      "[30]\ttraining's auc: 0.650147\tvalid_1's auc: 0.644526\n",
      "[31]\ttraining's auc: 0.650148\tvalid_1's auc: 0.644368\n",
      "[32]\ttraining's auc: 0.650268\tvalid_1's auc: 0.644366\n",
      "[33]\ttraining's auc: 0.650403\tvalid_1's auc: 0.644394\n",
      "[34]\ttraining's auc: 0.650529\tvalid_1's auc: 0.644363\n",
      "[35]\ttraining's auc: 0.650585\tvalid_1's auc: 0.644383\n",
      "[36]\ttraining's auc: 0.650612\tvalid_1's auc: 0.644443\n",
      "[37]\ttraining's auc: 0.650713\tvalid_1's auc: 0.644474\n",
      "[38]\ttraining's auc: 0.650757\tvalid_1's auc: 0.644468\n",
      "[39]\ttraining's auc: 0.650869\tvalid_1's auc: 0.644564\n",
      "[40]\ttraining's auc: 0.651194\tvalid_1's auc: 0.644777\n",
      "[41]\ttraining's auc: 0.65127\tvalid_1's auc: 0.64481\n",
      "[42]\ttraining's auc: 0.65129\tvalid_1's auc: 0.644879\n",
      "[43]\ttraining's auc: 0.651336\tvalid_1's auc: 0.644834\n",
      "[44]\ttraining's auc: 0.651561\tvalid_1's auc: 0.644793\n",
      "[45]\ttraining's auc: 0.651551\tvalid_1's auc: 0.644837\n",
      "[46]\ttraining's auc: 0.651602\tvalid_1's auc: 0.644795\n",
      "[47]\ttraining's auc: 0.651675\tvalid_1's auc: 0.644771\n",
      "[48]\ttraining's auc: 0.65186\tvalid_1's auc: 0.644744\n",
      "[49]\ttraining's auc: 0.651994\tvalid_1's auc: 0.644719\n",
      "[50]\ttraining's auc: 0.651982\tvalid_1's auc: 0.644715\n",
      "[51]\ttraining's auc: 0.652027\tvalid_1's auc: 0.644655\n",
      "[52]\ttraining's auc: 0.652093\tvalid_1's auc: 0.644622\n",
      "[53]\ttraining's auc: 0.652217\tvalid_1's auc: 0.644792\n",
      "[54]\ttraining's auc: 0.652291\tvalid_1's auc: 0.644886\n",
      "[55]\ttraining's auc: 0.652352\tvalid_1's auc: 0.644866\n",
      "[56]\ttraining's auc: 0.652458\tvalid_1's auc: 0.645104\n",
      "[57]\ttraining's auc: 0.652481\tvalid_1's auc: 0.645122\n",
      "[58]\ttraining's auc: 0.652542\tvalid_1's auc: 0.64512\n",
      "[59]\ttraining's auc: 0.652577\tvalid_1's auc: 0.645188\n",
      "[60]\ttraining's auc: 0.652615\tvalid_1's auc: 0.645259\n",
      "[61]\ttraining's auc: 0.65266\tvalid_1's auc: 0.645276\n",
      "[62]\ttraining's auc: 0.652715\tvalid_1's auc: 0.64524\n",
      "[63]\ttraining's auc: 0.652819\tvalid_1's auc: 0.645253\n",
      "[64]\ttraining's auc: 0.65286\tvalid_1's auc: 0.645263\n",
      "[65]\ttraining's auc: 0.652895\tvalid_1's auc: 0.645261\n",
      "[66]\ttraining's auc: 0.652979\tvalid_1's auc: 0.645298\n",
      "[67]\ttraining's auc: 0.653059\tvalid_1's auc: 0.645371\n",
      "[68]\ttraining's auc: 0.65314\tvalid_1's auc: 0.645315\n",
      "[69]\ttraining's auc: 0.65317\tvalid_1's auc: 0.645236\n",
      "[70]\ttraining's auc: 0.653241\tvalid_1's auc: 0.645146\n",
      "[71]\ttraining's auc: 0.653247\tvalid_1's auc: 0.645118\n",
      "[72]\ttraining's auc: 0.65327\tvalid_1's auc: 0.645204\n",
      "[73]\ttraining's auc: 0.65332\tvalid_1's auc: 0.645193\n",
      "[74]\ttraining's auc: 0.653329\tvalid_1's auc: 0.6452\n",
      "[75]\ttraining's auc: 0.653381\tvalid_1's auc: 0.64524\n",
      "[76]\ttraining's auc: 0.653448\tvalid_1's auc: 0.645237\n",
      "[77]\ttraining's auc: 0.653463\tvalid_1's auc: 0.645253\n",
      "[78]\ttraining's auc: 0.653502\tvalid_1's auc: 0.645235\n",
      "[79]\ttraining's auc: 0.653547\tvalid_1's auc: 0.645184\n",
      "[80]\ttraining's auc: 0.653565\tvalid_1's auc: 0.645177\n",
      "[81]\ttraining's auc: 0.653644\tvalid_1's auc: 0.645244\n",
      "[82]\ttraining's auc: 0.653725\tvalid_1's auc: 0.6451\n",
      "[83]\ttraining's auc: 0.653793\tvalid_1's auc: 0.645174\n",
      "[84]\ttraining's auc: 0.653881\tvalid_1's auc: 0.645234\n",
      "[85]\ttraining's auc: 0.653913\tvalid_1's auc: 0.645297\n",
      "[86]\ttraining's auc: 0.654004\tvalid_1's auc: 0.6454\n",
      "[87]\ttraining's auc: 0.654017\tvalid_1's auc: 0.64541\n",
      "[88]\ttraining's auc: 0.654029\tvalid_1's auc: 0.64543\n",
      "[89]\ttraining's auc: 0.654054\tvalid_1's auc: 0.645471\n",
      "[90]\ttraining's auc: 0.654097\tvalid_1's auc: 0.645475\n",
      "[91]\ttraining's auc: 0.654142\tvalid_1's auc: 0.645423\n",
      "[92]\ttraining's auc: 0.654183\tvalid_1's auc: 0.645397\n",
      "[93]\ttraining's auc: 0.654229\tvalid_1's auc: 0.645349\n",
      "[94]\ttraining's auc: 0.654287\tvalid_1's auc: 0.64522\n",
      "[95]\ttraining's auc: 0.654292\tvalid_1's auc: 0.645232\n",
      "[96]\ttraining's auc: 0.654302\tvalid_1's auc: 0.645233\n",
      "[97]\ttraining's auc: 0.654333\tvalid_1's auc: 0.645253\n",
      "[98]\ttraining's auc: 0.654357\tvalid_1's auc: 0.645256\n",
      "[99]\ttraining's auc: 0.654384\tvalid_1's auc: 0.645171\n",
      "[100]\ttraining's auc: 0.654391\tvalid_1's auc: 0.645167\n",
      "[101]\ttraining's auc: 0.65441\tvalid_1's auc: 0.645164\n",
      "[102]\ttraining's auc: 0.654472\tvalid_1's auc: 0.645251\n",
      "[103]\ttraining's auc: 0.654482\tvalid_1's auc: 0.645292\n",
      "[104]\ttraining's auc: 0.654482\tvalid_1's auc: 0.645272\n",
      "[105]\ttraining's auc: 0.65452\tvalid_1's auc: 0.645203\n",
      "[106]\ttraining's auc: 0.654549\tvalid_1's auc: 0.64523\n",
      "[107]\ttraining's auc: 0.654583\tvalid_1's auc: 0.645226\n",
      "[108]\ttraining's auc: 0.654614\tvalid_1's auc: 0.645201\n",
      "[109]\ttraining's auc: 0.654666\tvalid_1's auc: 0.645193\n",
      "[110]\ttraining's auc: 0.654673\tvalid_1's auc: 0.645209\n",
      "[111]\ttraining's auc: 0.654682\tvalid_1's auc: 0.64523\n",
      "[112]\ttraining's auc: 0.654704\tvalid_1's auc: 0.645279\n",
      "[113]\ttraining's auc: 0.654732\tvalid_1's auc: 0.645258\n",
      "[114]\ttraining's auc: 0.65475\tvalid_1's auc: 0.64522\n",
      "[115]\ttraining's auc: 0.654781\tvalid_1's auc: 0.645175\n",
      "[116]\ttraining's auc: 0.654789\tvalid_1's auc: 0.645189\n",
      "[117]\ttraining's auc: 0.654801\tvalid_1's auc: 0.64522\n",
      "[118]\ttraining's auc: 0.654815\tvalid_1's auc: 0.645226\n",
      "[119]\ttraining's auc: 0.654834\tvalid_1's auc: 0.645238\n",
      "[120]\ttraining's auc: 0.654837\tvalid_1's auc: 0.645258\n",
      "[121]\ttraining's auc: 0.654855\tvalid_1's auc: 0.645295\n",
      "[122]\ttraining's auc: 0.65486\tvalid_1's auc: 0.645292\n",
      "[123]\ttraining's auc: 0.654867\tvalid_1's auc: 0.645284\n",
      "[124]\ttraining's auc: 0.654892\tvalid_1's auc: 0.64527\n",
      "[125]\ttraining's auc: 0.654908\tvalid_1's auc: 0.645259\n",
      "[126]\ttraining's auc: 0.654913\tvalid_1's auc: 0.645263\n",
      "[127]\ttraining's auc: 0.65494\tvalid_1's auc: 0.64535\n",
      "[128]\ttraining's auc: 0.654942\tvalid_1's auc: 0.645363\n",
      "[129]\ttraining's auc: 0.654947\tvalid_1's auc: 0.645358\n",
      "[130]\ttraining's auc: 0.654952\tvalid_1's auc: 0.645374\n",
      "[131]\ttraining's auc: 0.654961\tvalid_1's auc: 0.64542\n",
      "[132]\ttraining's auc: 0.654976\tvalid_1's auc: 0.645408\n",
      "[133]\ttraining's auc: 0.655001\tvalid_1's auc: 0.645403\n",
      "[134]\ttraining's auc: 0.655045\tvalid_1's auc: 0.645423\n",
      "[135]\ttraining's auc: 0.65511\tvalid_1's auc: 0.645412\n",
      "[136]\ttraining's auc: 0.655114\tvalid_1's auc: 0.645415\n",
      "[137]\ttraining's auc: 0.655145\tvalid_1's auc: 0.645393\n",
      "[138]\ttraining's auc: 0.655149\tvalid_1's auc: 0.645378\n",
      "[139]\ttraining's auc: 0.655198\tvalid_1's auc: 0.645375\n",
      "[140]\ttraining's auc: 0.655217\tvalid_1's auc: 0.645389\n",
      "[141]\ttraining's auc: 0.655234\tvalid_1's auc: 0.64538\n",
      "[142]\ttraining's auc: 0.655236\tvalid_1's auc: 0.645401\n",
      "[143]\ttraining's auc: 0.655247\tvalid_1's auc: 0.645389\n",
      "[144]\ttraining's auc: 0.655252\tvalid_1's auc: 0.645409\n",
      "[145]\ttraining's auc: 0.655283\tvalid_1's auc: 0.645391\n",
      "[146]\ttraining's auc: 0.655289\tvalid_1's auc: 0.645412\n",
      "[147]\ttraining's auc: 0.655291\tvalid_1's auc: 0.64543\n",
      "[148]\ttraining's auc: 0.655308\tvalid_1's auc: 0.645446\n",
      "[149]\ttraining's auc: 0.655336\tvalid_1's auc: 0.645461\n",
      "[150]\ttraining's auc: 0.655341\tvalid_1's auc: 0.645485\n",
      "[151]\ttraining's auc: 0.655359\tvalid_1's auc: 0.64548\n",
      "[152]\ttraining's auc: 0.655364\tvalid_1's auc: 0.645468\n",
      "[153]\ttraining's auc: 0.655375\tvalid_1's auc: 0.645421\n",
      "[154]\ttraining's auc: 0.655402\tvalid_1's auc: 0.645392\n",
      "[155]\ttraining's auc: 0.655439\tvalid_1's auc: 0.645413\n",
      "[156]\ttraining's auc: 0.65546\tvalid_1's auc: 0.645398\n",
      "[157]\ttraining's auc: 0.655459\tvalid_1's auc: 0.645387\n",
      "[158]\ttraining's auc: 0.655459\tvalid_1's auc: 0.645378\n",
      "[159]\ttraining's auc: 0.655484\tvalid_1's auc: 0.645348\n",
      "[160]\ttraining's auc: 0.655494\tvalid_1's auc: 0.645356\n",
      "[161]\ttraining's auc: 0.655513\tvalid_1's auc: 0.645352\n",
      "[162]\ttraining's auc: 0.655533\tvalid_1's auc: 0.645336\n",
      "[163]\ttraining's auc: 0.655552\tvalid_1's auc: 0.645332\n",
      "[164]\ttraining's auc: 0.655569\tvalid_1's auc: 0.645314\n",
      "[165]\ttraining's auc: 0.655578\tvalid_1's auc: 0.645332\n",
      "[166]\ttraining's auc: 0.655594\tvalid_1's auc: 0.645333\n",
      "[167]\ttraining's auc: 0.655597\tvalid_1's auc: 0.645335\n",
      "[168]\ttraining's auc: 0.655619\tvalid_1's auc: 0.645341\n",
      "[169]\ttraining's auc: 0.655622\tvalid_1's auc: 0.645367\n",
      "[170]\ttraining's auc: 0.655635\tvalid_1's auc: 0.645356\n",
      "[171]\ttraining's auc: 0.655642\tvalid_1's auc: 0.645337\n",
      "[172]\ttraining's auc: 0.655656\tvalid_1's auc: 0.64533\n",
      "[173]\ttraining's auc: 0.655683\tvalid_1's auc: 0.645328\n",
      "[174]\ttraining's auc: 0.655691\tvalid_1's auc: 0.645313\n",
      "[175]\ttraining's auc: 0.655696\tvalid_1's auc: 0.645331\n",
      "[176]\ttraining's auc: 0.655695\tvalid_1's auc: 0.645332\n",
      "[177]\ttraining's auc: 0.655721\tvalid_1's auc: 0.64531\n",
      "[178]\ttraining's auc: 0.655746\tvalid_1's auc: 0.645275\n",
      "[179]\ttraining's auc: 0.65576\tvalid_1's auc: 0.645276\n",
      "[180]\ttraining's auc: 0.65577\tvalid_1's auc: 0.645276\n",
      "[181]\ttraining's auc: 0.655772\tvalid_1's auc: 0.645281\n",
      "[182]\ttraining's auc: 0.655783\tvalid_1's auc: 0.645263\n",
      "[183]\ttraining's auc: 0.655788\tvalid_1's auc: 0.645261\n",
      "[184]\ttraining's auc: 0.655816\tvalid_1's auc: 0.645273\n",
      "[185]\ttraining's auc: 0.655815\tvalid_1's auc: 0.645273\n",
      "[186]\ttraining's auc: 0.655824\tvalid_1's auc: 0.645272\n",
      "[187]\ttraining's auc: 0.655842\tvalid_1's auc: 0.645242\n",
      "[188]\ttraining's auc: 0.655857\tvalid_1's auc: 0.645275\n",
      "[189]\ttraining's auc: 0.655861\tvalid_1's auc: 0.645264\n",
      "[190]\ttraining's auc: 0.65586\tvalid_1's auc: 0.645256\n",
      "[191]\ttraining's auc: 0.655879\tvalid_1's auc: 0.645219\n",
      "[192]\ttraining's auc: 0.655882\tvalid_1's auc: 0.645211\n",
      "[193]\ttraining's auc: 0.655903\tvalid_1's auc: 0.645237\n",
      "[194]\ttraining's auc: 0.655907\tvalid_1's auc: 0.645238\n",
      "[195]\ttraining's auc: 0.655924\tvalid_1's auc: 0.645199\n",
      "[196]\ttraining's auc: 0.655926\tvalid_1's auc: 0.645208\n",
      "[197]\ttraining's auc: 0.655927\tvalid_1's auc: 0.645207\n",
      "[198]\ttraining's auc: 0.655946\tvalid_1's auc: 0.645168\n",
      "[199]\ttraining's auc: 0.65596\tvalid_1's auc: 0.645162\n",
      "[200]\ttraining's auc: 0.655971\tvalid_1's auc: 0.645197\n",
      "[201]\ttraining's auc: 0.655976\tvalid_1's auc: 0.645205\n",
      "[202]\ttraining's auc: 0.655994\tvalid_1's auc: 0.645184\n",
      "[203]\ttraining's auc: 0.656002\tvalid_1's auc: 0.645168\n",
      "[204]\ttraining's auc: 0.656017\tvalid_1's auc: 0.645159\n",
      "[205]\ttraining's auc: 0.656021\tvalid_1's auc: 0.645179\n",
      "[206]\ttraining's auc: 0.656046\tvalid_1's auc: 0.645148\n",
      "[207]\ttraining's auc: 0.656046\tvalid_1's auc: 0.645159\n",
      "[208]\ttraining's auc: 0.656062\tvalid_1's auc: 0.645133\n",
      "[209]\ttraining's auc: 0.656071\tvalid_1's auc: 0.645131\n",
      "[210]\ttraining's auc: 0.656079\tvalid_1's auc: 0.645149\n",
      "[211]\ttraining's auc: 0.656078\tvalid_1's auc: 0.645155\n",
      "[212]\ttraining's auc: 0.656083\tvalid_1's auc: 0.645144\n",
      "[213]\ttraining's auc: 0.656086\tvalid_1's auc: 0.645159\n",
      "[214]\ttraining's auc: 0.656089\tvalid_1's auc: 0.645159\n",
      "[215]\ttraining's auc: 0.656098\tvalid_1's auc: 0.645146\n",
      "[216]\ttraining's auc: 0.6561\tvalid_1's auc: 0.645158\n",
      "[217]\ttraining's auc: 0.65612\tvalid_1's auc: 0.645175\n",
      "[218]\ttraining's auc: 0.656146\tvalid_1's auc: 0.645201\n",
      "[219]\ttraining's auc: 0.656161\tvalid_1's auc: 0.645174\n",
      "[220]\ttraining's auc: 0.656174\tvalid_1's auc: 0.645176\n",
      "[221]\ttraining's auc: 0.656178\tvalid_1's auc: 0.645176\n",
      "[222]\ttraining's auc: 0.656179\tvalid_1's auc: 0.645192\n",
      "[223]\ttraining's auc: 0.656184\tvalid_1's auc: 0.64518\n",
      "[224]\ttraining's auc: 0.656196\tvalid_1's auc: 0.645175\n",
      "[225]\ttraining's auc: 0.656199\tvalid_1's auc: 0.645176\n",
      "[226]\ttraining's auc: 0.656219\tvalid_1's auc: 0.645165\n",
      "[227]\ttraining's auc: 0.656223\tvalid_1's auc: 0.645155\n",
      "[228]\ttraining's auc: 0.656225\tvalid_1's auc: 0.645153\n",
      "[229]\ttraining's auc: 0.656226\tvalid_1's auc: 0.645151\n",
      "[230]\ttraining's auc: 0.656238\tvalid_1's auc: 0.645181\n",
      "[231]\ttraining's auc: 0.65624\tvalid_1's auc: 0.645187\n",
      "[232]\ttraining's auc: 0.656243\tvalid_1's auc: 0.64517\n",
      "[233]\ttraining's auc: 0.656253\tvalid_1's auc: 0.645175\n",
      "[234]\ttraining's auc: 0.656257\tvalid_1's auc: 0.645183\n",
      "[235]\ttraining's auc: 0.656268\tvalid_1's auc: 0.645186\n",
      "[236]\ttraining's auc: 0.656282\tvalid_1's auc: 0.645172\n",
      "[237]\ttraining's auc: 0.656283\tvalid_1's auc: 0.645178\n",
      "[238]\ttraining's auc: 0.656298\tvalid_1's auc: 0.645178\n",
      "[239]\ttraining's auc: 0.656298\tvalid_1's auc: 0.645197\n",
      "[240]\ttraining's auc: 0.656307\tvalid_1's auc: 0.645204\n",
      "[241]\ttraining's auc: 0.656308\tvalid_1's auc: 0.64522\n",
      "[242]\ttraining's auc: 0.656309\tvalid_1's auc: 0.645235\n",
      "[243]\ttraining's auc: 0.656319\tvalid_1's auc: 0.64523\n",
      "[244]\ttraining's auc: 0.656322\tvalid_1's auc: 0.645231\n",
      "[245]\ttraining's auc: 0.656323\tvalid_1's auc: 0.645234\n",
      "[246]\ttraining's auc: 0.656338\tvalid_1's auc: 0.645233\n",
      "[247]\ttraining's auc: 0.656349\tvalid_1's auc: 0.645214\n",
      "[248]\ttraining's auc: 0.656361\tvalid_1's auc: 0.645197\n",
      "[249]\ttraining's auc: 0.656368\tvalid_1's auc: 0.645209\n",
      "[250]\ttraining's auc: 0.656375\tvalid_1's auc: 0.645228\n",
      "Early stopping, best iteration is:\n",
      "[150]\ttraining's auc: 0.655341\tvalid_1's auc: 0.645485\n"
     ]
    },
    {
     "data": {
      "text/html": [
       "<style>#sk-container-id-2 {color: black;background-color: white;}#sk-container-id-2 pre{padding: 0;}#sk-container-id-2 div.sk-toggleable {background-color: white;}#sk-container-id-2 label.sk-toggleable__label {cursor: pointer;display: block;width: 100%;margin-bottom: 0;padding: 0.3em;box-sizing: border-box;text-align: center;}#sk-container-id-2 label.sk-toggleable__label-arrow:before {content: \"▸\";float: left;margin-right: 0.25em;color: #696969;}#sk-container-id-2 label.sk-toggleable__label-arrow:hover:before {color: black;}#sk-container-id-2 div.sk-estimator:hover label.sk-toggleable__label-arrow:before {color: black;}#sk-container-id-2 div.sk-toggleable__content {max-height: 0;max-width: 0;overflow: hidden;text-align: left;background-color: #f0f8ff;}#sk-container-id-2 div.sk-toggleable__content pre {margin: 0.2em;color: black;border-radius: 0.25em;background-color: #f0f8ff;}#sk-container-id-2 input.sk-toggleable__control:checked~div.sk-toggleable__content {max-height: 200px;max-width: 100%;overflow: auto;}#sk-container-id-2 input.sk-toggleable__control:checked~label.sk-toggleable__label-arrow:before {content: \"▾\";}#sk-container-id-2 div.sk-estimator input.sk-toggleable__control:checked~label.sk-toggleable__label {background-color: #d4ebff;}#sk-container-id-2 div.sk-label input.sk-toggleable__control:checked~label.sk-toggleable__label {background-color: #d4ebff;}#sk-container-id-2 input.sk-hidden--visually {border: 0;clip: rect(1px 1px 1px 1px);clip: rect(1px, 1px, 1px, 1px);height: 1px;margin: -1px;overflow: hidden;padding: 0;position: absolute;width: 1px;}#sk-container-id-2 div.sk-estimator {font-family: monospace;background-color: #f0f8ff;border: 1px dotted black;border-radius: 0.25em;box-sizing: border-box;margin-bottom: 0.5em;}#sk-container-id-2 div.sk-estimator:hover {background-color: #d4ebff;}#sk-container-id-2 div.sk-parallel-item::after {content: \"\";width: 100%;border-bottom: 1px solid gray;flex-grow: 1;}#sk-container-id-2 div.sk-label:hover label.sk-toggleable__label {background-color: #d4ebff;}#sk-container-id-2 div.sk-serial::before {content: \"\";position: absolute;border-left: 1px solid gray;box-sizing: border-box;top: 0;bottom: 0;left: 50%;z-index: 0;}#sk-container-id-2 div.sk-serial {display: flex;flex-direction: column;align-items: center;background-color: white;padding-right: 0.2em;padding-left: 0.2em;position: relative;}#sk-container-id-2 div.sk-item {position: relative;z-index: 1;}#sk-container-id-2 div.sk-parallel {display: flex;align-items: stretch;justify-content: center;background-color: white;position: relative;}#sk-container-id-2 div.sk-item::before, #sk-container-id-2 div.sk-parallel-item::before {content: \"\";position: absolute;border-left: 1px solid gray;box-sizing: border-box;top: 0;bottom: 0;left: 50%;z-index: -1;}#sk-container-id-2 div.sk-parallel-item {display: flex;flex-direction: column;z-index: 1;position: relative;background-color: white;}#sk-container-id-2 div.sk-parallel-item:first-child::after {align-self: flex-end;width: 50%;}#sk-container-id-2 div.sk-parallel-item:last-child::after {align-self: flex-start;width: 50%;}#sk-container-id-2 div.sk-parallel-item:only-child::after {width: 0;}#sk-container-id-2 div.sk-dashed-wrapped {border: 1px dashed gray;margin: 0 0.4em 0.5em 0.4em;box-sizing: border-box;padding-bottom: 0.4em;background-color: white;}#sk-container-id-2 div.sk-label label {font-family: monospace;font-weight: bold;display: inline-block;line-height: 1.2em;}#sk-container-id-2 div.sk-label-container {text-align: center;}#sk-container-id-2 div.sk-container {/* jupyter's `normalize.less` sets `[hidden] { display: none; }` but bootstrap.min.css set `[hidden] { display: none !important; }` so we also need the `!important` here to be able to override the default hidden behavior on the sphinx rendered scikit-learn.org. See: https://github.com/scikit-learn/scikit-learn/issues/21755 */display: inline-block !important;position: relative;}#sk-container-id-2 div.sk-text-repr-fallback {display: none;}</style><div id=\"sk-container-id-2\" class=\"sk-top-container\"><div class=\"sk-text-repr-fallback\"><pre>LGBMClassifier(importance_type=&#x27;gain&#x27;, metric=&#x27;auc&#x27;, n_estimators=100000,\n",
       "               num_leaves=16, objective=&#x27;binary&#x27;, random_state=123)</pre><b>In a Jupyter environment, please rerun this cell to show the HTML representation or trust the notebook. <br />On GitHub, the HTML representation is unable to render, please try loading this page with nbviewer.org.</b></div><div class=\"sk-container\" hidden><div class=\"sk-item\"><div class=\"sk-estimator sk-toggleable\"><input class=\"sk-toggleable__control sk-hidden--visually\" id=\"sk-estimator-id-2\" type=\"checkbox\" checked><label for=\"sk-estimator-id-2\" class=\"sk-toggleable__label sk-toggleable__label-arrow\">LGBMClassifier</label><div class=\"sk-toggleable__content\"><pre>LGBMClassifier(importance_type=&#x27;gain&#x27;, metric=&#x27;auc&#x27;, n_estimators=100000,\n",
       "               num_leaves=16, objective=&#x27;binary&#x27;, random_state=123)</pre></div></div></div></div></div>"
      ],
      "text/plain": [
       "LGBMClassifier(importance_type='gain', metric='auc', n_estimators=100000,\n",
       "               num_leaves=16, objective='binary', random_state=123)"
      ]
     },
     "execution_count": 24,
     "metadata": {},
     "output_type": "execute_result"
    }
   ],
   "source": [
    "params = {\n",
    "    'boosting_type': 'gbdt',\n",
    "    'objective': 'binary', \n",
    "    'metric': 'auc',\n",
    "    'learning_rate': 0.1,\n",
    "    'num_leaves': 16,\n",
    "    'n_estimators': 100000,\n",
    "    \"random_state\": 123,\n",
    "    \"importance_type\": \"gain\",\n",
    "}\n",
    "model = lgb.LGBMClassifier(**params)\n",
    "model.fit(x_tr1,\n",
    "          y_tr1,\n",
    "          eval_set=[(x_tr1,y_tr1), (x_va1,y_va1)],\n",
    "          #early_stopping_rounds=100,\n",
    "          callbacks=[lgb.early_stopping(stopping_rounds=100, verbose=True),\n",
    "           lgb.log_evaluation()], # コマンドライン出力用コールバック関数　修正処理\n",
    "          #verbose=10,\n",
    "          eval_metric='auc',  # 早期停止の評価メトリックスを指定するのが良いです\n",
    "       )"
   ]
  },
  {
   "cell_type": "markdown",
   "id": "7203f522",
   "metadata": {
    "papermill": {
     "duration": 0.018767,
     "end_time": "2022-06-02T02:05:02.853316",
     "exception": false,
     "start_time": "2022-06-02T02:05:02.834549",
     "status": "completed"
    },
    "tags": []
   },
   "source": [
    "####  検証データとベースライン検証用データの予測値算出"
   ]
  },
  {
   "cell_type": "code",
   "execution_count": 25,
   "id": "68717b3c",
   "metadata": {
    "papermill": {
     "duration": 0.033358,
     "end_time": "2022-06-02T02:05:02.905806",
     "exception": false,
     "start_time": "2022-06-02T02:05:02.872448",
     "status": "completed"
    },
    "tags": []
   },
   "outputs": [],
   "source": [
    "# 通常の検証データの予測値計算\n",
    "y_va1_pred = model.predict_proba(x_va1)[:, 1]\n",
    "# ベースライン検証用データの予測値計算\n",
    "y_va2_pred = model.predict_proba(x_va2)[:, 1]"
   ]
  },
  {
   "cell_type": "markdown",
   "id": "90ae41f5",
   "metadata": {
    "papermill": {
     "duration": 0.018643,
     "end_time": "2022-06-02T02:05:02.946890",
     "exception": false,
     "start_time": "2022-06-02T02:05:02.928247",
     "status": "completed"
    },
    "tags": []
   },
   "source": [
    "#### モデル精度の比較"
   ]
  },
  {
   "cell_type": "code",
   "execution_count": 26,
   "id": "23b9bec9",
   "metadata": {
    "papermill": {
     "duration": 0.03197,
     "end_time": "2022-06-02T02:05:02.997999",
     "exception": false,
     "start_time": "2022-06-02T02:05:02.966029",
     "status": "completed"
    },
    "tags": []
   },
   "outputs": [
    {
     "name": "stdout",
     "output_type": "stream",
     "text": [
      "[検証データ] acc: 0.6455\n",
      "[ベースライン検証用データ] acc: 0.6401\n"
     ]
    }
   ],
   "source": [
    "print(\"[検証データ] acc: {:.4f}\".format(roc_auc_score(y_va1, y_va1_pred)))\n",
    "print(\"[ベースライン検証用データ] acc: {:.4f}\".format(roc_auc_score(y_va2, y_va2_pred)))"
   ]
  },
  {
   "cell_type": "markdown",
   "id": "86a8e89f",
   "metadata": {
    "papermill": {
     "duration": 0.018816,
     "end_time": "2022-06-02T02:05:03.036420",
     "exception": false,
     "start_time": "2022-06-02T02:05:03.017604",
     "status": "completed"
    },
    "tags": []
   },
   "source": [
    "####  誤差分布の比較"
   ]
  },
  {
   "cell_type": "code",
   "execution_count": 27,
   "id": "172765ea",
   "metadata": {
    "papermill": {
     "duration": 0.033927,
     "end_time": "2022-06-02T02:05:03.089362",
     "exception": false,
     "start_time": "2022-06-02T02:05:03.055435",
     "status": "completed"
    },
    "tags": []
   },
   "outputs": [],
   "source": [
    "#本コンペは連続値の予測であり、confusion_matrix()にy_pred、y_va1_pred等の連続値予測を渡すことが出来ないため不実施。\n",
    "#print(\"検証データ\")\n",
    "#print(confusion_matrix(y_va1, y_va1_pred))\n",
    "#print(confusion_matrix(y_va1, y_va1_pred, normalize=\"all\"))\n",
    "#print(\"ベースライン検証用データ\")\n",
    "#print(confusion_matrix(y_va2, y_va2_pred))\n",
    "#print(confusion_matrix(y_va2, y_va2_pred, normalize=\"all\"))\n"
   ]
  },
  {
   "cell_type": "markdown",
   "id": "37af6bc6",
   "metadata": {
    "papermill": {
     "duration": 0.018769,
     "end_time": "2022-06-02T02:05:03.127174",
     "exception": false,
     "start_time": "2022-06-02T02:05:03.108405",
     "status": "completed"
    },
    "tags": []
   },
   "source": [
    "#### 予測値の分布比較"
   ]
  },
  {
   "cell_type": "code",
   "execution_count": 28,
   "id": "c19b7cb9",
   "metadata": {
    "papermill": {
     "duration": 0.484369,
     "end_time": "2022-06-02T02:05:03.630578",
     "exception": false,
     "start_time": "2022-06-02T02:05:03.146209",
     "status": "completed"
    },
    "tags": []
   },
   "outputs": [
    {
     "data": {
      "text/plain": [
       "<matplotlib.legend.Legend at 0x211ad235750>"
      ]
     },
     "execution_count": 28,
     "metadata": {},
     "output_type": "execute_result"
    },
    {
     "data": {
      "image/png": "[encoded data removed]",
      "text/plain": [
       "<Figure size 1000x800 with 2 Axes>"
      ]
     },
     "metadata": {},
     "output_type": "display_data"
    }
   ],
   "source": [
    "# 予測値の確率値算出\n",
    "y_va1_pred_prob = model.predict_proba(x_va1)[:,1]\n",
    "y_va2_pred_prob = model.predict_proba(x_va2)[:,1]\n",
    "\n",
    "# 確率値をヒストグラムで可視化\n",
    "fig = plt.figure(figsize=(10,8))\n",
    "# 検証データ\n",
    "fig.add_subplot(2,1,1)\n",
    "plt.title(\"検証データ\")\n",
    "plt.hist(y_va1_pred_prob[np.array(y_va1).reshape(-1)==1], bins=10, alpha=0.5, label=\"1\")\n",
    "plt.hist(y_va1_pred_prob[np.array(y_va1).reshape(-1)==0], bins=10, alpha=0.5, label=\"0\")\n",
    "plt.grid()\n",
    "plt.legend()\n",
    "# ベースライン検証用データ\n",
    "fig.add_subplot(2,1,2)\n",
    "plt.title(\"ベースライン検証用データ\")\n",
    "plt.hist(y_va2_pred_prob[np.array(y_va2).reshape(-1)==1], bins=10, alpha=0.5, label=\"1\")\n",
    "plt.hist(y_va2_pred_prob[np.array(y_va2).reshape(-1)==0], bins=10, alpha=0.5, label=\"0\")\n",
    "plt.grid()\n",
    "plt.legend()"
   ]
  },
  {
   "cell_type": "markdown",
   "id": "6ace778e",
   "metadata": {
    "papermill": {
     "duration": 0.019214,
     "end_time": "2022-06-02T02:05:03.669606",
     "exception": false,
     "start_time": "2022-06-02T02:05:03.650392",
     "status": "completed"
    },
    "tags": []
   },
   "source": [
    "# モデル推論\n",
    "## 推論データセット作成\n",
    "#### 推論用データセットの作成"
   ]
  },
  {
   "cell_type": "code",
   "execution_count": 29,
   "id": "784d0ce6",
   "metadata": {
    "papermill": {
     "duration": 0.040372,
     "end_time": "2022-06-02T02:05:03.729774",
     "exception": false,
     "start_time": "2022-06-02T02:05:03.689402",
     "status": "completed"
    },
    "tags": []
   },
   "outputs": [],
   "source": [
    "df_test = pd.read_csv(\"Bank Churn/test.csv\")\n",
    "x_test = df_test[[\"IsActiveMember\",\"EstimatedSalary\"]]\n",
    "id_test = df_test[[\"id\"]]"
   ]
  },
  {
   "cell_type": "code",
   "execution_count": 30,
   "id": "458862c2-8a87-4955-a56d-c80d61aa5e77",
   "metadata": {},
   "outputs": [
    {
     "data": {
      "text/html": [
       "<div>\n",
       "<style scoped>\n",
       "    .dataframe tbody tr th:only-of-type {\n",
       "        vertical-align: middle;\n",
       "    }\n",
       "\n",
       "    .dataframe tbody tr th {\n",
       "        vertical-align: top;\n",
       "    }\n",
       "\n",
       "    .dataframe thead th {\n",
       "        text-align: right;\n",
       "    }\n",
       "</style>\n",
       "<table border=\"1\" class=\"dataframe\">\n",
       "  <thead>\n",
       "    <tr style=\"text-align: right;\">\n",
       "      <th></th>\n",
       "      <th>IsActiveMember</th>\n",
       "      <th>EstimatedSalary</th>\n",
       "    </tr>\n",
       "  </thead>\n",
       "  <tbody>\n",
       "    <tr>\n",
       "      <th>0</th>\n",
       "      <td>1.0</td>\n",
       "      <td>160976.75</td>\n",
       "    </tr>\n",
       "    <tr>\n",
       "      <th>1</th>\n",
       "      <td>0.0</td>\n",
       "      <td>72549.27</td>\n",
       "    </tr>\n",
       "    <tr>\n",
       "      <th>2</th>\n",
       "      <td>0.0</td>\n",
       "      <td>138882.09</td>\n",
       "    </tr>\n",
       "    <tr>\n",
       "      <th>3</th>\n",
       "      <td>0.0</td>\n",
       "      <td>113931.57</td>\n",
       "    </tr>\n",
       "    <tr>\n",
       "      <th>4</th>\n",
       "      <td>0.0</td>\n",
       "      <td>139431.00</td>\n",
       "    </tr>\n",
       "    <tr>\n",
       "      <th>...</th>\n",
       "      <td>...</td>\n",
       "      <td>...</td>\n",
       "    </tr>\n",
       "    <tr>\n",
       "      <th>110018</th>\n",
       "      <td>1.0</td>\n",
       "      <td>148087.62</td>\n",
       "    </tr>\n",
       "    <tr>\n",
       "      <th>110019</th>\n",
       "      <td>1.0</td>\n",
       "      <td>42181.68</td>\n",
       "    </tr>\n",
       "    <tr>\n",
       "      <th>110020</th>\n",
       "      <td>0.0</td>\n",
       "      <td>16287.38</td>\n",
       "    </tr>\n",
       "    <tr>\n",
       "      <th>110021</th>\n",
       "      <td>1.0</td>\n",
       "      <td>158816.58</td>\n",
       "    </tr>\n",
       "    <tr>\n",
       "      <th>110022</th>\n",
       "      <td>0.0</td>\n",
       "      <td>24210.56</td>\n",
       "    </tr>\n",
       "  </tbody>\n",
       "</table>\n",
       "<p>110023 rows × 2 columns</p>\n",
       "</div>"
      ],
      "text/plain": [
       "        IsActiveMember  EstimatedSalary\n",
       "0                  1.0        160976.75\n",
       "1                  0.0         72549.27\n",
       "2                  0.0        138882.09\n",
       "3                  0.0        113931.57\n",
       "4                  0.0        139431.00\n",
       "...                ...              ...\n",
       "110018             1.0        148087.62\n",
       "110019             1.0         42181.68\n",
       "110020             0.0         16287.38\n",
       "110021             1.0        158816.58\n",
       "110022             0.0         24210.56\n",
       "\n",
       "[110023 rows x 2 columns]"
      ]
     },
     "execution_count": 30,
     "metadata": {},
     "output_type": "execute_result"
    }
   ],
   "source": [
    "x_test"
   ]
  },
  {
   "cell_type": "markdown",
   "id": "bdb397bf",
   "metadata": {
    "papermill": {
     "duration": 0.019681,
     "end_time": "2022-06-02T02:05:03.770330",
     "exception": false,
     "start_time": "2022-06-02T02:05:03.750649",
     "status": "completed"
    },
    "tags": []
   },
   "source": [
    "## 学習済モデルを用いた推論\n",
    "#### 学習モデルによる推論"
   ]
  },
  {
   "cell_type": "code",
   "execution_count": 31,
   "id": "5a20c845",
   "metadata": {
    "papermill": {
     "duration": 0.047094,
     "end_time": "2022-06-02T02:05:03.837666",
     "exception": false,
     "start_time": "2022-06-02T02:05:03.790572",
     "status": "completed"
    },
    "tags": []
   },
   "outputs": [],
   "source": [
    "y_test_pred = model.predict_proba(x_test)"
   ]
  },
  {
   "cell_type": "markdown",
   "id": "8805eafb",
   "metadata": {
    "papermill": {
     "duration": 0.019405,
     "end_time": "2022-06-02T02:05:03.877282",
     "exception": false,
     "start_time": "2022-06-02T02:05:03.857877",
     "status": "completed"
    },
    "tags": []
   },
   "source": [
    "#### 提出用ファイルの作成"
   ]
  },
  {
   "cell_type": "code",
   "execution_count": 32,
   "id": "d48d0435",
   "metadata": {
    "papermill": {
     "duration": 0.038107,
     "end_time": "2022-06-02T02:05:03.935050",
     "exception": false,
     "start_time": "2022-06-02T02:05:03.896943",
     "status": "completed"
    },
    "scrolled": true,
    "tags": []
   },
   "outputs": [
    {
     "data": {
      "text/html": [
       "<div>\n",
       "<style scoped>\n",
       "    .dataframe tbody tr th:only-of-type {\n",
       "        vertical-align: middle;\n",
       "    }\n",
       "\n",
       "    .dataframe tbody tr th {\n",
       "        vertical-align: top;\n",
       "    }\n",
       "\n",
       "    .dataframe thead th {\n",
       "        text-align: right;\n",
       "    }\n",
       "</style>\n",
       "<table border=\"1\" class=\"dataframe\">\n",
       "  <thead>\n",
       "    <tr style=\"text-align: right;\">\n",
       "      <th></th>\n",
       "      <th>id</th>\n",
       "      <th>Exited</th>\n",
       "    </tr>\n",
       "  </thead>\n",
       "  <tbody>\n",
       "    <tr>\n",
       "      <th>0</th>\n",
       "      <td>165034</td>\n",
       "      <td>0.126898</td>\n",
       "    </tr>\n",
       "    <tr>\n",
       "      <th>1</th>\n",
       "      <td>165035</td>\n",
       "      <td>0.311304</td>\n",
       "    </tr>\n",
       "    <tr>\n",
       "      <th>2</th>\n",
       "      <td>165036</td>\n",
       "      <td>0.314091</td>\n",
       "    </tr>\n",
       "    <tr>\n",
       "      <th>3</th>\n",
       "      <td>165037</td>\n",
       "      <td>0.341760</td>\n",
       "    </tr>\n",
       "    <tr>\n",
       "      <th>4</th>\n",
       "      <td>165038</td>\n",
       "      <td>0.314091</td>\n",
       "    </tr>\n",
       "  </tbody>\n",
       "</table>\n",
       "</div>"
      ],
      "text/plain": [
       "       id    Exited\n",
       "0  165034  0.126898\n",
       "1  165035  0.311304\n",
       "2  165036  0.314091\n",
       "3  165037  0.341760\n",
       "4  165038  0.314091"
      ]
     },
     "metadata": {},
     "output_type": "display_data"
    }
   ],
   "source": [
    "df_submit = pd.DataFrame({\"id\": id_test[\"id\"], \"Exited\": y_test_pred[:, 1]})\n",
    "display(df_submit.head(5))\n",
    "df_submit.to_csv(\"submission_baseline.csv\", index=None)\n",
    " "
   ]
  }
 ],
 "metadata": {
  "kernelspec": {
   "display_name": "Python 3 (ipykernel)",
   "language": "python",
   "name": "python3"
  },
  "language_info": {
   "codemirror_mode": {
    "name": "ipython",
    "version": 3
   },
   "file_extension": ".py",
   "mimetype": "text/x-python",
   "name": "python",
   "nbconvert_exporter": "python",
   "pygments_lexer": "ipython3",
   "version": "3.11.7"
  },
  "papermill": {
   "default_parameters": {},
   "duration": 47.815767,
   "end_time": "2022-06-02T02:05:05.017930",
   "environment_variables": {},
   "exception": null,
   "input_path": "__notebook__.ipynb",
   "output_path": "__notebook__.ipynb",
   "parameters": {},
   "start_time": "2022-06-02T02:04:17.202163",
   "version": "2.3.4"
  }
 },
 "nbformat": 4,
 "nbformat_minor": 5
}
